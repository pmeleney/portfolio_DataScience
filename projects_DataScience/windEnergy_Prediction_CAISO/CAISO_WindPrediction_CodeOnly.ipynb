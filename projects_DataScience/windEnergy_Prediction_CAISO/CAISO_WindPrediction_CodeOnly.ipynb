{
 "cells": [
  {
   "cell_type": "markdown",
   "metadata": {},
   "source": [
    "Peter Meleney  \n",
    "03/28/16   \n",
    "v0.1.15 \n",
    "  \n",
    "<h1 align=\"center\">  Predicting Output from Wind Farms in the California Independent System Operator (CAISO) Grid </h1>"
   ]
  },
  {
   "cell_type": "code",
   "execution_count": 13,
   "metadata": {
    "collapsed": true
   },
   "outputs": [],
   "source": [
    "#Dependencies\n",
    "import pandas as pd\n",
    "import numpy as np\n",
    "import matplotlib.pyplot as plt\n",
    "\n",
    "import pylab\n",
    "import glob\n",
    "import time\n",
    "import datetime\n",
    "\n",
    "from __future__ import division\n",
    "from IPython.display import Image\n",
    "from patsy import dmatrices, dmatrix\n",
    "\n",
    "from sklearn.ensemble.forest import RandomForestRegressor\n",
    "from sklearn.svm import SVR\n",
    "from sklearn.preprocessing import StandardScaler\n",
    "from sklearn.grid_search import GridSearchCV\n",
    "from sklearn.cross_validation import PredefinedSplit, cross_val_score\n",
    "from sklearn.metrics import make_scorer, mean_squared_error\n",
    "\n",
    "%matplotlib inline"
   ]
  },
  {
   "cell_type": "markdown",
   "metadata": {},
   "source": [
    "##1.1 CAISO Generation Data"
   ]
  },
  {
   "cell_type": "code",
   "execution_count": 14,
   "metadata": {
    "collapsed": false,
    "scrolled": false
   },
   "outputs": [],
   "source": [
    "# I will fill in the capacity of the CAISO wind system will be done by hand.  This dataframe is NaN by default.\n",
    "\n",
    "windCap_CAISO = pd.DataFrame(45072*[np.NaN], \n",
    "                             index = pd.date_range(start = pd.to_datetime('2010-04-10 00:00:00'), \n",
    "                                                   end = pd.to_datetime('2015-05-31 23:00:00'), freq = 'H'), \n",
    "                             columns = ['CAISO_WindCapacity'])"
   ]
  },
  {
   "cell_type": "code",
   "execution_count": 15,
   "metadata": {
    "collapsed": true
   },
   "outputs": [],
   "source": [
    "# I calculated the CAISO system capacity by hand. The raw data used in this\n",
    "# calculation is available in MasterControlAreaGeneratingCapabilityList.xls.\n",
    "# Days in which new wind farms come oneline are excluded from this dataframe, and\n",
    "# will be excluded from the model, because I don't know what time of day they were activated.\n",
    "\n",
    "windCap_CAISO[pd.to_datetime('2010-04-10'):pd.to_datetime('2010-11-18 23:00:00')] = 2497.58\n",
    "windCap_CAISO[pd.to_datetime('2010-11-20'):pd.to_datetime('2010-12-28 23:00:00')] = 2581.58\n",
    "windCap_CAISO[pd.to_datetime('2010-12-30'):pd.to_datetime('2011-01-24 23:00:00')] = 2881.58\n",
    "windCap_CAISO[pd.to_datetime('2011-01-26'):pd.to_datetime('2011-02-11 23:00:00')] = 2918.38\n",
    "windCap_CAISO[pd.to_datetime('2011-02-13'):pd.to_datetime('2011-02-20 23:00:00')] = 3068.38\n",
    "windCap_CAISO[pd.to_datetime('2011-02-22'):pd.to_datetime('2011-03-11 23:00:00')] = 3090.88\n",
    "windCap_CAISO[pd.to_datetime('2011-03-13'):pd.to_datetime('2011-04-20 23:00:00')] = 3192.88\n",
    "windCap_CAISO[pd.to_datetime('2011-04-22'):pd.to_datetime('2011-12-21 23:00:00')] = 3360.88\n",
    "windCap_CAISO[pd.to_datetime('2011-12-23'):pd.to_datetime('2012-01-27 23:00:00')] = 3463.38\n",
    "windCap_CAISO[pd.to_datetime('2012-02-02'):pd.to_datetime('2012-02-22 23:00:00')] = 3811.58\n",
    "windCap_CAISO[pd.to_datetime('2012-02-24'):pd.to_datetime('2012-03-28 23:00:00')] = 3860.58\n",
    "windCap_CAISO[pd.to_datetime('2012-03-30'):pd.to_datetime('2012-04-17 23:00:00')] = 3962.58\n",
    "windCap_CAISO[pd.to_datetime('2012-04-19'):pd.to_datetime('2012-05-08 23:00:00')] = 4090.38\n",
    "windCap_CAISO[pd.to_datetime('2012-05-10'):pd.to_datetime('2012-09-11 23:00:00')] = 4240.38\n",
    "windCap_CAISO[pd.to_datetime('2012-09-13'):pd.to_datetime('2012-12-06 23:00:00')] = 4380.38\n",
    "windCap_CAISO[pd.to_datetime('2013-01-02'):pd.to_datetime('2013-05-16 23:00:00')] = 5206.38\n",
    "windCap_CAISO[pd.to_datetime('2013-05-18'):pd.to_datetime('2013-07-29 23:00:00')] = 5226.33\n",
    "windCap_CAISO[pd.to_datetime('2013-07-31'):pd.to_datetime('2014-12-31 23:00:00')] = 5491.33\n",
    "windCap_CAISO[pd.to_datetime('2015-01-02'):pd.to_datetime('2015-01-11 23:00:00')] = 5719.33\n",
    "windCap_CAISO[pd.to_datetime('2015-01-13'):pd.to_datetime('2015-01-25 23:00:00')] = 5818.33\n",
    "windCap_CAISO[pd.to_datetime('2015-01-27'):pd.to_datetime('2015-05-31 23:00:00')] = 5829.53"
   ]
  },
  {
   "cell_type": "code",
   "execution_count": 16,
   "metadata": {
    "collapsed": true
   },
   "outputs": [],
   "source": [
    "#List of all CAISO renewables report names\n",
    "CAISO_fileList = glob.glob('data/rawData/CAISO_renewablesWatch/*.txt')"
   ]
  },
  {
   "cell_type": "code",
   "execution_count": 17,
   "metadata": {
    "collapsed": false
   },
   "outputs": [
    {
     "name": "stdout",
     "output_type": "stream",
     "text": [
      "The length of the file list is :  1865\n",
      "The expected length of the DataFrame is: 44760\n"
     ]
    }
   ],
   "source": [
    "#Count of the length of file_list, and the expected length of the final DataFrame\n",
    "\n",
    "print 'The length of the file list is : ', len(CAISO_fileList)\n",
    "print 'The expected length of the DataFrame is: ' + str(24*len(CAISO_fileList))"
   ]
  },
  {
   "cell_type": "code",
   "execution_count": 18,
   "metadata": {
    "collapsed": true
   },
   "outputs": [],
   "source": [
    "# This is a list of file that the data import loop skips.  \n",
    "# I'm not sure how CAISO dealt with daylight savings time.  Daylight savings days are skipped\n",
    "\n",
    "CAISO_skipList = ['data/rawData/CAISO_renewablesWatch/20100806_DailyRenewablesWatch.txt', #Data Corrupt [No data for calculation]\n",
    "                  'data/rawData/CAISO_renewablesWatch/20101029_DailyRenewablesWatch.txt', #Contains unusable data\n",
    "                  'data/rawData/CAISO_renewablesWatch/20101107_DailyRenewablesWatch.txt', #daylight savings\n",
    "                  'data/rawData/CAISO_renewablesWatch/20110313_DailyRenewablesWatch.txt', #daylight savings\n",
    "                  'data/rawData/CAISO_renewablesWatch/20110630_DailyRenewablesWatch.txt', #Data Corrupt [Connection to the server lost]\n",
    "                  'data/rawData/CAISO_renewablesWatch/20110716_DailyRenewablesWatch.txt', #Data corrupt #NAME?\n",
    "                  'data/rawData/CAISO_renewablesWatch/20111106_DailyRenewablesWatch.txt', #daylight savings\n",
    "                  'data/rawData/CAISO_renewablesWatch/20120228_DailyRenewablesWatch.txt', #dtype float, normally int\n",
    "                  'data/rawData/CAISO_renewablesWatch/20120311_DailyRenewablesWatch.txt', #daylight savings\n",
    "                  'data/rawData/CAISO_renewablesWatch/20130310_DailyRenewablesWatch.txt', #daylight savings\n",
    "                  'data/rawData/CAISO_renewablesWatch/20131103_DailyRenewablesWatch.txt', #daylight savings\n",
    "                  'data/rawData/CAISO_renewablesWatch/20140309_DailyRenewablesWatch.txt', #daylight savings\n",
    "                  'data/rawData/CAISO_renewablesWatch/20141102_DailyRenewablesWatch.txt', #daylight savings\n",
    "                  'data/rawData/CAISO_renewablesWatch/20150308_DailyRenewablesWatch.txt'] #daylight savings\n"
   ]
  },
  {
   "cell_type": "code",
   "execution_count": 19,
   "metadata": {
    "collapsed": false
   },
   "outputs": [],
   "source": [
    "raw_CAISO = pd.DataFrame([], columns = ['WindTotal'])\n",
    "\n",
    "for f in CAISO_fileList:\n",
    "    if f in CAISO_skipList:\n",
    "        continue\n",
    "        \n",
    "    raw_CAISOHolder = pd.read_csv(f, sep = None, engine = 'python', header = True) #import each file\n",
    "    \n",
    "    \n",
    "    #pd.read_csv sometimes improperly assigns column names.  How this occurs changes based on the number\n",
    "    #of columns in the .txt file.  I handle the issue by directly naming the columns here.\n",
    "    if raw_CAISOHolder.shape[1] == 14:\n",
    "        raw_CAISOHolder.columns = ['BLANK', 'Hour','BLANK','Geothermal','BLANK', 'Biomass','BLANK', 'Biogas', \n",
    "                'BLANK','Small Hydro','BLANK', 'WindTotal', 'BLANK','SolarPV' ]\n",
    "    elif raw_CAISOHolder.shape[1] == 16:\n",
    "        raw_CAISOHolder.columns = ['NONE', 'Hour','NONE','Geothermal','NONE', 'Biomass','NONE', 'Biogas', \n",
    "                'NONE','Small Hydro','NONE', 'WindTotal', 'NONE','SolarPV','NONE','SolarThermal' ]\n",
    "    elif raw_CAISOHolder.shape[1] == 17:\n",
    "        raw_CAISOHolder.columns = ['NONE', 'Hour','NONE','Geothermal','NONE', 'Biomass','NONE', 'Biogas', \n",
    "                'NONE','Small Hydro','NONE', 'WindTotal', 'NONE','SolarPV','NONE','NONE','SolarThermal']\n",
    "    elif raw_CAISOHolder.shape[1] == 18:\n",
    "        raw_CAISOHolder.columns = ['NONE', 'Hour','NONE','Geothermal','NONE', 'Biomass','NONE', 'Biogas', \n",
    "                'NONE','Small Hydro','NONE', 'WindTotal', 'NONE','SolarPV','NONE','SolarThermal','NONE','NONE' ]\n",
    "    \n",
    "    \n",
    "    raw_CAISOHolder = raw_CAISOHolder.iloc[0:24,:] #Select rows that contain Wind data\n",
    "    raw_CAISOHolder.Hour = raw_CAISOHolder.Hour.astype(int) - 1 #CAISO hours are 1-indexed, change to 0-index to match datetime\n",
    "    raw_CAISOHolder['INDEX'] = f[35:43] + '_' + raw_CAISOHolder.Hour.astype(str) #Extract date from filename\n",
    "    raw_CAISOHolder = raw_CAISOHolder.loc[:,('INDEX', 'WindTotal')] #Remove irrelevant columns\n",
    "    raw_CAISOHolder.index = pd.to_datetime(raw_CAISOHolder.INDEX[0:24], format = \"%Y%m%d_%H\") #Reindex to datetime dtype\n",
    "    raw_CAISOHolder = raw_CAISOHolder.drop(['INDEX'], axis = 1) #Drop INDEX column, no longer needed\n",
    "    \n",
    "    raw_CAISO = pd.concat([raw_CAISO, raw_CAISOHolder], axis = 0) #build rawData from each file iteratively\n",
    "\n",
    "raw_CAISO.columns = ['WindOutput_MW']\n",
    "raw_CAISO.WindOutput_MW = raw_CAISO.WindOutput_MW.astype(int)"
   ]
  },
  {
   "cell_type": "code",
   "execution_count": 20,
   "metadata": {
    "collapsed": false
   },
   "outputs": [
    {
     "data": {
      "text/html": [
       "<div>\n",
       "<table border=\"1\" class=\"dataframe\">\n",
       "  <thead>\n",
       "    <tr style=\"text-align: right;\">\n",
       "      <th></th>\n",
       "      <th>WindOutput_MW</th>\n",
       "    </tr>\n",
       "  </thead>\n",
       "  <tbody>\n",
       "    <tr>\n",
       "      <th>2010-04-25 13:00:00</th>\n",
       "      <td>-2</td>\n",
       "    </tr>\n",
       "    <tr>\n",
       "      <th>2010-07-15 10:00:00</th>\n",
       "      <td>-15</td>\n",
       "    </tr>\n",
       "    <tr>\n",
       "      <th>2010-07-15 11:00:00</th>\n",
       "      <td>-21</td>\n",
       "    </tr>\n",
       "    <tr>\n",
       "      <th>2010-07-15 12:00:00</th>\n",
       "      <td>-12</td>\n",
       "    </tr>\n",
       "    <tr>\n",
       "      <th>2010-07-15 13:00:00</th>\n",
       "      <td>-7</td>\n",
       "    </tr>\n",
       "    <tr>\n",
       "      <th>2010-12-02 05:00:00</th>\n",
       "      <td>-1</td>\n",
       "    </tr>\n",
       "    <tr>\n",
       "      <th>2010-12-02 07:00:00</th>\n",
       "      <td>-1</td>\n",
       "    </tr>\n",
       "    <tr>\n",
       "      <th>2010-12-02 08:00:00</th>\n",
       "      <td>-2</td>\n",
       "    </tr>\n",
       "  </tbody>\n",
       "</table>\n",
       "</div>"
      ],
      "text/plain": [
       "                     WindOutput_MW\n",
       "2010-04-25 13:00:00             -2\n",
       "2010-07-15 10:00:00            -15\n",
       "2010-07-15 11:00:00            -21\n",
       "2010-07-15 12:00:00            -12\n",
       "2010-07-15 13:00:00             -7\n",
       "2010-12-02 05:00:00             -1\n",
       "2010-12-02 07:00:00             -1\n",
       "2010-12-02 08:00:00             -2"
      ]
     },
     "execution_count": 20,
     "metadata": {},
     "output_type": "execute_result"
    }
   ],
   "source": [
    "#Several hours indicate that power was consumed by wind farms.  I leave thses data in the model, they don't\n",
    "#appear to affect the outcome much, but it is good to be aware that the power flow is not always positive\n",
    "#in the training set.\n",
    "\n",
    "raw_CAISO.loc[raw_CAISO.WindOutput_MW < 0]"
   ]
  },
  {
   "cell_type": "markdown",
   "metadata": {},
   "source": [
    "##1.2 NOAA Weather Data"
   ]
  },
  {
   "cell_type": "code",
   "execution_count": 39,
   "metadata": {
    "collapsed": false
   },
   "outputs": [],
   "source": [
    "#Lists all the files in the data folder\n",
    "\n",
    "file_list_CAMPO = glob.glob('data/rawData/NOAA_rawWeatherStationData/CAMPO/*.html')\n",
    "file_list_Livermore = glob.glob('data/rawData/NOAA_rawWeatherStationData/LivermoreMuniApt/*.html')\n",
    "file_list_PSIA = glob.glob('data/rawData/NOAA_rawWeatherStationData/PalmSpringsIntlApt/*.html')\n",
    "file_list_PortChicago = glob.glob('data/rawData/NOAA_rawWeatherStationData/PortChicago/*.html')\n",
    "file_list_Redding = glob.glob('data/rawData/NOAA_rawWeatherStationData/ReddingMuniApt/*.html')\n",
    "file_list_Tehachapi = glob.glob('data/rawData/NOAA_rawWeatherStationData/TehachapiMunicipal/*.html')"
   ]
  },
  {
   "cell_type": "code",
   "execution_count": 40,
   "metadata": {
    "collapsed": false
   },
   "outputs": [
    {
     "data": {
      "text/plain": [
       "[62, 62, 62, 62, 62, 62]"
      ]
     },
     "execution_count": 40,
     "metadata": {},
     "output_type": "execute_result"
    }
   ],
   "source": [
    "#All file lists should have 62 elements.  One for each month 4/2010 - 5/2015 inclusive.\n",
    "\n",
    "[len(file_list_CAMPO),\n",
    "len(file_list_Livermore),\n",
    "len(file_list_PSIA),\n",
    "len(file_list_PortChicago),\n",
    "len(file_list_Redding),\n",
    "len(file_list_Tehachapi)]"
   ]
  },
  {
   "cell_type": "code",
   "execution_count": 41,
   "metadata": {
    "collapsed": false
   },
   "outputs": [],
   "source": [
    "#Programatically load NOAA station observation data into pd.DataFrame with appropriately\n",
    "#named columns.  These DataFrames will be concatinated later, so column names should be\n",
    "#unique.\n",
    "\n",
    "#file_list is a list of files to be loaded, NOAAStation is a str to be concatinated \n",
    "#with the column titles.  Returns a pd.DataFrame.\n",
    "\n",
    "def loadNOAAData(file_list, NOAAStation):\n",
    "    \n",
    "    DataHolder = pd.DataFrame([])\n",
    "    \n",
    "    #Load HTML file into DataHolder\n",
    "    for f in file_list:\n",
    "        data_raw = pd.read_html(f)\n",
    "        data_raw = pd.DataFrame(data_raw[1])\n",
    "        data_raw.columns = data_raw.iloc[0,:]\n",
    "        data_raw = data_raw.iloc[2:,:]\n",
    "        data_raw = data_raw[['YR--MODAHRMN','DIR',\n",
    "                        'SPD','GUS','TEMP','DEWP','SLP','STP']]\n",
    "        DataHolder = pd.concat([DataHolder, data_raw], axis = 0)\n",
    "    \n",
    "    #Identify NAN and non-sensical data entries\n",
    "    DataHolder.SPD = DataHolder.SPD.replace('***',0) #numerical\n",
    "    DataHolder.GUS = DataHolder.GUS.replace('***',0) #numerical\n",
    "    DataHolder.DIR = DataHolder.DIR.replace(['***','990'],['No_Wind','DIR_Not_Reported']) #class\n",
    "    DataHolder.STP = DataHolder.STP.replace(['****','******'],[np.nan, np.nan]) #numerical\n",
    "    DataHolder.SLP = DataHolder.SLP.replace(['****','******'],[np.nan, np.nan]) #numerical\n",
    "    DataHolder.TEMP = DataHolder.TEMP.replace('****', np.nan) #numerical\n",
    "    DataHolder.DEWP = DataHolder.DEWP.replace('****', np.nan) #numerical\n",
    "    \n",
    "    #Change dtypes to those appropriate for modeling\n",
    "    DataHolder['YR--MODAHRMN'] = pd.to_datetime(DataHolder['YR--MODAHRMN'], format = '%Y%m%d%H%M')\n",
    "    DataHolder.SPD = DataHolder.SPD.astype(int)\n",
    "    DataHolder.GUS = DataHolder.GUS.astype(int)\n",
    "    DataHolder.DIR = DataHolder.DIR.astype(str)\n",
    "    DataHolder.STP = DataHolder.STP.astype(float)\n",
    "    DataHolder.SLP = DataHolder.SLP.astype(float)\n",
    "    DataHolder.TEMP = DataHolder.TEMP.astype(float)\n",
    "    DataHolder.DEWP = DataHolder.DEWP.astype(float)\n",
    "    \n",
    "    #Rename columns to unique headdings\n",
    "    DataHolder.columns = [NOAAStation + '_ActualTime',NOAAStation + '_Wind_Dir',\n",
    "                          NOAAStation + '_Wind_Spd',NOAAStation + '_Gust_Spd',\n",
    "                          NOAAStation + '_Temp',NOAAStation + '_Dew_Pt',\n",
    "                          NOAAStation + '_SLP',NOAAStation + '_StaP']\n",
    "\n",
    "    print 'loadNOAAData(' + NOAAStation + ') Completed.'\n",
    "    return DataHolder"
   ]
  },
  {
   "cell_type": "code",
   "execution_count": 42,
   "metadata": {
    "collapsed": false
   },
   "outputs": [
    {
     "name": "stdout",
     "output_type": "stream",
     "text": [
      "loadNOAAData(CAMPO) Completed.\n",
      "loadNOAAData(Livermore) Completed.\n",
      "loadNOAAData(PSIA) Completed.\n",
      "loadNOAAData(Redding) Completed.\n",
      "loadNOAAData(Tehachapi) Completed.\n",
      "loadNOAAData(PortChicago) Completed.\n",
      "\n",
      "COMPLETED LOADING ALL DATA\n",
      "Elapsed time = 241 seconds.\n"
     ]
    }
   ],
   "source": [
    "#This cell loads all NOAA station data, it takes a while to run. (~260 sec on my laptop)\n",
    "\n",
    "Start = time.time()\n",
    "\n",
    "NOAA_Data_CAMPO = loadNOAAData(file_list_CAMPO, 'CAMPO')\n",
    "NOAA_Data_Livermore = loadNOAAData(file_list_Livermore, 'Livermore')\n",
    "NOAA_Data_PSIA = loadNOAAData(file_list_PSIA, 'PSIA')\n",
    "NOAA_Data_Redding = loadNOAAData(file_list_Redding, 'Redding')\n",
    "NOAA_Data_Tehachapi = loadNOAAData(file_list_Tehachapi, 'Tehachapi')\n",
    "NOAA_Data_PortChicago = loadNOAAData(file_list_PortChicago, 'PortChicago')\n",
    "\n",
    "print \"\"\n",
    "print \"COMPLETED LOADING ALL DATA\"\n",
    "print \"Elapsed time = \" + str(int(time.time()-Start)) + \" seconds.\""
   ]
  },
  {
   "cell_type": "code",
   "execution_count": 43,
   "metadata": {
    "collapsed": false
   },
   "outputs": [],
   "source": [
    "#Reindex NOAA_dataframes to Acutal time in Timestamp format.\n",
    "\n",
    "NOAA_Data_CAMPO.index = NOAA_Data_CAMPO.CAMPO_ActualTime\n",
    "NOAA_Data_Livermore.index = NOAA_Data_Livermore.Livermore_ActualTime \n",
    "NOAA_Data_PSIA.index = NOAA_Data_PSIA.PSIA_ActualTime \n",
    "NOAA_Data_Redding.index = NOAA_Data_Redding.Redding_ActualTime \n",
    "NOAA_Data_Tehachapi.index = NOAA_Data_Tehachapi.Tehachapi_ActualTime \n",
    "NOAA_Data_PortChicago.index = NOAA_Data_PortChicago.PortChicago_ActualTime "
   ]
  },
  {
   "cell_type": "code",
   "execution_count": 44,
   "metadata": {
    "collapsed": false
   },
   "outputs": [],
   "source": [
    "#Extract minute from the index - this will be used to extract the proper observations later.\n",
    "\n",
    "NOAA_Data_CAMPO['Minute'] = NOAA_Data_CAMPO.index.minute\n",
    "NOAA_Data_Livermore['Minute'] = NOAA_Data_Livermore.index.minute\n",
    "NOAA_Data_PSIA['Minute'] = NOAA_Data_PSIA.index.minute\n",
    "NOAA_Data_Redding['Minute'] = NOAA_Data_Redding.index.minute\n",
    "NOAA_Data_Tehachapi['Minute'] = NOAA_Data_Tehachapi.index.minute\n",
    "NOAA_Data_PortChicago['Minute'] = NOAA_Data_PortChicago.index.minute"
   ]
  },
  {
   "cell_type": "code",
   "execution_count": 45,
   "metadata": {
    "collapsed": false
   },
   "outputs": [
    {
     "data": {
      "text/html": [
       "<div>\n",
       "<table border=\"1\" class=\"dataframe\">\n",
       "  <thead>\n",
       "    <tr style=\"text-align: right;\">\n",
       "      <th></th>\n",
       "      <th>CAMPO_ActualTime</th>\n",
       "      <th>CAMPO_Wind_Dir</th>\n",
       "      <th>CAMPO_Wind_Spd</th>\n",
       "      <th>CAMPO_Gust_Spd</th>\n",
       "      <th>CAMPO_Temp</th>\n",
       "      <th>CAMPO_Dew_Pt</th>\n",
       "      <th>CAMPO_SLP</th>\n",
       "      <th>CAMPO_StaP</th>\n",
       "      <th>Minute</th>\n",
       "    </tr>\n",
       "    <tr>\n",
       "      <th>CAMPO_ActualTime</th>\n",
       "      <th></th>\n",
       "      <th></th>\n",
       "      <th></th>\n",
       "      <th></th>\n",
       "      <th></th>\n",
       "      <th></th>\n",
       "      <th></th>\n",
       "      <th></th>\n",
       "      <th></th>\n",
       "    </tr>\n",
       "  </thead>\n",
       "  <tbody>\n",
       "    <tr>\n",
       "      <th>2010-04-01 00:52:00</th>\n",
       "      <td>2010-04-01 00:52:00</td>\n",
       "      <td>220</td>\n",
       "      <td>15</td>\n",
       "      <td>0</td>\n",
       "      <td>48</td>\n",
       "      <td>32</td>\n",
       "      <td>1008.7</td>\n",
       "      <td>917.9</td>\n",
       "      <td>52</td>\n",
       "    </tr>\n",
       "    <tr>\n",
       "      <th>2010-04-01 01:52:00</th>\n",
       "      <td>2010-04-01 01:52:00</td>\n",
       "      <td>240</td>\n",
       "      <td>14</td>\n",
       "      <td>0</td>\n",
       "      <td>46</td>\n",
       "      <td>38</td>\n",
       "      <td>1009.0</td>\n",
       "      <td>918.2</td>\n",
       "      <td>52</td>\n",
       "    </tr>\n",
       "    <tr>\n",
       "      <th>2010-04-01 02:52:00</th>\n",
       "      <td>2010-04-01 02:52:00</td>\n",
       "      <td>240</td>\n",
       "      <td>11</td>\n",
       "      <td>0</td>\n",
       "      <td>44</td>\n",
       "      <td>38</td>\n",
       "      <td>1009.3</td>\n",
       "      <td>918.5</td>\n",
       "      <td>52</td>\n",
       "    </tr>\n",
       "    <tr>\n",
       "      <th>2010-04-01 03:52:00</th>\n",
       "      <td>2010-04-01 03:52:00</td>\n",
       "      <td>240</td>\n",
       "      <td>11</td>\n",
       "      <td>0</td>\n",
       "      <td>43</td>\n",
       "      <td>40</td>\n",
       "      <td>1009.9</td>\n",
       "      <td>918.8</td>\n",
       "      <td>52</td>\n",
       "    </tr>\n",
       "    <tr>\n",
       "      <th>2010-04-01 04:52:00</th>\n",
       "      <td>2010-04-01 04:52:00</td>\n",
       "      <td>230</td>\n",
       "      <td>13</td>\n",
       "      <td>18</td>\n",
       "      <td>43</td>\n",
       "      <td>40</td>\n",
       "      <td>1010.5</td>\n",
       "      <td>919.4</td>\n",
       "      <td>52</td>\n",
       "    </tr>\n",
       "  </tbody>\n",
       "</table>\n",
       "</div>"
      ],
      "text/plain": [
       "                       CAMPO_ActualTime CAMPO_Wind_Dir  CAMPO_Wind_Spd  \\\n",
       "CAMPO_ActualTime                                                         \n",
       "2010-04-01 00:52:00 2010-04-01 00:52:00            220              15   \n",
       "2010-04-01 01:52:00 2010-04-01 01:52:00            240              14   \n",
       "2010-04-01 02:52:00 2010-04-01 02:52:00            240              11   \n",
       "2010-04-01 03:52:00 2010-04-01 03:52:00            240              11   \n",
       "2010-04-01 04:52:00 2010-04-01 04:52:00            230              13   \n",
       "\n",
       "                     CAMPO_Gust_Spd  CAMPO_Temp  CAMPO_Dew_Pt  CAMPO_SLP  \\\n",
       "CAMPO_ActualTime                                                           \n",
       "2010-04-01 00:52:00               0          48            32     1008.7   \n",
       "2010-04-01 01:52:00               0          46            38     1009.0   \n",
       "2010-04-01 02:52:00               0          44            38     1009.3   \n",
       "2010-04-01 03:52:00               0          43            40     1009.9   \n",
       "2010-04-01 04:52:00              18          43            40     1010.5   \n",
       "\n",
       "                     CAMPO_StaP  Minute  \n",
       "CAMPO_ActualTime                         \n",
       "2010-04-01 00:52:00       917.9      52  \n",
       "2010-04-01 01:52:00       918.2      52  \n",
       "2010-04-01 02:52:00       918.5      52  \n",
       "2010-04-01 03:52:00       918.8      52  \n",
       "2010-04-01 04:52:00       919.4      52  "
      ]
     },
     "execution_count": 45,
     "metadata": {},
     "output_type": "execute_result"
    }
   ],
   "source": [
    "NOAA_Data_CAMPO.head()"
   ]
  },
  {
   "cell_type": "code",
   "execution_count": 46,
   "metadata": {
    "collapsed": false
   },
   "outputs": [],
   "source": [
    "#Round the index of each NOAA dataframe to the nearest hour\n",
    "ns1hr=60*60*1000000000   # One hour in nanoseconds \n",
    "\n",
    "NOAA_Data_CAMPO.index = pd.DatetimeIndex(((NOAA_Data_CAMPO.CAMPO_ActualTime.astype(np.int64) // ns1hr) * ns1hr))\n",
    "NOAA_Data_Livermore.index = pd.DatetimeIndex(((NOAA_Data_Livermore.Livermore_ActualTime.astype(np.int64) // ns1hr) * ns1hr))\n",
    "NOAA_Data_PSIA.index = pd.DatetimeIndex(((NOAA_Data_PSIA.PSIA_ActualTime.astype(np.int64) // ns1hr) * ns1hr))\n",
    "NOAA_Data_Redding.index = pd.DatetimeIndex(((NOAA_Data_Redding.Redding_ActualTime.astype(np.int64) // ns1hr) * ns1hr))\n",
    "NOAA_Data_Tehachapi.index = pd.DatetimeIndex(((NOAA_Data_Tehachapi.Tehachapi_ActualTime.astype(np.int64) // ns1hr) * ns1hr))\n",
    "NOAA_Data_PortChicago.index = pd.DatetimeIndex(((NOAA_Data_PortChicago.PortChicago_ActualTime.astype(np.int64) // ns1hr) * ns1hr))"
   ]
  },
  {
   "cell_type": "code",
   "execution_count": 47,
   "metadata": {
    "collapsed": false
   },
   "outputs": [],
   "source": [
    "#Look into the data\n",
    "\n",
    "#NOAA_Data_CAMPO.sample(10) #DropNA\n",
    "#NOAA_Data_Livermore.sample(10) #Livermore_ActualTime.minute == 53\n",
    "#NOAA_Data_PSIA.sample(10) #PSIA_ActualTime.minute == 53\n",
    "#NOAA_Data_Redding.sample(10) #Redding_ActualTime.minute == 53\n",
    "#NOAA_Data_Tehachapi.sample(10) #Tehachapi.DropColumns[SLP, STP], ActualTime.minute == 0\n",
    "#NOAA_Data_PortChicago.sample(10) #PortChicago.minute == 0"
   ]
  },
  {
   "cell_type": "code",
   "execution_count": 48,
   "metadata": {
    "collapsed": false
   },
   "outputs": [
    {
     "data": {
      "text/plain": [
       "[47301, 54741, 47967, 60791, 128118, 44894]"
      ]
     },
     "execution_count": 48,
     "metadata": {},
     "output_type": "execute_result"
    }
   ],
   "source": [
    "[NOAA_Data_CAMPO.shape[0],\n",
    "NOAA_Data_Livermore.shape[0],\n",
    "NOAA_Data_PSIA.shape[0],\n",
    "NOAA_Data_Redding.shape[0],\n",
    "NOAA_Data_Tehachapi.shape[0],\n",
    "NOAA_Data_PortChicago.shape[0]]"
   ]
  },
  {
   "cell_type": "code",
   "execution_count": 49,
   "metadata": {
    "collapsed": false
   },
   "outputs": [],
   "source": [
    "NOAA_Data_CAMPO = NOAA_Data_CAMPO.dropna()\n",
    "NOAA_Data_Livermore = NOAA_Data_Livermore[NOAA_Data_Livermore.Minute == 53]\n",
    "NOAA_Data_PSIA = NOAA_Data_PSIA[NOAA_Data_PSIA.Minute == 53]\n",
    "NOAA_Data_Redding = NOAA_Data_Redding[NOAA_Data_Redding.Minute == 53]\n",
    "NOAA_Data_Tehachapi = NOAA_Data_Tehachapi[NOAA_Data_Tehachapi.Minute == 15]\n",
    "NOAA_Data_PortChicago = NOAA_Data_PortChicago[NOAA_Data_PortChicago.Minute == 0]"
   ]
  },
  {
   "cell_type": "code",
   "execution_count": 50,
   "metadata": {
    "collapsed": false,
    "scrolled": true
   },
   "outputs": [
    {
     "data": {
      "text/plain": [
       "[44927, 45249, 45265, 45253, 42729, 44894]"
      ]
     },
     "execution_count": 50,
     "metadata": {},
     "output_type": "execute_result"
    }
   ],
   "source": [
    "[NOAA_Data_CAMPO.shape[0],\n",
    "NOAA_Data_Livermore.shape[0],\n",
    "NOAA_Data_PSIA.shape[0],\n",
    "NOAA_Data_Redding.shape[0],\n",
    "NOAA_Data_Tehachapi.shape[0],\n",
    "NOAA_Data_PortChicago.shape[0]]"
   ]
  },
  {
   "cell_type": "code",
   "execution_count": 51,
   "metadata": {
    "collapsed": false
   },
   "outputs": [
    {
     "data": {
      "text/plain": [
       "[False, False, False, False, False, False]"
      ]
     },
     "execution_count": 51,
     "metadata": {},
     "output_type": "execute_result"
    }
   ],
   "source": [
    "[NOAA_Data_CAMPO.index.duplicated().any(),\n",
    "NOAA_Data_Livermore.index.duplicated().any(),\n",
    "NOAA_Data_PSIA.index.duplicated().any(),\n",
    "NOAA_Data_Redding.index.duplicated().any(),\n",
    "NOAA_Data_Tehachapi.index.duplicated().any(),\n",
    "NOAA_Data_PortChicago.index.duplicated().any()]"
   ]
  },
  {
   "cell_type": "code",
   "execution_count": 52,
   "metadata": {
    "collapsed": false
   },
   "outputs": [],
   "source": [
    "#Look into the data\n",
    "\n",
    "#NOAA_Data_CAMPO.sample(10) #DropNA\n",
    "#NOAA_Data_Livermore.sample(10) #Livermore_ActualTime.minute == 53\n",
    "#NOAA_Data_PSIA.sample(10) #PSIA_ActualTime.minute == 53\n",
    "#NOAA_Data_Redding.sample(10) #Redding_ActualTime.minute == 53\n",
    "#NOAA_Data_Tehachapi.sample(10) #Tehachapi.DropColumns[SLP, STP], ActualTime.minute == 0\n",
    "#NOAA_Data_PortChicago.sample(10) #PortChicago.minute == 0"
   ]
  },
  {
   "cell_type": "code",
   "execution_count": 53,
   "metadata": {
    "collapsed": false
   },
   "outputs": [
    {
     "data": {
      "text/plain": [
       "[False, True, True, True, True, True]"
      ]
     },
     "execution_count": 53,
     "metadata": {},
     "output_type": "execute_result"
    }
   ],
   "source": [
    "[NOAA_Data_CAMPO.isnull().any().any(),\n",
    "NOAA_Data_Livermore.isnull().any().any(),\n",
    "NOAA_Data_PSIA.isnull().any().any(),\n",
    "NOAA_Data_Redding.isnull().any().any(),\n",
    "NOAA_Data_Tehachapi.isnull().any().any(),\n",
    "NOAA_Data_PortChicago.isnull().any().any()]"
   ]
  },
  {
   "cell_type": "code",
   "execution_count": 54,
   "metadata": {
    "collapsed": false
   },
   "outputs": [
    {
     "data": {
      "text/plain": [
       "[CAMPO_ActualTime    0\n",
       " CAMPO_Wind_Dir      0\n",
       " CAMPO_Wind_Spd      0\n",
       " CAMPO_Gust_Spd      0\n",
       " CAMPO_Temp          0\n",
       " CAMPO_Dew_Pt        0\n",
       " CAMPO_SLP           0\n",
       " CAMPO_StaP          0\n",
       " Minute              0\n",
       " dtype: int64, Livermore_ActualTime      0\n",
       " Livermore_Wind_Dir        0\n",
       " Livermore_Wind_Spd        0\n",
       " Livermore_Gust_Spd        0\n",
       " Livermore_Temp           39\n",
       " Livermore_Dew_Pt         40\n",
       " Livermore_SLP           176\n",
       " Livermore_StaP          105\n",
       " Minute                    0\n",
       " dtype: int64, PSIA_ActualTime      0\n",
       " PSIA_Wind_Dir        0\n",
       " PSIA_Wind_Spd        0\n",
       " PSIA_Gust_Spd        0\n",
       " PSIA_Temp           59\n",
       " PSIA_Dew_Pt        154\n",
       " PSIA_SLP           124\n",
       " PSIA_StaP           32\n",
       " Minute               0\n",
       " dtype: int64, Redding_ActualTime      0\n",
       " Redding_Wind_Dir        0\n",
       " Redding_Wind_Spd        0\n",
       " Redding_Gust_Spd        0\n",
       " Redding_Temp           16\n",
       " Redding_Dew_Pt         27\n",
       " Redding_SLP           139\n",
       " Redding_StaP           79\n",
       " Minute                  0\n",
       " dtype: int64, Tehachapi_ActualTime        0\n",
       " Tehachapi_Wind_Dir          0\n",
       " Tehachapi_Wind_Spd          0\n",
       " Tehachapi_Gust_Spd          0\n",
       " Tehachapi_Temp            369\n",
       " Tehachapi_Dew_Pt          370\n",
       " Tehachapi_SLP           42729\n",
       " Tehachapi_StaP          42729\n",
       " Minute                      0\n",
       " dtype: int64, PortChicago_ActualTime        0\n",
       " PortChicago_Wind_Dir          0\n",
       " PortChicago_Wind_Spd          0\n",
       " PortChicago_Gust_Spd          0\n",
       " PortChicago_Temp            134\n",
       " PortChicago_Dew_Pt        44894\n",
       " PortChicago_SLP              37\n",
       " PortChicago_StaP          44894\n",
       " Minute                        0\n",
       " dtype: int64]"
      ]
     },
     "execution_count": 54,
     "metadata": {},
     "output_type": "execute_result"
    }
   ],
   "source": [
    "[NOAA_Data_CAMPO.isnull().sum(),\n",
    "NOAA_Data_Livermore.isnull().sum(),\n",
    "NOAA_Data_PSIA.isnull().sum(),\n",
    "NOAA_Data_Redding.isnull().sum(),\n",
    "NOAA_Data_Tehachapi.isnull().sum(),\n",
    "NOAA_Data_PortChicago.isnull().sum()]"
   ]
  },
  {
   "cell_type": "code",
   "execution_count": 55,
   "metadata": {
    "collapsed": false
   },
   "outputs": [],
   "source": [
    "#Drop Tehachapi STP and SLP columns\n",
    "NOAA_Data_Tehachapi = NOAA_Data_Tehachapi.drop('Tehachapi_SLP', axis = 1)\n",
    "NOAA_Data_Tehachapi = NOAA_Data_Tehachapi.drop('Tehachapi_StaP', axis = 1)"
   ]
  },
  {
   "cell_type": "code",
   "execution_count": 56,
   "metadata": {
    "collapsed": true
   },
   "outputs": [],
   "source": [
    "NOAA_Data_PortChicago = NOAA_Data_PortChicago.drop('PortChicago_StaP', axis = 1)\n",
    "NOAA_Data_PortChicago = NOAA_Data_PortChicago.drop('PortChicago_Dew_Pt', axis = 1)"
   ]
  },
  {
   "cell_type": "markdown",
   "metadata": {},
   "source": [
    "##1.3 Data Merge"
   ]
  },
  {
   "cell_type": "code",
   "execution_count": 57,
   "metadata": {
    "collapsed": true
   },
   "outputs": [],
   "source": [
    "#After all NOAA and CAISO data have been properly cleaned, the data are combined into a dataframe\n",
    "\n",
    "Data = pd.concat([windCap_CAISO, raw_CAISO, NOAA_Data_CAMPO, NOAA_Data_Livermore, NOAA_Data_PSIA, NOAA_Data_Redding, \n",
    "                  NOAA_Data_Tehachapi, NOAA_Data_PortChicago], axis = 1)"
   ]
  },
  {
   "cell_type": "code",
   "execution_count": 58,
   "metadata": {
    "collapsed": false
   },
   "outputs": [],
   "source": [
    "Data = Data.drop('Minute', axis = 1)"
   ]
  },
  {
   "cell_type": "code",
   "execution_count": 59,
   "metadata": {
    "collapsed": false
   },
   "outputs": [],
   "source": [
    "Data = Data.dropna()"
   ]
  },
  {
   "cell_type": "code",
   "execution_count": 60,
   "metadata": {
    "collapsed": false
   },
   "outputs": [
    {
     "data": {
      "text/plain": [
       "(39044, 46)"
      ]
     },
     "execution_count": 60,
     "metadata": {},
     "output_type": "execute_result"
    }
   ],
   "source": [
    "Data.shape"
   ]
  },
  {
   "cell_type": "markdown",
   "metadata": {},
   "source": [
    "The raw data are now loaded into a reasonable data frame.  The feature engineering that will occur below will not take as much time as the initial loading from raw sources took above.  The dataframe is saved as a csv file \"raw_data.csv\" which can be accessed much more quickly than going through the process of loading from the raw .txt and .html files would."
   ]
  },
  {
   "cell_type": "code",
   "execution_count": 61,
   "metadata": {
    "collapsed": true
   },
   "outputs": [],
   "source": [
    "#raw data is written to a csv file where it can be loaded much more quickly than by running the code above.\n",
    "Data.to_csv('raw_Data.csv') "
   ]
  },
  {
   "cell_type": "code",
   "execution_count": 62,
   "metadata": {
    "collapsed": true
   },
   "outputs": [],
   "source": [
    "Data = pd.read_csv('raw_Data.csv', index_col=0)\n",
    "Data.index = pd.to_datetime(Data.index)"
   ]
  },
  {
   "cell_type": "markdown",
   "metadata": {},
   "source": [
    "#2.0 Feature Engineering"
   ]
  },
  {
   "cell_type": "markdown",
   "metadata": {},
   "source": [
    "##2.1 Target Normalization"
   ]
  },
  {
   "cell_type": "code",
   "execution_count": 63,
   "metadata": {
    "collapsed": false
   },
   "outputs": [],
   "source": [
    "Data['P_Cap'] = Data.WindOutput_MW / Data.CAISO_WindCapacity"
   ]
  },
  {
   "cell_type": "markdown",
   "metadata": {},
   "source": [
    "##2.2 Features Contributing to Wind Power"
   ]
  },
  {
   "cell_type": "markdown",
   "metadata": {},
   "source": [
    "The power available in a wind stream is proportional to the cube of the wind speed and the density of the air.  The following code adds features that directly reflect the energy in the wind.  Wind Speed and Gust Speed are cubed, density is calculated from the temperature, dew point, and Air Pressure reported at the station (StaP). Air Density is not calculated for Port Chicago because the NOAA station did not report the Dew Point."
   ]
  },
  {
   "cell_type": "code",
   "execution_count": 101,
   "metadata": {
    "collapsed": true
   },
   "outputs": [],
   "source": [
    "#Cube wind speed and gust speed. This is from theory.  Power available in a stream of wind\n",
    "#is proportional to the cube of the windspeed.\n",
    "\n",
    "Data['CAMPO_Wind_Spd_Cubed'] = Data.CAMPO_Wind_Spd**3\n",
    "Data['Livermore_Wind_Spd_Cubed'] = Data.Livermore_Wind_Spd**3\n",
    "Data['PSIA_Wind_Spd_Cubed'] = Data.PSIA_Wind_Spd**3\n",
    "Data['PortChicago_Wind_Spd_Cubed'] = Data.PortChicago_Wind_Spd**3\n",
    "Data['Redding_Wind_Spd_Cubed'] = Data.Redding_Wind_Spd**3 \n",
    "Data['Tehachapi_Wind_Spd_Cubed'] = Data.Tehachapi_Wind_Spd**3\n",
    "                 \n",
    "Data['CAMPO_Gust_Spd_Cubed'] = Data.CAMPO_Gust_Spd**3\n",
    "Data['Livermore_Gust_Spd_Cubed'] = Data.Livermore_Gust_Spd**3\n",
    "Data['PSIA_Gust_Spd_Cubed'] = Data.PSIA_Gust_Spd**3\n",
    "Data['PortChicago_Gust_Spd_Cubed'] = Data.PortChicago_Gust_Spd**3\n",
    "Data['Redding_Gust_Spd_Cubed'] = Data.Redding_Gust_Spd**3\n",
    "Data['Tehachapi_Gust_Spd_Cubed'] = Data.Tehachapi_Gust_Spd**3"
   ]
  },
  {
   "cell_type": "markdown",
   "metadata": {},
   "source": [
    "###2.2.1 Calculating Air Density"
   ]
  },
  {
   "cell_type": "code",
   "execution_count": 102,
   "metadata": {
    "collapsed": true
   },
   "outputs": [],
   "source": [
    "def FtoC (Temp_F):\n",
    "    #Converts temperature in Fahrenheit to Celcius\n",
    "    \n",
    "    Temp_C = (100/(212-32))*(Temp_F-32)\n",
    "    return Temp_C"
   ]
  },
  {
   "cell_type": "code",
   "execution_count": 103,
   "metadata": {
    "collapsed": true
   },
   "outputs": [],
   "source": [
    "def FtoK (Temp_F):\n",
    "    #Converts temperature in Fahrenheit to Kelvin\n",
    "    \n",
    "    Temp_K = (100/(212-32))*(Temp_F-32) + 273.15\n",
    "    return Temp_K"
   ]
  },
  {
   "cell_type": "code",
   "execution_count": 104,
   "metadata": {
    "collapsed": true
   },
   "outputs": [],
   "source": [
    "def DewPt_To_RelHumid(DewPt_F, Temp_F):\n",
    "    #Calculates the relative humidity based on the temperature and dew point.\n",
    "    #Equations adapted from http://andrew.rsmas.miami.edu/bmcnoldy/Humidity.html\n",
    "    \n",
    "    #0 <= RelHumid <= 1 returns a fraction, not a percentage.\n",
    "    \n",
    "    Temp_C = FtoC(Temp_F)\n",
    "    DewPt_C = FtoC(DewPt_F)\n",
    "    RelHumid = (np.e**((17.625*DewPt_C)/(243.04+DewPt_C))/np.e**((17.625*Temp_C)/(243.04+Temp_C)))\n",
    "    return RelHumid"
   ]
  },
  {
   "cell_type": "code",
   "execution_count": 105,
   "metadata": {
    "collapsed": true
   },
   "outputs": [],
   "source": [
    "def AirDensity(Temp_F, DewPt_F, Pres_mbar):\n",
    "    #Calculates air density (kg/m^3) from the temperature, dewpoint, and pressure.  \n",
    "    #The density is accurate to within 0.2% in the temperature range (-10 C < Temp < 50 C)\n",
    "    #Adapted from https://en.wikipedia.org/wiki/Density_of_air\n",
    "    \n",
    "    #Constants\n",
    "    Md = 0.028964\n",
    "    Mv = 0.018016\n",
    "    R = 8.314\n",
    "    Rd = 287.058\n",
    "    Rv = 461.495\n",
    "    \n",
    "    #Temperature conversions\n",
    "    Temp_K = FtoK(Temp_F)\n",
    "    Temp_C = FtoC(Temp_F)\n",
    "    \n",
    "    #Computation\n",
    "    exp = (7.5*Temp_C)/(Temp_C + 237.3)\n",
    "    Psat = 6.1078 * 10**(exp) #mbar\n",
    "    Pv = DewPt_To_RelHumid(DewPt_F, Temp_F) * Psat #mbar\n",
    "    Pd = Pres_mbar - Pv #mber\n",
    "    rho = 100*(Pd*Md +  Pv*Mv) / (R * Temp_K) #kg/m^3\n",
    "    \n",
    "    return rho"
   ]
  },
  {
   "cell_type": "code",
   "execution_count": 106,
   "metadata": {
    "collapsed": false
   },
   "outputs": [],
   "source": [
    "Data['CAMPO_Density'] = AirDensity(Data.CAMPO_Temp, Data.CAMPO_Dew_Pt, Data.CAMPO_StaP)\n",
    "Data['Livermore_Density'] = AirDensity(Data.Livermore_Temp, Data.Livermore_Dew_Pt, Data.Livermore_StaP)\n",
    "Data['PSIA_Density'] = AirDensity(Data.PSIA_Temp, Data.PSIA_Dew_Pt, Data.PSIA_StaP)\n",
    "Data['Redding_Density'] = AirDensity(Data.Redding_Temp, Data.Redding_Dew_Pt, Data.Redding_StaP)\n",
    "\n",
    "#Port Chicago did not provide Dew point information, so density calculation is not possible.\n",
    "#Tehachapi did not provide pressure information, so density calculation is not possible."
   ]
  },
  {
   "cell_type": "markdown",
   "metadata": {},
   "source": [
    "##2.3 Trailing Data"
   ]
  },
  {
   "cell_type": "code",
   "execution_count": 107,
   "metadata": {
    "collapsed": false
   },
   "outputs": [],
   "source": [
    "#Create trailing data columns.\n",
    "numTrailingHours = 4 #Number of trailing hours generated\n",
    "\n",
    "for i in range(1,numTrailingHours+1):\n",
    "    Data['Trail_' + str(i)] = Data.P_Cap.shift(i)\n",
    "\n",
    "#Drop all rows that contain null values, this is where the df is cleaned of NaNs, including 4 hours after any \n",
    "#missing data\n",
    "Data = Data.dropna(axis = 0)"
   ]
  },
  {
   "cell_type": "code",
   "execution_count": 108,
   "metadata": {
    "collapsed": true
   },
   "outputs": [],
   "source": [
    "#Data = Data.reindex(pd.date_range('4/20/2010', periods=44831, freq='H')) "
   ]
  },
  {
   "cell_type": "markdown",
   "metadata": {},
   "source": [
    "The number of trailing hours that should be considered by the algorithm was tested and optimized.  All else being equal, the number of hours included in the model should be minimized because when data interruptions do occur, the algorithm will not be usable again until the specified number of hours has passed."
   ]
  },
  {
   "cell_type": "markdown",
   "metadata": {},
   "source": [
    "##2.4 Annual Variation"
   ]
  },
  {
   "cell_type": "code",
   "execution_count": 109,
   "metadata": {
    "collapsed": false
   },
   "outputs": [],
   "source": [
    "Data['PeriodicTime'] = Data.index"
   ]
  },
  {
   "cell_type": "code",
   "execution_count": 110,
   "metadata": {
    "collapsed": false
   },
   "outputs": [],
   "source": [
    "def PeriodicTime(date, startDate = datetime.date(2009, 12, 21)):\n",
    "    Days = (date.date() - startDate).days\n",
    "    PeriodicTime = -0.5*np.cos((Days*2*np.pi)/(365))+0.5\n",
    "    return PeriodicTime"
   ]
  },
  {
   "cell_type": "code",
   "execution_count": 111,
   "metadata": {
    "collapsed": false
   },
   "outputs": [],
   "source": [
    "Data['PeriodicTime'] = Data['PeriodicTime'].map(PeriodicTime)"
   ]
  },
  {
   "cell_type": "code",
   "execution_count": 112,
   "metadata": {
    "collapsed": false
   },
   "outputs": [
    {
     "data": {
      "text/html": [
       "<div>\n",
       "<table border=\"1\" class=\"dataframe\">\n",
       "  <thead>\n",
       "    <tr style=\"text-align: right;\">\n",
       "      <th></th>\n",
       "      <th>CAISO_WindCapacity</th>\n",
       "      <th>WindOutput_MW</th>\n",
       "      <th>CAMPO_ActualTime</th>\n",
       "      <th>CAMPO_Wind_Dir</th>\n",
       "      <th>CAMPO_Wind_Spd</th>\n",
       "      <th>CAMPO_Gust_Spd</th>\n",
       "      <th>CAMPO_Temp</th>\n",
       "      <th>CAMPO_Dew_Pt</th>\n",
       "      <th>CAMPO_SLP</th>\n",
       "      <th>CAMPO_StaP</th>\n",
       "      <th>...</th>\n",
       "      <th>Tehachapi_Gust_Spd_Cubed</th>\n",
       "      <th>CAMPO_Density</th>\n",
       "      <th>Livermore_Density</th>\n",
       "      <th>PSIA_Density</th>\n",
       "      <th>Redding_Density</th>\n",
       "      <th>Trail_1</th>\n",
       "      <th>Trail_2</th>\n",
       "      <th>Trail_3</th>\n",
       "      <th>Trail_4</th>\n",
       "      <th>PeriodicTime</th>\n",
       "    </tr>\n",
       "  </thead>\n",
       "  <tbody>\n",
       "    <tr>\n",
       "      <th>2010-04-20 04:00:00</th>\n",
       "      <td>2497.58</td>\n",
       "      <td>875</td>\n",
       "      <td>2010-04-20 04:52:00</td>\n",
       "      <td>No_Wind</td>\n",
       "      <td>0</td>\n",
       "      <td>0</td>\n",
       "      <td>51</td>\n",
       "      <td>49</td>\n",
       "      <td>1012.9</td>\n",
       "      <td>922.6</td>\n",
       "      <td>...</td>\n",
       "      <td>0</td>\n",
       "      <td>1.127415</td>\n",
       "      <td>1.207839</td>\n",
       "      <td>1.156181</td>\n",
       "      <td>1.185945</td>\n",
       "      <td>0.369558</td>\n",
       "      <td>0.271062</td>\n",
       "      <td>0.253045</td>\n",
       "      <td>0.253045</td>\n",
       "      <td>0.737476</td>\n",
       "    </tr>\n",
       "    <tr>\n",
       "      <th>2010-04-20 05:00:00</th>\n",
       "      <td>2497.58</td>\n",
       "      <td>998</td>\n",
       "      <td>2010-04-20 05:52:00</td>\n",
       "      <td>020</td>\n",
       "      <td>5</td>\n",
       "      <td>0</td>\n",
       "      <td>47</td>\n",
       "      <td>46</td>\n",
       "      <td>1012.9</td>\n",
       "      <td>922.6</td>\n",
       "      <td>...</td>\n",
       "      <td>0</td>\n",
       "      <td>1.136907</td>\n",
       "      <td>1.206606</td>\n",
       "      <td>1.160153</td>\n",
       "      <td>1.185949</td>\n",
       "      <td>0.350339</td>\n",
       "      <td>0.369558</td>\n",
       "      <td>0.271062</td>\n",
       "      <td>0.253045</td>\n",
       "      <td>0.737476</td>\n",
       "    </tr>\n",
       "    <tr>\n",
       "      <th>2010-04-20 06:00:00</th>\n",
       "      <td>2497.58</td>\n",
       "      <td>763</td>\n",
       "      <td>2010-04-20 06:52:00</td>\n",
       "      <td>040</td>\n",
       "      <td>5</td>\n",
       "      <td>0</td>\n",
       "      <td>47</td>\n",
       "      <td>46</td>\n",
       "      <td>1012.7</td>\n",
       "      <td>922.6</td>\n",
       "      <td>...</td>\n",
       "      <td>0</td>\n",
       "      <td>1.136907</td>\n",
       "      <td>1.205979</td>\n",
       "      <td>1.162514</td>\n",
       "      <td>1.190194</td>\n",
       "      <td>0.399587</td>\n",
       "      <td>0.350339</td>\n",
       "      <td>0.369558</td>\n",
       "      <td>0.271062</td>\n",
       "      <td>0.737476</td>\n",
       "    </tr>\n",
       "    <tr>\n",
       "      <th>2010-04-20 07:00:00</th>\n",
       "      <td>2497.58</td>\n",
       "      <td>544</td>\n",
       "      <td>2010-04-20 07:52:00</td>\n",
       "      <td>060</td>\n",
       "      <td>5</td>\n",
       "      <td>0</td>\n",
       "      <td>44</td>\n",
       "      <td>44</td>\n",
       "      <td>1012.6</td>\n",
       "      <td>922.3</td>\n",
       "      <td>...</td>\n",
       "      <td>0</td>\n",
       "      <td>1.143671</td>\n",
       "      <td>1.204994</td>\n",
       "      <td>1.164696</td>\n",
       "      <td>1.194066</td>\n",
       "      <td>0.305496</td>\n",
       "      <td>0.399587</td>\n",
       "      <td>0.350339</td>\n",
       "      <td>0.369558</td>\n",
       "      <td>0.737476</td>\n",
       "    </tr>\n",
       "    <tr>\n",
       "      <th>2010-04-20 08:00:00</th>\n",
       "      <td>2497.58</td>\n",
       "      <td>572</td>\n",
       "      <td>2010-04-20 08:52:00</td>\n",
       "      <td>060</td>\n",
       "      <td>3</td>\n",
       "      <td>0</td>\n",
       "      <td>44</td>\n",
       "      <td>43</td>\n",
       "      <td>1012.5</td>\n",
       "      <td>922.3</td>\n",
       "      <td>...</td>\n",
       "      <td>0</td>\n",
       "      <td>1.143844</td>\n",
       "      <td>1.203976</td>\n",
       "      <td>1.173125</td>\n",
       "      <td>1.198861</td>\n",
       "      <td>0.217811</td>\n",
       "      <td>0.305496</td>\n",
       "      <td>0.399587</td>\n",
       "      <td>0.350339</td>\n",
       "      <td>0.737476</td>\n",
       "    </tr>\n",
       "  </tbody>\n",
       "</table>\n",
       "<p>5 rows × 68 columns</p>\n",
       "</div>"
      ],
      "text/plain": [
       "                     CAISO_WindCapacity  WindOutput_MW     CAMPO_ActualTime  \\\n",
       "2010-04-20 04:00:00             2497.58            875  2010-04-20 04:52:00   \n",
       "2010-04-20 05:00:00             2497.58            998  2010-04-20 05:52:00   \n",
       "2010-04-20 06:00:00             2497.58            763  2010-04-20 06:52:00   \n",
       "2010-04-20 07:00:00             2497.58            544  2010-04-20 07:52:00   \n",
       "2010-04-20 08:00:00             2497.58            572  2010-04-20 08:52:00   \n",
       "\n",
       "                    CAMPO_Wind_Dir  CAMPO_Wind_Spd  CAMPO_Gust_Spd  \\\n",
       "2010-04-20 04:00:00        No_Wind               0               0   \n",
       "2010-04-20 05:00:00            020               5               0   \n",
       "2010-04-20 06:00:00            040               5               0   \n",
       "2010-04-20 07:00:00            060               5               0   \n",
       "2010-04-20 08:00:00            060               3               0   \n",
       "\n",
       "                     CAMPO_Temp  CAMPO_Dew_Pt  CAMPO_SLP  CAMPO_StaP  \\\n",
       "2010-04-20 04:00:00          51            49     1012.9       922.6   \n",
       "2010-04-20 05:00:00          47            46     1012.9       922.6   \n",
       "2010-04-20 06:00:00          47            46     1012.7       922.6   \n",
       "2010-04-20 07:00:00          44            44     1012.6       922.3   \n",
       "2010-04-20 08:00:00          44            43     1012.5       922.3   \n",
       "\n",
       "                        ...      Tehachapi_Gust_Spd_Cubed CAMPO_Density  \\\n",
       "2010-04-20 04:00:00     ...                             0      1.127415   \n",
       "2010-04-20 05:00:00     ...                             0      1.136907   \n",
       "2010-04-20 06:00:00     ...                             0      1.136907   \n",
       "2010-04-20 07:00:00     ...                             0      1.143671   \n",
       "2010-04-20 08:00:00     ...                             0      1.143844   \n",
       "\n",
       "                     Livermore_Density  PSIA_Density  Redding_Density  \\\n",
       "2010-04-20 04:00:00           1.207839      1.156181         1.185945   \n",
       "2010-04-20 05:00:00           1.206606      1.160153         1.185949   \n",
       "2010-04-20 06:00:00           1.205979      1.162514         1.190194   \n",
       "2010-04-20 07:00:00           1.204994      1.164696         1.194066   \n",
       "2010-04-20 08:00:00           1.203976      1.173125         1.198861   \n",
       "\n",
       "                      Trail_1   Trail_2   Trail_3   Trail_4 PeriodicTime  \n",
       "2010-04-20 04:00:00  0.369558  0.271062  0.253045  0.253045     0.737476  \n",
       "2010-04-20 05:00:00  0.350339  0.369558  0.271062  0.253045     0.737476  \n",
       "2010-04-20 06:00:00  0.399587  0.350339  0.369558  0.271062     0.737476  \n",
       "2010-04-20 07:00:00  0.305496  0.399587  0.350339  0.369558     0.737476  \n",
       "2010-04-20 08:00:00  0.217811  0.305496  0.399587  0.350339     0.737476  \n",
       "\n",
       "[5 rows x 68 columns]"
      ]
     },
     "execution_count": 112,
     "metadata": {},
     "output_type": "execute_result"
    }
   ],
   "source": [
    "Data.head()"
   ]
  },
  {
   "cell_type": "code",
   "execution_count": 113,
   "metadata": {
    "collapsed": true
   },
   "outputs": [],
   "source": [
    "#Engineered data is saved to a .csv file\n",
    "Data.to_csv('engineered_Data.csv')"
   ]
  },
  {
   "cell_type": "code",
   "execution_count": 114,
   "metadata": {
    "collapsed": true
   },
   "outputs": [],
   "source": [
    "Data = pd.read_csv('engineered_Data.csv', index_col=0)\n",
    "Data.index = pd.to_datetime(Data.index)"
   ]
  },
  {
   "cell_type": "markdown",
   "metadata": {},
   "source": [
    "#3.0 Data Visual Exploration"
   ]
  },
  {
   "cell_type": "code",
   "execution_count": 115,
   "metadata": {
    "collapsed": true
   },
   "outputs": [],
   "source": [
    "#Data is reindexed so that the index is continuious and fills the gaps indata with NAN.  \n",
    "#This makes the plots more readable by showing gaps where the data are incomplete.  If the dataframe were not reindexed\n",
    "#missing data would be conected with a line segment in plots.  Data will be reindexed when making plots, and these rows\n",
    "#will be removed when modeling using .dropna()\n",
    "\n",
    "Data = Data.reindex(pd.date_range('4/20/2010', periods=44831, freq='H')) "
   ]
  },
  {
   "cell_type": "code",
   "execution_count": 116,
   "metadata": {
    "collapsed": false
   },
   "outputs": [
    {
     "data": {
      "text/html": [
       "<div>\n",
       "<table border=\"1\" class=\"dataframe\">\n",
       "  <thead>\n",
       "    <tr style=\"text-align: right;\">\n",
       "      <th></th>\n",
       "      <th>CAISO_WindCapacity</th>\n",
       "      <th>WindOutput_MW</th>\n",
       "      <th>CAMPO_ActualTime</th>\n",
       "      <th>CAMPO_Wind_Dir</th>\n",
       "      <th>CAMPO_Wind_Spd</th>\n",
       "      <th>CAMPO_Gust_Spd</th>\n",
       "      <th>CAMPO_Temp</th>\n",
       "      <th>CAMPO_Dew_Pt</th>\n",
       "      <th>CAMPO_SLP</th>\n",
       "      <th>CAMPO_StaP</th>\n",
       "      <th>...</th>\n",
       "      <th>Tehachapi_Gust_Spd_Cubed</th>\n",
       "      <th>CAMPO_Density</th>\n",
       "      <th>Livermore_Density</th>\n",
       "      <th>PSIA_Density</th>\n",
       "      <th>Redding_Density</th>\n",
       "      <th>Trail_1</th>\n",
       "      <th>Trail_2</th>\n",
       "      <th>Trail_3</th>\n",
       "      <th>Trail_4</th>\n",
       "      <th>PeriodicTime</th>\n",
       "    </tr>\n",
       "  </thead>\n",
       "  <tbody>\n",
       "    <tr>\n",
       "      <th>2010-04-20 00:00:00</th>\n",
       "      <td>NaN</td>\n",
       "      <td>NaN</td>\n",
       "      <td>NaN</td>\n",
       "      <td>NaN</td>\n",
       "      <td>NaN</td>\n",
       "      <td>NaN</td>\n",
       "      <td>NaN</td>\n",
       "      <td>NaN</td>\n",
       "      <td>NaN</td>\n",
       "      <td>NaN</td>\n",
       "      <td>...</td>\n",
       "      <td>NaN</td>\n",
       "      <td>NaN</td>\n",
       "      <td>NaN</td>\n",
       "      <td>NaN</td>\n",
       "      <td>NaN</td>\n",
       "      <td>NaN</td>\n",
       "      <td>NaN</td>\n",
       "      <td>NaN</td>\n",
       "      <td>NaN</td>\n",
       "      <td>NaN</td>\n",
       "    </tr>\n",
       "    <tr>\n",
       "      <th>2010-04-20 01:00:00</th>\n",
       "      <td>NaN</td>\n",
       "      <td>NaN</td>\n",
       "      <td>NaN</td>\n",
       "      <td>NaN</td>\n",
       "      <td>NaN</td>\n",
       "      <td>NaN</td>\n",
       "      <td>NaN</td>\n",
       "      <td>NaN</td>\n",
       "      <td>NaN</td>\n",
       "      <td>NaN</td>\n",
       "      <td>...</td>\n",
       "      <td>NaN</td>\n",
       "      <td>NaN</td>\n",
       "      <td>NaN</td>\n",
       "      <td>NaN</td>\n",
       "      <td>NaN</td>\n",
       "      <td>NaN</td>\n",
       "      <td>NaN</td>\n",
       "      <td>NaN</td>\n",
       "      <td>NaN</td>\n",
       "      <td>NaN</td>\n",
       "    </tr>\n",
       "    <tr>\n",
       "      <th>2010-04-20 02:00:00</th>\n",
       "      <td>NaN</td>\n",
       "      <td>NaN</td>\n",
       "      <td>NaN</td>\n",
       "      <td>NaN</td>\n",
       "      <td>NaN</td>\n",
       "      <td>NaN</td>\n",
       "      <td>NaN</td>\n",
       "      <td>NaN</td>\n",
       "      <td>NaN</td>\n",
       "      <td>NaN</td>\n",
       "      <td>...</td>\n",
       "      <td>NaN</td>\n",
       "      <td>NaN</td>\n",
       "      <td>NaN</td>\n",
       "      <td>NaN</td>\n",
       "      <td>NaN</td>\n",
       "      <td>NaN</td>\n",
       "      <td>NaN</td>\n",
       "      <td>NaN</td>\n",
       "      <td>NaN</td>\n",
       "      <td>NaN</td>\n",
       "    </tr>\n",
       "    <tr>\n",
       "      <th>2010-04-20 03:00:00</th>\n",
       "      <td>NaN</td>\n",
       "      <td>NaN</td>\n",
       "      <td>NaN</td>\n",
       "      <td>NaN</td>\n",
       "      <td>NaN</td>\n",
       "      <td>NaN</td>\n",
       "      <td>NaN</td>\n",
       "      <td>NaN</td>\n",
       "      <td>NaN</td>\n",
       "      <td>NaN</td>\n",
       "      <td>...</td>\n",
       "      <td>NaN</td>\n",
       "      <td>NaN</td>\n",
       "      <td>NaN</td>\n",
       "      <td>NaN</td>\n",
       "      <td>NaN</td>\n",
       "      <td>NaN</td>\n",
       "      <td>NaN</td>\n",
       "      <td>NaN</td>\n",
       "      <td>NaN</td>\n",
       "      <td>NaN</td>\n",
       "    </tr>\n",
       "    <tr>\n",
       "      <th>2010-04-20 04:00:00</th>\n",
       "      <td>2497.58</td>\n",
       "      <td>875</td>\n",
       "      <td>2010-04-20 04:52:00</td>\n",
       "      <td>No_Wind</td>\n",
       "      <td>0</td>\n",
       "      <td>0</td>\n",
       "      <td>51</td>\n",
       "      <td>49</td>\n",
       "      <td>1012.9</td>\n",
       "      <td>922.6</td>\n",
       "      <td>...</td>\n",
       "      <td>0</td>\n",
       "      <td>1.127415</td>\n",
       "      <td>1.207839</td>\n",
       "      <td>1.156181</td>\n",
       "      <td>1.185945</td>\n",
       "      <td>0.369558</td>\n",
       "      <td>0.271062</td>\n",
       "      <td>0.253045</td>\n",
       "      <td>0.253045</td>\n",
       "      <td>0.737476</td>\n",
       "    </tr>\n",
       "  </tbody>\n",
       "</table>\n",
       "<p>5 rows × 68 columns</p>\n",
       "</div>"
      ],
      "text/plain": [
       "                     CAISO_WindCapacity  WindOutput_MW     CAMPO_ActualTime  \\\n",
       "2010-04-20 00:00:00                 NaN            NaN                  NaN   \n",
       "2010-04-20 01:00:00                 NaN            NaN                  NaN   \n",
       "2010-04-20 02:00:00                 NaN            NaN                  NaN   \n",
       "2010-04-20 03:00:00                 NaN            NaN                  NaN   \n",
       "2010-04-20 04:00:00             2497.58            875  2010-04-20 04:52:00   \n",
       "\n",
       "                    CAMPO_Wind_Dir  CAMPO_Wind_Spd  CAMPO_Gust_Spd  \\\n",
       "2010-04-20 00:00:00            NaN             NaN             NaN   \n",
       "2010-04-20 01:00:00            NaN             NaN             NaN   \n",
       "2010-04-20 02:00:00            NaN             NaN             NaN   \n",
       "2010-04-20 03:00:00            NaN             NaN             NaN   \n",
       "2010-04-20 04:00:00        No_Wind               0               0   \n",
       "\n",
       "                     CAMPO_Temp  CAMPO_Dew_Pt  CAMPO_SLP  CAMPO_StaP  \\\n",
       "2010-04-20 00:00:00         NaN           NaN        NaN         NaN   \n",
       "2010-04-20 01:00:00         NaN           NaN        NaN         NaN   \n",
       "2010-04-20 02:00:00         NaN           NaN        NaN         NaN   \n",
       "2010-04-20 03:00:00         NaN           NaN        NaN         NaN   \n",
       "2010-04-20 04:00:00          51            49     1012.9       922.6   \n",
       "\n",
       "                        ...      Tehachapi_Gust_Spd_Cubed CAMPO_Density  \\\n",
       "2010-04-20 00:00:00     ...                           NaN           NaN   \n",
       "2010-04-20 01:00:00     ...                           NaN           NaN   \n",
       "2010-04-20 02:00:00     ...                           NaN           NaN   \n",
       "2010-04-20 03:00:00     ...                           NaN           NaN   \n",
       "2010-04-20 04:00:00     ...                             0      1.127415   \n",
       "\n",
       "                     Livermore_Density  PSIA_Density  Redding_Density  \\\n",
       "2010-04-20 00:00:00                NaN           NaN              NaN   \n",
       "2010-04-20 01:00:00                NaN           NaN              NaN   \n",
       "2010-04-20 02:00:00                NaN           NaN              NaN   \n",
       "2010-04-20 03:00:00                NaN           NaN              NaN   \n",
       "2010-04-20 04:00:00           1.207839      1.156181         1.185945   \n",
       "\n",
       "                      Trail_1   Trail_2   Trail_3   Trail_4 PeriodicTime  \n",
       "2010-04-20 00:00:00       NaN       NaN       NaN       NaN          NaN  \n",
       "2010-04-20 01:00:00       NaN       NaN       NaN       NaN          NaN  \n",
       "2010-04-20 02:00:00       NaN       NaN       NaN       NaN          NaN  \n",
       "2010-04-20 03:00:00       NaN       NaN       NaN       NaN          NaN  \n",
       "2010-04-20 04:00:00  0.369558  0.271062  0.253045  0.253045     0.737476  \n",
       "\n",
       "[5 rows x 68 columns]"
      ]
     },
     "execution_count": 116,
     "metadata": {},
     "output_type": "execute_result"
    }
   ],
   "source": [
    "Data.head()"
   ]
  },
  {
   "cell_type": "code",
   "execution_count": 117,
   "metadata": {
    "collapsed": false
   },
   "outputs": [
    {
     "data": {
      "image/png": "[encoded data removed]",
      "text/plain": [
       "<matplotlib.figure.Figure at 0x10c88c7d0>"
      ]
     },
     "metadata": {},
     "output_type": "display_data"
    }
   ],
   "source": [
    "#Plot of all WindTotal data\n",
    "lo = 0\n",
    "hi = Data.WindOutput_MW.shape[0]\n",
    "\n",
    "plt.figure(figsize=(10,6))\n",
    "plt.title('Raw CAISO Wind Output',  fontsize=20)\n",
    "plt.xlabel('Year', fontsize=16)\n",
    "plt.xticks(rotation='45')\n",
    "plt.ylabel('Raw Output (MWh)', fontsize=16)\n",
    "\n",
    "plt.plot(Data.index[lo:hi], Data.WindOutput_MW[lo:hi], 'b', linewidth = 0.15)\n",
    "\n",
    "plt.show()"
   ]
  },
  {
   "cell_type": "markdown",
   "metadata": {},
   "source": [
    "***Caption:*** The raw CAISO Wind Output trends upwards over time as CAISO adds capacity."
   ]
  },
  {
   "cell_type": "code",
   "execution_count": 118,
   "metadata": {
    "collapsed": false,
    "scrolled": false
   },
   "outputs": [
    {
     "data": {
      "image/png": "[encoded data removed]",
      "text/plain": [
       "<matplotlib.figure.Figure at 0x108ba5ed0>"
      ]
     },
     "metadata": {},
     "output_type": "display_data"
    }
   ],
   "source": [
    "#Plot of all WindTotal data\n",
    "lo = 0\n",
    "hi = Data.P_Cap.shape[0]\n",
    "\n",
    "plt.figure(figsize=(10,6))\n",
    "plt.title('Normalized CAISO Wind Output',  fontsize=20)\n",
    "plt.xlabel('Year', fontsize=16)\n",
    "plt.xticks(rotation='45')\n",
    "plt.ylabel('% Capacity', fontsize=16)\n",
    "\n",
    "plt.plot(Data.index[lo:hi], Data.P_Cap[lo:hi], 'b', linewidth = 0.15)\n",
    "\n",
    "plt.show()"
   ]
  },
  {
   "cell_type": "markdown",
   "metadata": {},
   "source": [
    "***Caption:*** The normalized output has daily and yearly cycles, but the overall upward trend is largely removed."
   ]
  },
  {
   "cell_type": "code",
   "execution_count": 119,
   "metadata": {
    "collapsed": false
   },
   "outputs": [
    {
     "data": {
      "image/png": "[encoded data removed]",
      "text/plain": [
       "<matplotlib.figure.Figure at 0x108ce4d50>"
      ]
     },
     "metadata": {},
     "output_type": "display_data"
    }
   ],
   "source": [
    "#Plot of all WindTotal data\n",
    "lo = Data.P_Cap.shape[0]-240\n",
    "hi = Data.P_Cap.shape[0]\n",
    "\n",
    "plt.figure(figsize=(10,6))\n",
    "plt.title('Last 10 Days of Normalized CAISO Wind Output',  fontsize=20)\n",
    "plt.xlabel('Date', fontsize=16)\n",
    "plt.xticks(rotation='45')\n",
    "plt.ylabel('% Capacity', fontsize=16)\n",
    "\n",
    "plt.plot(Data.index[lo:hi], Data.P_Cap[lo:hi], 'b', linewidth = 1)\n",
    "plt.show()"
   ]
  },
  {
   "cell_type": "markdown",
   "metadata": {},
   "source": [
    "***Caption:*** This is a detailed look at the final 10 days of normalized wind generation.  At this scale the daily cycles are easy to recognize.  Gaps in the chart reflect data that are missing either from the CAISO dataset, or from the NOAA record."
   ]
  },
  {
   "cell_type": "markdown",
   "metadata": {
    "collapsed": false
   },
   "source": [
    "#4.0 Modeling"
   ]
  },
  {
   "cell_type": "markdown",
   "metadata": {},
   "source": [
    "I will use Random Forest algorithm because it can cope with the complex system interactions I expect are inherent in this prediction.  I also intend to include Support Vector Machines regression in the future."
   ]
  },
  {
   "cell_type": "markdown",
   "metadata": {},
   "source": [
    "##4.1 Target Variable and Model Data Split"
   ]
  },
  {
   "cell_type": "markdown",
   "metadata": {},
   "source": [
    "I use the Patsy package to split Data into a Target variable (P_Cap) and a Model data frame.  The Model data frame contains all the variables that will be used by the Model_Complex approach, other Model dataframes are subsets of the Model dataframe."
   ]
  },
  {
   "cell_type": "code",
   "execution_count": 120,
   "metadata": {
    "collapsed": true
   },
   "outputs": [],
   "source": [
    "#NA values are dropped for modeling.\n",
    "Data = Data.dropna()"
   ]
  },
  {
   "cell_type": "code",
   "execution_count": 121,
   "metadata": {
    "collapsed": true
   },
   "outputs": [],
   "source": [
    "patsyString = 'P_Cap ~ 0 + PeriodicTime + Trail_1 + Trail_2 + Trail_3 + Trail_4 + C(CAMPO_Wind_Dir) +\\\n",
    "C(Livermore_Wind_Dir) + C(PSIA_Wind_Dir) +  C(Redding_Wind_Dir) + C(Tehachapi_Wind_Dir) + C(PortChicago_Wind_Dir) +\\\n",
    "CAMPO_Wind_Spd_Cubed + Livermore_Wind_Spd_Cubed + PSIA_Wind_Spd_Cubed + Redding_Wind_Spd_Cubed + Tehachapi_Wind_Spd_Cubed +\\\n",
    "PortChicago_Wind_Spd_Cubed + CAMPO_Gust_Spd_Cubed + Livermore_Gust_Spd_Cubed + PSIA_Gust_Spd_Cubed + Redding_Gust_Spd_Cubed +\\\n",
    "Tehachapi_Gust_Spd_Cubed + PortChicago_Gust_Spd_Cubed + CAMPO_Density + Livermore_Density + PSIA_Density + Redding_Density'"
   ]
  },
  {
   "cell_type": "code",
   "execution_count": 122,
   "metadata": {
    "collapsed": true
   },
   "outputs": [],
   "source": [
    "Target, Model = dmatrices(patsyString, Data, return_type='dataframe')"
   ]
  },
  {
   "cell_type": "code",
   "execution_count": 123,
   "metadata": {
    "collapsed": false
   },
   "outputs": [
    {
     "data": {
      "text/html": [
       "<div>\n",
       "<table border=\"1\" class=\"dataframe\">\n",
       "  <thead>\n",
       "    <tr style=\"text-align: right;\">\n",
       "      <th></th>\n",
       "      <th>C(CAMPO_Wind_Dir)[010]</th>\n",
       "      <th>C(CAMPO_Wind_Dir)[020]</th>\n",
       "      <th>C(CAMPO_Wind_Dir)[030]</th>\n",
       "      <th>C(CAMPO_Wind_Dir)[040]</th>\n",
       "      <th>C(CAMPO_Wind_Dir)[050]</th>\n",
       "      <th>C(CAMPO_Wind_Dir)[060]</th>\n",
       "      <th>C(CAMPO_Wind_Dir)[070]</th>\n",
       "      <th>C(CAMPO_Wind_Dir)[080]</th>\n",
       "      <th>C(CAMPO_Wind_Dir)[090]</th>\n",
       "      <th>C(CAMPO_Wind_Dir)[100]</th>\n",
       "      <th>...</th>\n",
       "      <th>CAMPO_Gust_Spd_Cubed</th>\n",
       "      <th>Livermore_Gust_Spd_Cubed</th>\n",
       "      <th>PSIA_Gust_Spd_Cubed</th>\n",
       "      <th>Redding_Gust_Spd_Cubed</th>\n",
       "      <th>Tehachapi_Gust_Spd_Cubed</th>\n",
       "      <th>PortChicago_Gust_Spd_Cubed</th>\n",
       "      <th>CAMPO_Density</th>\n",
       "      <th>Livermore_Density</th>\n",
       "      <th>PSIA_Density</th>\n",
       "      <th>Redding_Density</th>\n",
       "    </tr>\n",
       "  </thead>\n",
       "  <tbody>\n",
       "    <tr>\n",
       "      <th>2010-04-20 04:00:00</th>\n",
       "      <td>0</td>\n",
       "      <td>0</td>\n",
       "      <td>0</td>\n",
       "      <td>0</td>\n",
       "      <td>0</td>\n",
       "      <td>0</td>\n",
       "      <td>0</td>\n",
       "      <td>0</td>\n",
       "      <td>0</td>\n",
       "      <td>0</td>\n",
       "      <td>...</td>\n",
       "      <td>0</td>\n",
       "      <td>0</td>\n",
       "      <td>12167</td>\n",
       "      <td>0</td>\n",
       "      <td>0</td>\n",
       "      <td>0</td>\n",
       "      <td>1.127415</td>\n",
       "      <td>1.207839</td>\n",
       "      <td>1.156181</td>\n",
       "      <td>1.185945</td>\n",
       "    </tr>\n",
       "    <tr>\n",
       "      <th>2010-04-20 05:00:00</th>\n",
       "      <td>0</td>\n",
       "      <td>1</td>\n",
       "      <td>0</td>\n",
       "      <td>0</td>\n",
       "      <td>0</td>\n",
       "      <td>0</td>\n",
       "      <td>0</td>\n",
       "      <td>0</td>\n",
       "      <td>0</td>\n",
       "      <td>0</td>\n",
       "      <td>...</td>\n",
       "      <td>0</td>\n",
       "      <td>0</td>\n",
       "      <td>8000</td>\n",
       "      <td>0</td>\n",
       "      <td>0</td>\n",
       "      <td>0</td>\n",
       "      <td>1.136907</td>\n",
       "      <td>1.206606</td>\n",
       "      <td>1.160153</td>\n",
       "      <td>1.185949</td>\n",
       "    </tr>\n",
       "    <tr>\n",
       "      <th>2010-04-20 06:00:00</th>\n",
       "      <td>0</td>\n",
       "      <td>0</td>\n",
       "      <td>0</td>\n",
       "      <td>1</td>\n",
       "      <td>0</td>\n",
       "      <td>0</td>\n",
       "      <td>0</td>\n",
       "      <td>0</td>\n",
       "      <td>0</td>\n",
       "      <td>0</td>\n",
       "      <td>...</td>\n",
       "      <td>0</td>\n",
       "      <td>0</td>\n",
       "      <td>0</td>\n",
       "      <td>0</td>\n",
       "      <td>0</td>\n",
       "      <td>0</td>\n",
       "      <td>1.136907</td>\n",
       "      <td>1.205979</td>\n",
       "      <td>1.162514</td>\n",
       "      <td>1.190194</td>\n",
       "    </tr>\n",
       "    <tr>\n",
       "      <th>2010-04-20 07:00:00</th>\n",
       "      <td>0</td>\n",
       "      <td>0</td>\n",
       "      <td>0</td>\n",
       "      <td>0</td>\n",
       "      <td>0</td>\n",
       "      <td>1</td>\n",
       "      <td>0</td>\n",
       "      <td>0</td>\n",
       "      <td>0</td>\n",
       "      <td>0</td>\n",
       "      <td>...</td>\n",
       "      <td>0</td>\n",
       "      <td>0</td>\n",
       "      <td>0</td>\n",
       "      <td>0</td>\n",
       "      <td>0</td>\n",
       "      <td>0</td>\n",
       "      <td>1.143671</td>\n",
       "      <td>1.204994</td>\n",
       "      <td>1.164696</td>\n",
       "      <td>1.194066</td>\n",
       "    </tr>\n",
       "    <tr>\n",
       "      <th>2010-04-20 08:00:00</th>\n",
       "      <td>0</td>\n",
       "      <td>0</td>\n",
       "      <td>0</td>\n",
       "      <td>0</td>\n",
       "      <td>0</td>\n",
       "      <td>1</td>\n",
       "      <td>0</td>\n",
       "      <td>0</td>\n",
       "      <td>0</td>\n",
       "      <td>0</td>\n",
       "      <td>...</td>\n",
       "      <td>0</td>\n",
       "      <td>0</td>\n",
       "      <td>0</td>\n",
       "      <td>0</td>\n",
       "      <td>0</td>\n",
       "      <td>0</td>\n",
       "      <td>1.143844</td>\n",
       "      <td>1.203976</td>\n",
       "      <td>1.173125</td>\n",
       "      <td>1.198861</td>\n",
       "    </tr>\n",
       "  </tbody>\n",
       "</table>\n",
       "<p>5 rows × 243 columns</p>\n",
       "</div>"
      ],
      "text/plain": [
       "                     C(CAMPO_Wind_Dir)[010]  C(CAMPO_Wind_Dir)[020]  \\\n",
       "2010-04-20 04:00:00                       0                       0   \n",
       "2010-04-20 05:00:00                       0                       1   \n",
       "2010-04-20 06:00:00                       0                       0   \n",
       "2010-04-20 07:00:00                       0                       0   \n",
       "2010-04-20 08:00:00                       0                       0   \n",
       "\n",
       "                     C(CAMPO_Wind_Dir)[030]  C(CAMPO_Wind_Dir)[040]  \\\n",
       "2010-04-20 04:00:00                       0                       0   \n",
       "2010-04-20 05:00:00                       0                       0   \n",
       "2010-04-20 06:00:00                       0                       1   \n",
       "2010-04-20 07:00:00                       0                       0   \n",
       "2010-04-20 08:00:00                       0                       0   \n",
       "\n",
       "                     C(CAMPO_Wind_Dir)[050]  C(CAMPO_Wind_Dir)[060]  \\\n",
       "2010-04-20 04:00:00                       0                       0   \n",
       "2010-04-20 05:00:00                       0                       0   \n",
       "2010-04-20 06:00:00                       0                       0   \n",
       "2010-04-20 07:00:00                       0                       1   \n",
       "2010-04-20 08:00:00                       0                       1   \n",
       "\n",
       "                     C(CAMPO_Wind_Dir)[070]  C(CAMPO_Wind_Dir)[080]  \\\n",
       "2010-04-20 04:00:00                       0                       0   \n",
       "2010-04-20 05:00:00                       0                       0   \n",
       "2010-04-20 06:00:00                       0                       0   \n",
       "2010-04-20 07:00:00                       0                       0   \n",
       "2010-04-20 08:00:00                       0                       0   \n",
       "\n",
       "                     C(CAMPO_Wind_Dir)[090]  C(CAMPO_Wind_Dir)[100]  \\\n",
       "2010-04-20 04:00:00                       0                       0   \n",
       "2010-04-20 05:00:00                       0                       0   \n",
       "2010-04-20 06:00:00                       0                       0   \n",
       "2010-04-20 07:00:00                       0                       0   \n",
       "2010-04-20 08:00:00                       0                       0   \n",
       "\n",
       "                          ...         CAMPO_Gust_Spd_Cubed  \\\n",
       "2010-04-20 04:00:00       ...                            0   \n",
       "2010-04-20 05:00:00       ...                            0   \n",
       "2010-04-20 06:00:00       ...                            0   \n",
       "2010-04-20 07:00:00       ...                            0   \n",
       "2010-04-20 08:00:00       ...                            0   \n",
       "\n",
       "                     Livermore_Gust_Spd_Cubed  PSIA_Gust_Spd_Cubed  \\\n",
       "2010-04-20 04:00:00                         0                12167   \n",
       "2010-04-20 05:00:00                         0                 8000   \n",
       "2010-04-20 06:00:00                         0                    0   \n",
       "2010-04-20 07:00:00                         0                    0   \n",
       "2010-04-20 08:00:00                         0                    0   \n",
       "\n",
       "                     Redding_Gust_Spd_Cubed  Tehachapi_Gust_Spd_Cubed  \\\n",
       "2010-04-20 04:00:00                       0                         0   \n",
       "2010-04-20 05:00:00                       0                         0   \n",
       "2010-04-20 06:00:00                       0                         0   \n",
       "2010-04-20 07:00:00                       0                         0   \n",
       "2010-04-20 08:00:00                       0                         0   \n",
       "\n",
       "                     PortChicago_Gust_Spd_Cubed  CAMPO_Density  \\\n",
       "2010-04-20 04:00:00                           0       1.127415   \n",
       "2010-04-20 05:00:00                           0       1.136907   \n",
       "2010-04-20 06:00:00                           0       1.136907   \n",
       "2010-04-20 07:00:00                           0       1.143671   \n",
       "2010-04-20 08:00:00                           0       1.143844   \n",
       "\n",
       "                     Livermore_Density  PSIA_Density  Redding_Density  \n",
       "2010-04-20 04:00:00           1.207839      1.156181         1.185945  \n",
       "2010-04-20 05:00:00           1.206606      1.160153         1.185949  \n",
       "2010-04-20 06:00:00           1.205979      1.162514         1.190194  \n",
       "2010-04-20 07:00:00           1.204994      1.164696         1.194066  \n",
       "2010-04-20 08:00:00           1.203976      1.173125         1.198861  \n",
       "\n",
       "[5 rows x 243 columns]"
      ]
     },
     "execution_count": 123,
     "metadata": {},
     "output_type": "execute_result"
    }
   ],
   "source": [
    "Model.head()"
   ]
  },
  {
   "cell_type": "markdown",
   "metadata": {},
   "source": [
    "##4.2 Random Forest Modeling"
   ]
  },
  {
   "cell_type": "markdown",
   "metadata": {},
   "source": [
    "I have generated four separate models to test the effectiveness of inputing different variables into the algorithms.\n",
    "- Model_Simple: Includes the 4 hours of trailing output data and nothing else.  \n",
    "- Model_Simple_Periodic: 4 hours of triling output data plust the periodic_time variable.\n",
    "- Model_NoWindDirec: All available variables excluding the wind direction classification at each NOAA site.\n",
    "- Model_Complex: includes all available variables."
   ]
  },
  {
   "cell_type": "markdown",
   "metadata": {},
   "source": [
    "###4.2.1 Model Input Data"
   ]
  },
  {
   "cell_type": "markdown",
   "metadata": {},
   "source": [
    "####4.2.1.1 Model_Simple"
   ]
  },
  {
   "cell_type": "code",
   "execution_count": 124,
   "metadata": {
    "collapsed": false
   },
   "outputs": [
    {
     "data": {
      "text/html": [
       "<div>\n",
       "<table border=\"1\" class=\"dataframe\">\n",
       "  <thead>\n",
       "    <tr style=\"text-align: right;\">\n",
       "      <th></th>\n",
       "      <th>Trail_1</th>\n",
       "      <th>Trail_2</th>\n",
       "      <th>Trail_3</th>\n",
       "      <th>Trail_4</th>\n",
       "    </tr>\n",
       "  </thead>\n",
       "  <tbody>\n",
       "    <tr>\n",
       "      <th>2010-04-20 04:00:00</th>\n",
       "      <td>0.369558</td>\n",
       "      <td>0.271062</td>\n",
       "      <td>0.253045</td>\n",
       "      <td>0.253045</td>\n",
       "    </tr>\n",
       "    <tr>\n",
       "      <th>2010-04-20 05:00:00</th>\n",
       "      <td>0.350339</td>\n",
       "      <td>0.369558</td>\n",
       "      <td>0.271062</td>\n",
       "      <td>0.253045</td>\n",
       "    </tr>\n",
       "    <tr>\n",
       "      <th>2010-04-20 06:00:00</th>\n",
       "      <td>0.399587</td>\n",
       "      <td>0.350339</td>\n",
       "      <td>0.369558</td>\n",
       "      <td>0.271062</td>\n",
       "    </tr>\n",
       "    <tr>\n",
       "      <th>2010-04-20 07:00:00</th>\n",
       "      <td>0.305496</td>\n",
       "      <td>0.399587</td>\n",
       "      <td>0.350339</td>\n",
       "      <td>0.369558</td>\n",
       "    </tr>\n",
       "    <tr>\n",
       "      <th>2010-04-20 08:00:00</th>\n",
       "      <td>0.217811</td>\n",
       "      <td>0.305496</td>\n",
       "      <td>0.399587</td>\n",
       "      <td>0.350339</td>\n",
       "    </tr>\n",
       "  </tbody>\n",
       "</table>\n",
       "</div>"
      ],
      "text/plain": [
       "                      Trail_1   Trail_2   Trail_3   Trail_4\n",
       "2010-04-20 04:00:00  0.369558  0.271062  0.253045  0.253045\n",
       "2010-04-20 05:00:00  0.350339  0.369558  0.271062  0.253045\n",
       "2010-04-20 06:00:00  0.399587  0.350339  0.369558  0.271062\n",
       "2010-04-20 07:00:00  0.305496  0.399587  0.350339  0.369558\n",
       "2010-04-20 08:00:00  0.217811  0.305496  0.399587  0.350339"
      ]
     },
     "execution_count": 124,
     "metadata": {},
     "output_type": "execute_result"
    }
   ],
   "source": [
    "#Simple Model uses only the previous four hours of output to predict the next hour.\n",
    "Model_Simple = pd.DataFrame([Model.Trail_1, Model.Trail_2, Model.Trail_3, Model.Trail_4]).transpose()\n",
    "Model_Simple.head()"
   ]
  },
  {
   "cell_type": "markdown",
   "metadata": {},
   "source": [
    "####4.2.1.2 Model_Simple_Periodic"
   ]
  },
  {
   "cell_type": "code",
   "execution_count": 125,
   "metadata": {
    "collapsed": false
   },
   "outputs": [
    {
     "data": {
      "text/html": [
       "<div>\n",
       "<table border=\"1\" class=\"dataframe\">\n",
       "  <thead>\n",
       "    <tr style=\"text-align: right;\">\n",
       "      <th></th>\n",
       "      <th>Trail_1</th>\n",
       "      <th>Trail_2</th>\n",
       "      <th>Trail_3</th>\n",
       "      <th>Trail_4</th>\n",
       "      <th>PeriodicTime</th>\n",
       "    </tr>\n",
       "  </thead>\n",
       "  <tbody>\n",
       "    <tr>\n",
       "      <th>2010-04-20 04:00:00</th>\n",
       "      <td>0.369558</td>\n",
       "      <td>0.271062</td>\n",
       "      <td>0.253045</td>\n",
       "      <td>0.253045</td>\n",
       "      <td>0.737476</td>\n",
       "    </tr>\n",
       "    <tr>\n",
       "      <th>2010-04-20 05:00:00</th>\n",
       "      <td>0.350339</td>\n",
       "      <td>0.369558</td>\n",
       "      <td>0.271062</td>\n",
       "      <td>0.253045</td>\n",
       "      <td>0.737476</td>\n",
       "    </tr>\n",
       "    <tr>\n",
       "      <th>2010-04-20 06:00:00</th>\n",
       "      <td>0.399587</td>\n",
       "      <td>0.350339</td>\n",
       "      <td>0.369558</td>\n",
       "      <td>0.271062</td>\n",
       "      <td>0.737476</td>\n",
       "    </tr>\n",
       "    <tr>\n",
       "      <th>2010-04-20 07:00:00</th>\n",
       "      <td>0.305496</td>\n",
       "      <td>0.399587</td>\n",
       "      <td>0.350339</td>\n",
       "      <td>0.369558</td>\n",
       "      <td>0.737476</td>\n",
       "    </tr>\n",
       "    <tr>\n",
       "      <th>2010-04-20 08:00:00</th>\n",
       "      <td>0.217811</td>\n",
       "      <td>0.305496</td>\n",
       "      <td>0.399587</td>\n",
       "      <td>0.350339</td>\n",
       "      <td>0.737476</td>\n",
       "    </tr>\n",
       "  </tbody>\n",
       "</table>\n",
       "</div>"
      ],
      "text/plain": [
       "                      Trail_1   Trail_2   Trail_3   Trail_4  PeriodicTime\n",
       "2010-04-20 04:00:00  0.369558  0.271062  0.253045  0.253045      0.737476\n",
       "2010-04-20 05:00:00  0.350339  0.369558  0.271062  0.253045      0.737476\n",
       "2010-04-20 06:00:00  0.399587  0.350339  0.369558  0.271062      0.737476\n",
       "2010-04-20 07:00:00  0.305496  0.399587  0.350339  0.369558      0.737476\n",
       "2010-04-20 08:00:00  0.217811  0.305496  0.399587  0.350339      0.737476"
      ]
     },
     "execution_count": 125,
     "metadata": {},
     "output_type": "execute_result"
    }
   ],
   "source": [
    "Model_Simple_Periodic = pd.concat([Model_Simple, Model.PeriodicTime], axis = 1)\n",
    "Model_Simple_Periodic.head()"
   ]
  },
  {
   "cell_type": "markdown",
   "metadata": {},
   "source": [
    "####4.2.1.3 Model_NoWindDir"
   ]
  },
  {
   "cell_type": "code",
   "execution_count": 126,
   "metadata": {
    "collapsed": false
   },
   "outputs": [
    {
     "data": {
      "text/html": [
       "<div>\n",
       "<table border=\"1\" class=\"dataframe\">\n",
       "  <thead>\n",
       "    <tr style=\"text-align: right;\">\n",
       "      <th></th>\n",
       "      <th>PeriodicTime</th>\n",
       "      <th>Trail_1</th>\n",
       "      <th>Trail_2</th>\n",
       "      <th>Trail_3</th>\n",
       "      <th>Trail_4</th>\n",
       "      <th>CAMPO_Wind_Spd_Cubed</th>\n",
       "      <th>Livermore_Wind_Spd_Cubed</th>\n",
       "      <th>PSIA_Wind_Spd_Cubed</th>\n",
       "      <th>Redding_Wind_Spd_Cubed</th>\n",
       "      <th>Tehachapi_Wind_Spd_Cubed</th>\n",
       "      <th>PortChicago_Wind_Spd_Cubed</th>\n",
       "      <th>CAMPO_Gust_Spd_Cubed</th>\n",
       "      <th>Livermore_Gust_Spd_Cubed</th>\n",
       "      <th>PSIA_Gust_Spd_Cubed</th>\n",
       "      <th>Redding_Gust_Spd_Cubed</th>\n",
       "      <th>Tehachapi_Gust_Spd_Cubed</th>\n",
       "      <th>PortChicago_Gust_Spd_Cubed</th>\n",
       "      <th>CAMPO_Density</th>\n",
       "      <th>Livermore_Density</th>\n",
       "      <th>PSIA_Density</th>\n",
       "    </tr>\n",
       "  </thead>\n",
       "  <tbody>\n",
       "    <tr>\n",
       "      <th>2010-04-20 04:00:00</th>\n",
       "      <td>0.737476</td>\n",
       "      <td>0.369558</td>\n",
       "      <td>0.271062</td>\n",
       "      <td>0.253045</td>\n",
       "      <td>0.253045</td>\n",
       "      <td>0</td>\n",
       "      <td>0</td>\n",
       "      <td>4096</td>\n",
       "      <td>343</td>\n",
       "      <td>343</td>\n",
       "      <td>4913</td>\n",
       "      <td>0</td>\n",
       "      <td>0</td>\n",
       "      <td>12167</td>\n",
       "      <td>0</td>\n",
       "      <td>0</td>\n",
       "      <td>0</td>\n",
       "      <td>1.127415</td>\n",
       "      <td>1.207839</td>\n",
       "      <td>1.156181</td>\n",
       "    </tr>\n",
       "    <tr>\n",
       "      <th>2010-04-20 05:00:00</th>\n",
       "      <td>0.737476</td>\n",
       "      <td>0.350339</td>\n",
       "      <td>0.369558</td>\n",
       "      <td>0.271062</td>\n",
       "      <td>0.253045</td>\n",
       "      <td>125</td>\n",
       "      <td>1331</td>\n",
       "      <td>2197</td>\n",
       "      <td>729</td>\n",
       "      <td>0</td>\n",
       "      <td>343</td>\n",
       "      <td>0</td>\n",
       "      <td>0</td>\n",
       "      <td>8000</td>\n",
       "      <td>0</td>\n",
       "      <td>0</td>\n",
       "      <td>0</td>\n",
       "      <td>1.136907</td>\n",
       "      <td>1.206606</td>\n",
       "      <td>1.160153</td>\n",
       "    </tr>\n",
       "    <tr>\n",
       "      <th>2010-04-20 06:00:00</th>\n",
       "      <td>0.737476</td>\n",
       "      <td>0.399587</td>\n",
       "      <td>0.350339</td>\n",
       "      <td>0.369558</td>\n",
       "      <td>0.271062</td>\n",
       "      <td>125</td>\n",
       "      <td>1000</td>\n",
       "      <td>27</td>\n",
       "      <td>512</td>\n",
       "      <td>0</td>\n",
       "      <td>1</td>\n",
       "      <td>0</td>\n",
       "      <td>0</td>\n",
       "      <td>0</td>\n",
       "      <td>0</td>\n",
       "      <td>0</td>\n",
       "      <td>0</td>\n",
       "      <td>1.136907</td>\n",
       "      <td>1.205979</td>\n",
       "      <td>1.162514</td>\n",
       "    </tr>\n",
       "    <tr>\n",
       "      <th>2010-04-20 07:00:00</th>\n",
       "      <td>0.737476</td>\n",
       "      <td>0.305496</td>\n",
       "      <td>0.399587</td>\n",
       "      <td>0.350339</td>\n",
       "      <td>0.369558</td>\n",
       "      <td>125</td>\n",
       "      <td>216</td>\n",
       "      <td>1000</td>\n",
       "      <td>0</td>\n",
       "      <td>512</td>\n",
       "      <td>27</td>\n",
       "      <td>0</td>\n",
       "      <td>0</td>\n",
       "      <td>0</td>\n",
       "      <td>0</td>\n",
       "      <td>0</td>\n",
       "      <td>0</td>\n",
       "      <td>1.143671</td>\n",
       "      <td>1.204994</td>\n",
       "      <td>1.164696</td>\n",
       "    </tr>\n",
       "    <tr>\n",
       "      <th>2010-04-20 08:00:00</th>\n",
       "      <td>0.737476</td>\n",
       "      <td>0.217811</td>\n",
       "      <td>0.305496</td>\n",
       "      <td>0.399587</td>\n",
       "      <td>0.350339</td>\n",
       "      <td>27</td>\n",
       "      <td>512</td>\n",
       "      <td>343</td>\n",
       "      <td>729</td>\n",
       "      <td>125</td>\n",
       "      <td>8</td>\n",
       "      <td>0</td>\n",
       "      <td>0</td>\n",
       "      <td>0</td>\n",
       "      <td>0</td>\n",
       "      <td>0</td>\n",
       "      <td>0</td>\n",
       "      <td>1.143844</td>\n",
       "      <td>1.203976</td>\n",
       "      <td>1.173125</td>\n",
       "    </tr>\n",
       "  </tbody>\n",
       "</table>\n",
       "</div>"
      ],
      "text/plain": [
       "                     PeriodicTime   Trail_1   Trail_2   Trail_3   Trail_4  \\\n",
       "2010-04-20 04:00:00      0.737476  0.369558  0.271062  0.253045  0.253045   \n",
       "2010-04-20 05:00:00      0.737476  0.350339  0.369558  0.271062  0.253045   \n",
       "2010-04-20 06:00:00      0.737476  0.399587  0.350339  0.369558  0.271062   \n",
       "2010-04-20 07:00:00      0.737476  0.305496  0.399587  0.350339  0.369558   \n",
       "2010-04-20 08:00:00      0.737476  0.217811  0.305496  0.399587  0.350339   \n",
       "\n",
       "                     CAMPO_Wind_Spd_Cubed  Livermore_Wind_Spd_Cubed  \\\n",
       "2010-04-20 04:00:00                     0                         0   \n",
       "2010-04-20 05:00:00                   125                      1331   \n",
       "2010-04-20 06:00:00                   125                      1000   \n",
       "2010-04-20 07:00:00                   125                       216   \n",
       "2010-04-20 08:00:00                    27                       512   \n",
       "\n",
       "                     PSIA_Wind_Spd_Cubed  Redding_Wind_Spd_Cubed  \\\n",
       "2010-04-20 04:00:00                 4096                     343   \n",
       "2010-04-20 05:00:00                 2197                     729   \n",
       "2010-04-20 06:00:00                   27                     512   \n",
       "2010-04-20 07:00:00                 1000                       0   \n",
       "2010-04-20 08:00:00                  343                     729   \n",
       "\n",
       "                     Tehachapi_Wind_Spd_Cubed  PortChicago_Wind_Spd_Cubed  \\\n",
       "2010-04-20 04:00:00                       343                        4913   \n",
       "2010-04-20 05:00:00                         0                         343   \n",
       "2010-04-20 06:00:00                         0                           1   \n",
       "2010-04-20 07:00:00                       512                          27   \n",
       "2010-04-20 08:00:00                       125                           8   \n",
       "\n",
       "                     CAMPO_Gust_Spd_Cubed  Livermore_Gust_Spd_Cubed  \\\n",
       "2010-04-20 04:00:00                     0                         0   \n",
       "2010-04-20 05:00:00                     0                         0   \n",
       "2010-04-20 06:00:00                     0                         0   \n",
       "2010-04-20 07:00:00                     0                         0   \n",
       "2010-04-20 08:00:00                     0                         0   \n",
       "\n",
       "                     PSIA_Gust_Spd_Cubed  Redding_Gust_Spd_Cubed  \\\n",
       "2010-04-20 04:00:00                12167                       0   \n",
       "2010-04-20 05:00:00                 8000                       0   \n",
       "2010-04-20 06:00:00                    0                       0   \n",
       "2010-04-20 07:00:00                    0                       0   \n",
       "2010-04-20 08:00:00                    0                       0   \n",
       "\n",
       "                     Tehachapi_Gust_Spd_Cubed  PortChicago_Gust_Spd_Cubed  \\\n",
       "2010-04-20 04:00:00                         0                           0   \n",
       "2010-04-20 05:00:00                         0                           0   \n",
       "2010-04-20 06:00:00                         0                           0   \n",
       "2010-04-20 07:00:00                         0                           0   \n",
       "2010-04-20 08:00:00                         0                           0   \n",
       "\n",
       "                     CAMPO_Density  Livermore_Density  PSIA_Density  \n",
       "2010-04-20 04:00:00       1.127415           1.207839      1.156181  \n",
       "2010-04-20 05:00:00       1.136907           1.206606      1.160153  \n",
       "2010-04-20 06:00:00       1.136907           1.205979      1.162514  \n",
       "2010-04-20 07:00:00       1.143671           1.204994      1.164696  \n",
       "2010-04-20 08:00:00       1.143844           1.203976      1.173125  "
      ]
     },
     "execution_count": 126,
     "metadata": {},
     "output_type": "execute_result"
    }
   ],
   "source": [
    "Model_NoWindDir = Model.iloc[:,222:242]\n",
    "Model_NoWindDir.head()"
   ]
  },
  {
   "cell_type": "markdown",
   "metadata": {},
   "source": [
    "####4.2.1.4 Model_Complex"
   ]
  },
  {
   "cell_type": "code",
   "execution_count": 127,
   "metadata": {
    "collapsed": false
   },
   "outputs": [
    {
     "data": {
      "text/html": [
       "<div>\n",
       "<table border=\"1\" class=\"dataframe\">\n",
       "  <thead>\n",
       "    <tr style=\"text-align: right;\">\n",
       "      <th></th>\n",
       "      <th>C(CAMPO_Wind_Dir)[010]</th>\n",
       "      <th>C(CAMPO_Wind_Dir)[020]</th>\n",
       "      <th>C(CAMPO_Wind_Dir)[030]</th>\n",
       "      <th>C(CAMPO_Wind_Dir)[040]</th>\n",
       "      <th>C(CAMPO_Wind_Dir)[050]</th>\n",
       "      <th>C(CAMPO_Wind_Dir)[060]</th>\n",
       "      <th>C(CAMPO_Wind_Dir)[070]</th>\n",
       "      <th>C(CAMPO_Wind_Dir)[080]</th>\n",
       "      <th>C(CAMPO_Wind_Dir)[090]</th>\n",
       "      <th>C(CAMPO_Wind_Dir)[100]</th>\n",
       "      <th>...</th>\n",
       "      <th>CAMPO_Gust_Spd_Cubed</th>\n",
       "      <th>Livermore_Gust_Spd_Cubed</th>\n",
       "      <th>PSIA_Gust_Spd_Cubed</th>\n",
       "      <th>Redding_Gust_Spd_Cubed</th>\n",
       "      <th>Tehachapi_Gust_Spd_Cubed</th>\n",
       "      <th>PortChicago_Gust_Spd_Cubed</th>\n",
       "      <th>CAMPO_Density</th>\n",
       "      <th>Livermore_Density</th>\n",
       "      <th>PSIA_Density</th>\n",
       "      <th>Redding_Density</th>\n",
       "    </tr>\n",
       "  </thead>\n",
       "  <tbody>\n",
       "    <tr>\n",
       "      <th>2010-04-20 04:00:00</th>\n",
       "      <td>0</td>\n",
       "      <td>0</td>\n",
       "      <td>0</td>\n",
       "      <td>0</td>\n",
       "      <td>0</td>\n",
       "      <td>0</td>\n",
       "      <td>0</td>\n",
       "      <td>0</td>\n",
       "      <td>0</td>\n",
       "      <td>0</td>\n",
       "      <td>...</td>\n",
       "      <td>0</td>\n",
       "      <td>0</td>\n",
       "      <td>12167</td>\n",
       "      <td>0</td>\n",
       "      <td>0</td>\n",
       "      <td>0</td>\n",
       "      <td>1.127415</td>\n",
       "      <td>1.207839</td>\n",
       "      <td>1.156181</td>\n",
       "      <td>1.185945</td>\n",
       "    </tr>\n",
       "    <tr>\n",
       "      <th>2010-04-20 05:00:00</th>\n",
       "      <td>0</td>\n",
       "      <td>1</td>\n",
       "      <td>0</td>\n",
       "      <td>0</td>\n",
       "      <td>0</td>\n",
       "      <td>0</td>\n",
       "      <td>0</td>\n",
       "      <td>0</td>\n",
       "      <td>0</td>\n",
       "      <td>0</td>\n",
       "      <td>...</td>\n",
       "      <td>0</td>\n",
       "      <td>0</td>\n",
       "      <td>8000</td>\n",
       "      <td>0</td>\n",
       "      <td>0</td>\n",
       "      <td>0</td>\n",
       "      <td>1.136907</td>\n",
       "      <td>1.206606</td>\n",
       "      <td>1.160153</td>\n",
       "      <td>1.185949</td>\n",
       "    </tr>\n",
       "    <tr>\n",
       "      <th>2010-04-20 06:00:00</th>\n",
       "      <td>0</td>\n",
       "      <td>0</td>\n",
       "      <td>0</td>\n",
       "      <td>1</td>\n",
       "      <td>0</td>\n",
       "      <td>0</td>\n",
       "      <td>0</td>\n",
       "      <td>0</td>\n",
       "      <td>0</td>\n",
       "      <td>0</td>\n",
       "      <td>...</td>\n",
       "      <td>0</td>\n",
       "      <td>0</td>\n",
       "      <td>0</td>\n",
       "      <td>0</td>\n",
       "      <td>0</td>\n",
       "      <td>0</td>\n",
       "      <td>1.136907</td>\n",
       "      <td>1.205979</td>\n",
       "      <td>1.162514</td>\n",
       "      <td>1.190194</td>\n",
       "    </tr>\n",
       "    <tr>\n",
       "      <th>2010-04-20 07:00:00</th>\n",
       "      <td>0</td>\n",
       "      <td>0</td>\n",
       "      <td>0</td>\n",
       "      <td>0</td>\n",
       "      <td>0</td>\n",
       "      <td>1</td>\n",
       "      <td>0</td>\n",
       "      <td>0</td>\n",
       "      <td>0</td>\n",
       "      <td>0</td>\n",
       "      <td>...</td>\n",
       "      <td>0</td>\n",
       "      <td>0</td>\n",
       "      <td>0</td>\n",
       "      <td>0</td>\n",
       "      <td>0</td>\n",
       "      <td>0</td>\n",
       "      <td>1.143671</td>\n",
       "      <td>1.204994</td>\n",
       "      <td>1.164696</td>\n",
       "      <td>1.194066</td>\n",
       "    </tr>\n",
       "    <tr>\n",
       "      <th>2010-04-20 08:00:00</th>\n",
       "      <td>0</td>\n",
       "      <td>0</td>\n",
       "      <td>0</td>\n",
       "      <td>0</td>\n",
       "      <td>0</td>\n",
       "      <td>1</td>\n",
       "      <td>0</td>\n",
       "      <td>0</td>\n",
       "      <td>0</td>\n",
       "      <td>0</td>\n",
       "      <td>...</td>\n",
       "      <td>0</td>\n",
       "      <td>0</td>\n",
       "      <td>0</td>\n",
       "      <td>0</td>\n",
       "      <td>0</td>\n",
       "      <td>0</td>\n",
       "      <td>1.143844</td>\n",
       "      <td>1.203976</td>\n",
       "      <td>1.173125</td>\n",
       "      <td>1.198861</td>\n",
       "    </tr>\n",
       "  </tbody>\n",
       "</table>\n",
       "<p>5 rows × 243 columns</p>\n",
       "</div>"
      ],
      "text/plain": [
       "                     C(CAMPO_Wind_Dir)[010]  C(CAMPO_Wind_Dir)[020]  \\\n",
       "2010-04-20 04:00:00                       0                       0   \n",
       "2010-04-20 05:00:00                       0                       1   \n",
       "2010-04-20 06:00:00                       0                       0   \n",
       "2010-04-20 07:00:00                       0                       0   \n",
       "2010-04-20 08:00:00                       0                       0   \n",
       "\n",
       "                     C(CAMPO_Wind_Dir)[030]  C(CAMPO_Wind_Dir)[040]  \\\n",
       "2010-04-20 04:00:00                       0                       0   \n",
       "2010-04-20 05:00:00                       0                       0   \n",
       "2010-04-20 06:00:00                       0                       1   \n",
       "2010-04-20 07:00:00                       0                       0   \n",
       "2010-04-20 08:00:00                       0                       0   \n",
       "\n",
       "                     C(CAMPO_Wind_Dir)[050]  C(CAMPO_Wind_Dir)[060]  \\\n",
       "2010-04-20 04:00:00                       0                       0   \n",
       "2010-04-20 05:00:00                       0                       0   \n",
       "2010-04-20 06:00:00                       0                       0   \n",
       "2010-04-20 07:00:00                       0                       1   \n",
       "2010-04-20 08:00:00                       0                       1   \n",
       "\n",
       "                     C(CAMPO_Wind_Dir)[070]  C(CAMPO_Wind_Dir)[080]  \\\n",
       "2010-04-20 04:00:00                       0                       0   \n",
       "2010-04-20 05:00:00                       0                       0   \n",
       "2010-04-20 06:00:00                       0                       0   \n",
       "2010-04-20 07:00:00                       0                       0   \n",
       "2010-04-20 08:00:00                       0                       0   \n",
       "\n",
       "                     C(CAMPO_Wind_Dir)[090]  C(CAMPO_Wind_Dir)[100]  \\\n",
       "2010-04-20 04:00:00                       0                       0   \n",
       "2010-04-20 05:00:00                       0                       0   \n",
       "2010-04-20 06:00:00                       0                       0   \n",
       "2010-04-20 07:00:00                       0                       0   \n",
       "2010-04-20 08:00:00                       0                       0   \n",
       "\n",
       "                          ...         CAMPO_Gust_Spd_Cubed  \\\n",
       "2010-04-20 04:00:00       ...                            0   \n",
       "2010-04-20 05:00:00       ...                            0   \n",
       "2010-04-20 06:00:00       ...                            0   \n",
       "2010-04-20 07:00:00       ...                            0   \n",
       "2010-04-20 08:00:00       ...                            0   \n",
       "\n",
       "                     Livermore_Gust_Spd_Cubed  PSIA_Gust_Spd_Cubed  \\\n",
       "2010-04-20 04:00:00                         0                12167   \n",
       "2010-04-20 05:00:00                         0                 8000   \n",
       "2010-04-20 06:00:00                         0                    0   \n",
       "2010-04-20 07:00:00                         0                    0   \n",
       "2010-04-20 08:00:00                         0                    0   \n",
       "\n",
       "                     Redding_Gust_Spd_Cubed  Tehachapi_Gust_Spd_Cubed  \\\n",
       "2010-04-20 04:00:00                       0                         0   \n",
       "2010-04-20 05:00:00                       0                         0   \n",
       "2010-04-20 06:00:00                       0                         0   \n",
       "2010-04-20 07:00:00                       0                         0   \n",
       "2010-04-20 08:00:00                       0                         0   \n",
       "\n",
       "                     PortChicago_Gust_Spd_Cubed  CAMPO_Density  \\\n",
       "2010-04-20 04:00:00                           0       1.127415   \n",
       "2010-04-20 05:00:00                           0       1.136907   \n",
       "2010-04-20 06:00:00                           0       1.136907   \n",
       "2010-04-20 07:00:00                           0       1.143671   \n",
       "2010-04-20 08:00:00                           0       1.143844   \n",
       "\n",
       "                     Livermore_Density  PSIA_Density  Redding_Density  \n",
       "2010-04-20 04:00:00           1.207839      1.156181         1.185945  \n",
       "2010-04-20 05:00:00           1.206606      1.160153         1.185949  \n",
       "2010-04-20 06:00:00           1.205979      1.162514         1.190194  \n",
       "2010-04-20 07:00:00           1.204994      1.164696         1.194066  \n",
       "2010-04-20 08:00:00           1.203976      1.173125         1.198861  \n",
       "\n",
       "[5 rows x 243 columns]"
      ]
     },
     "execution_count": 127,
     "metadata": {},
     "output_type": "execute_result"
    }
   ],
   "source": [
    "Model_Complex = Model\n",
    "Model_Complex.head()"
   ]
  },
  {
   "cell_type": "markdown",
   "metadata": {},
   "source": [
    "##4.3 SVM Modeling"
   ]
  },
  {
   "cell_type": "markdown",
   "metadata": {},
   "source": [
    "- To be added at a later time"
   ]
  },
  {
   "cell_type": "markdown",
   "metadata": {},
   "source": [
    "##4.4 Train, CV, Test Split"
   ]
  },
  {
   "cell_type": "markdown",
   "metadata": {},
   "source": [
    "The TrainTestCV_Split function splits each of the input data frames (modelData and targetVar) into three smaller data frames based on the percentages wished to be used for Training, Cross Validation, and Testing respectively.  By default 60% of the data are used for training, 20% are used for cross validation, and the final 20% can be used to test the model's predictive performance.  \n",
    "\n",
    "It is important to note that in this custom function the data are not randomized prior to being split.  Instead they are split based on their arrangement in the input dataframes.  This custom splitting function was necessary because native scikit-learn packages randomize dataframes before splitting a dataset into train, test, cv subgroups, however timeseries data should not be randomized before being split.  In a timeseries application, earlier data should be used to explain later data, otherwise the algorithm may learn patterns that would not be available in a real-world setting.  Algorithms allowed to train on data collected later than the \"prediction window\" may artifically overperform during testing and development, and then underperform when applied in the real world.  This is why the split is performed sequentially."
   ]
  },
  {
   "cell_type": "code",
   "execution_count": 128,
   "metadata": {
    "collapsed": true
   },
   "outputs": [],
   "source": [
    "#Simple train CV test split.  \n",
    "#TrainPerc - percentage of data to be used for training.\n",
    "#CVPerc\n",
    "#TestPerc\n",
    "\n",
    "def TrainTestCV_Split(modelData, targetVar, TrainPerc = 0.6, CVPerc = 0.2, TestPerc = 0.2):\n",
    "    \n",
    "    #error check:\n",
    "    if TrainPerc+CVPerc+TestPerc != 1:\n",
    "        print \"Error: percentages must sum to unity.\"\n",
    "        return None\n",
    "    \n",
    "    Train_Size = TrainPerc*modelData.shape[0]\n",
    "    CV_Size = CVPerc*modelData.shape[0]\n",
    "    Test_Size = TestPerc*modelData.shape[0]\n",
    "    \n",
    "    #Truncation of int forces conservative and non-overlapping subsetting.\n",
    "    Train_ind = int(Train_Size)\n",
    "    CV_ind = Train_ind + int(CV_Size)\n",
    "    Test_ind = CV_ind + int(Test_Size)\n",
    "    \n",
    "    #\n",
    "    Model_Train = modelData.iloc[0:int(Train_ind),:]\n",
    "    Model_CV = modelData.iloc[int(Train_ind):int(CV_ind),:]\n",
    "    Model_Test = modelData.iloc[int(CV_ind):int(Test_ind),:]\n",
    "    Model_Train_CV = modelData.iloc[0:int(CV_ind),:]\n",
    "    \n",
    "    Target_Train = np.ravel(targetVar.iloc[0:int(Train_ind),:])\n",
    "    Target_CV =  np.ravel(targetVar.iloc[int(Train_ind):int(CV_ind),:])\n",
    "    Target_Test =  np.ravel(targetVar.iloc[int(CV_ind):int(Test_ind),:])\n",
    "    Target_Train_CV =  np.ravel(targetVar.iloc[0:int(CV_ind),:])\n",
    "    \n",
    "    return (Model_Train, Model_CV, Model_Test, Model_Train_CV, \n",
    "            Target_Train, Target_CV, Target_Test, Target_Train_CV)"
   ]
  },
  {
   "cell_type": "code",
   "execution_count": 129,
   "metadata": {
    "collapsed": true
   },
   "outputs": [],
   "source": [
    "Simple_Tuple = TrainTestCV_Split(Model_Simple, Target)\n",
    "\n",
    "Target_Train = Simple_Tuple[4]\n",
    "Target_CV =  Simple_Tuple[5]\n",
    "Target_Test =  Simple_Tuple[6]\n",
    "Target_Train_CV =  Simple_Tuple[7]\n",
    "\n",
    "Simple_Train = Simple_Tuple[0]\n",
    "Simple_CV = Simple_Tuple[1]\n",
    "Simple_Test = Simple_Tuple[2]\n",
    "Simple_Train_CV = Simple_Tuple[3]"
   ]
  },
  {
   "cell_type": "code",
   "execution_count": 130,
   "metadata": {
    "collapsed": false
   },
   "outputs": [],
   "source": [
    "Simple_Periodic_Tuple = TrainTestCV_Split(Model_Simple_Periodic, Target)\n",
    "\n",
    "Simple_Periodic_Train = Simple_Periodic_Tuple[0]\n",
    "Simple_Periodic_CV = Simple_Periodic_Tuple[1]\n",
    "Simple_Periodic_Test = Simple_Periodic_Tuple[2]\n",
    "Simple_Periodic_Train_CV = Simple_Periodic_Tuple[3]"
   ]
  },
  {
   "cell_type": "code",
   "execution_count": 131,
   "metadata": {
    "collapsed": false
   },
   "outputs": [],
   "source": [
    "NoWindDir_Tuple = TrainTestCV_Split(Model_NoWindDir, Target)\n",
    "\n",
    "NoWindDir_Train = NoWindDir_Tuple[0]\n",
    "NoWindDir_CV = NoWindDir_Tuple[1]\n",
    "NoWindDir_Test = NoWindDir_Tuple[2]\n",
    "NoWindDir_Train_CV = NoWindDir_Tuple[3]"
   ]
  },
  {
   "cell_type": "code",
   "execution_count": 132,
   "metadata": {
    "collapsed": true
   },
   "outputs": [],
   "source": [
    "Complex_Tuple = TrainTestCV_Split(Model_Complex, Target)\n",
    "\n",
    "Complex_Train = Complex_Tuple[0]\n",
    "Complex_CV = Complex_Tuple[1]\n",
    "Complex_Test = Complex_Tuple[2]\n",
    "Complex_Train_CV = Complex_Tuple[3]"
   ]
  },
  {
   "cell_type": "markdown",
   "metadata": {},
   "source": [
    "##4.5 Model Scoring"
   ]
  },
  {
   "cell_type": "markdown",
   "metadata": {},
   "source": [
    "The model is scored based on Mean Square Error of the prediction.  I chose the mean squared error because it both minimizes the average error magnitude, and especially punishes particularly high errors.  The electrical grid always maintains some small amount of buffer supply, so that if estimates of demand are unusually low the grid will not experience blackouts or brownouts.  In this case unacceptably poor estimates of the output from wind farms will have a similar effect.  The average error should be minimized, but small errors in prediction are generally understood as  acceptable and normal.  Exceptional errors over short time periods are much less acceptable than small errors over long time periods.  The Mean Square Error punishes large erros over small time periods to a greater extent than small errors over long time periods, which would be identical to an error metric like the Mean Absolute Error."
   ]
  },
  {
   "cell_type": "code",
   "execution_count": 133,
   "metadata": {
    "collapsed": false
   },
   "outputs": [],
   "source": [
    "#Custom scorer for GridSearchCV\n",
    "scorer = make_scorer(mean_squared_error, greater_is_better = False) "
   ]
  },
  {
   "cell_type": "code",
   "execution_count": 134,
   "metadata": {
    "collapsed": false
   },
   "outputs": [],
   "source": [
    "#Custom Test, CV split.\n",
    "PDS_TEST = np.array([-1] * Simple_Train.shape[0])\n",
    "PDS_CV = np.array([0] * Simple_CV.shape[0])\n",
    "PDS_Array = np.concatenate([PDS_TEST, PDS_CV], axis = 0)\n",
    "\n",
    "preDefSpl = PredefinedSplit(PDS_Array)"
   ]
  },
  {
   "cell_type": "markdown",
   "metadata": {},
   "source": [
    "#5.0 Model Execution"
   ]
  },
  {
   "cell_type": "markdown",
   "metadata": {},
   "source": [
    "##5.1 Random Forest Gridsearch"
   ]
  },
  {
   "cell_type": "code",
   "execution_count": 165,
   "metadata": {
    "collapsed": false,
    "scrolled": true
   },
   "outputs": [],
   "source": [
    "#Paramatarization of gridsearch.\n",
    "\n",
    "rfParameters = {'max_features' : ('log2', 'sqrt'), 'n_estimators' : range(20,500)}\n",
    "rf = RandomForestRegressor()\n",
    "rfGsearch = GridSearchCV(rf, rfParameters, scoring = scorer, cv = preDefSpl, n_jobs = -1)"
   ]
  },
  {
   "cell_type": "markdown",
   "metadata": {},
   "source": [
    "###5.1.1 Simple_Model Gridsearch"
   ]
  },
  {
   "cell_type": "code",
   "execution_count": 137,
   "metadata": {
    "collapsed": false,
    "scrolled": false
   },
   "outputs": [
    {
     "name": "stdout",
     "output_type": "stream",
     "text": [
      "{'max_features': 'sqrt', 'n_estimators': 304}\n",
      "CPU times: user 23.9 s, sys: 570 ms, total: 24.5 s\n",
      "Wall time: 1min 14s\n"
     ]
    }
   ],
   "source": [
    "%%time\n",
    "\n",
    "rfGsearch.fit(Simple_Train_CV, Target_Train_CV)\n",
    "print rfGsearch.best_params_"
   ]
  },
  {
   "cell_type": "code",
   "execution_count": 138,
   "metadata": {
    "collapsed": false,
    "scrolled": true
   },
   "outputs": [
    {
     "data": {
      "text/plain": [
       "RandomForestRegressor(bootstrap=True, criterion='mse', max_depth=None,\n",
       "           max_features='sqrt', max_leaf_nodes=None, min_samples_leaf=1,\n",
       "           min_samples_split=2, min_weight_fraction_leaf=0.0,\n",
       "           n_estimators=304, n_jobs=-1, oob_score=False, random_state=None,\n",
       "           verbose=0, warm_start=False)"
      ]
     },
     "execution_count": 138,
     "metadata": {},
     "output_type": "execute_result"
    }
   ],
   "source": [
    "rf_Simple = RandomForestRegressor(n_estimators = rfGsearch.best_params_.get('n_estimators'), \n",
    "                                   max_features = rfGsearch.best_params_.get('max_features'), \n",
    "                                   n_jobs = -1)\n",
    "\n",
    "rf_Simple.fit(Simple_Train, Target_Train)"
   ]
  },
  {
   "cell_type": "code",
   "execution_count": 139,
   "metadata": {
    "collapsed": false
   },
   "outputs": [
    {
     "data": {
      "text/html": [
       "<div>\n",
       "<table border=\"1\" class=\"dataframe\">\n",
       "  <thead>\n",
       "    <tr style=\"text-align: right;\">\n",
       "      <th></th>\n",
       "      <th>Predict</th>\n",
       "      <th>Actual</th>\n",
       "      <th>Difference</th>\n",
       "    </tr>\n",
       "  </thead>\n",
       "  <tbody>\n",
       "    <tr>\n",
       "      <th>2014-06-17 07:00:00</th>\n",
       "      <td>0.438226</td>\n",
       "      <td>0.420299</td>\n",
       "      <td>0.017927</td>\n",
       "    </tr>\n",
       "    <tr>\n",
       "      <th>2014-10-13 07:00:00</th>\n",
       "      <td>0.033264</td>\n",
       "      <td>0.027680</td>\n",
       "      <td>0.005584</td>\n",
       "    </tr>\n",
       "    <tr>\n",
       "      <th>2014-12-28 08:00:00</th>\n",
       "      <td>0.036585</td>\n",
       "      <td>0.015843</td>\n",
       "      <td>0.020742</td>\n",
       "    </tr>\n",
       "    <tr>\n",
       "      <th>2015-01-19 02:00:00</th>\n",
       "      <td>0.139023</td>\n",
       "      <td>0.111200</td>\n",
       "      <td>0.027823</td>\n",
       "    </tr>\n",
       "    <tr>\n",
       "      <th>2014-07-25 16:00:00</th>\n",
       "      <td>0.170709</td>\n",
       "      <td>0.185747</td>\n",
       "      <td>-0.015039</td>\n",
       "    </tr>\n",
       "  </tbody>\n",
       "</table>\n",
       "</div>"
      ],
      "text/plain": [
       "                      Predict    Actual  Difference\n",
       "2014-06-17 07:00:00  0.438226  0.420299    0.017927\n",
       "2014-10-13 07:00:00  0.033264  0.027680    0.005584\n",
       "2014-12-28 08:00:00  0.036585  0.015843    0.020742\n",
       "2015-01-19 02:00:00  0.139023  0.111200    0.027823\n",
       "2014-07-25 16:00:00  0.170709  0.185747   -0.015039"
      ]
     },
     "execution_count": 139,
     "metadata": {},
     "output_type": "execute_result"
    }
   ],
   "source": [
    "Result_rfSimple = rf_Simple.predict(Simple_Test)\n",
    "\n",
    "Result_rfSimple_DataFrame = pd.DataFrame(Result_rfSimple, columns = ['Predict'], index = Simple_Test.index)\n",
    "Result_rfSimple_DataFrame['Actual'] = Target_Test\n",
    "Result_rfSimple_DataFrame['Difference'] = Result_rfSimple_DataFrame['Predict'] - Result_rfSimple_DataFrame['Actual']\n",
    "\n",
    "Result_rfSimple_DataFrame.sample(5)"
   ]
  },
  {
   "cell_type": "code",
   "execution_count": 140,
   "metadata": {
    "collapsed": false
   },
   "outputs": [
    {
     "data": {
      "text/plain": [
       "3.1266665656744346"
      ]
     },
     "execution_count": 140,
     "metadata": {},
     "output_type": "execute_result"
    }
   ],
   "source": [
    "SqDiff_Simple = Result_rfSimple_DataFrame.Difference**2\n",
    "np.sqrt(sum(SqDiff_Simple))"
   ]
  },
  {
   "cell_type": "code",
   "execution_count": 142,
   "metadata": {
    "collapsed": false
   },
   "outputs": [],
   "source": [
    "Result_rfSimple_DataFrame.to_csv('data/results/rfSimple_Result.csv')"
   ]
  },
  {
   "cell_type": "markdown",
   "metadata": {},
   "source": [
    "###5.1.2 Simple_Periodic_Model Gridsearch"
   ]
  },
  {
   "cell_type": "code",
   "execution_count": 144,
   "metadata": {
    "collapsed": false
   },
   "outputs": [
    {
     "name": "stdout",
     "output_type": "stream",
     "text": [
      "{'max_features': 'sqrt', 'n_estimators': 389}\n",
      "CPU times: user 35 s, sys: 3.3 s, total: 38.3 s\n",
      "Wall time: 50min 51s\n"
     ]
    }
   ],
   "source": [
    "%%time\n",
    "\n",
    "rfGsearch.fit(Simple_Periodic_Train_CV, Target_Train_CV)\n",
    "print rfGsearch.best_params_"
   ]
  },
  {
   "cell_type": "code",
   "execution_count": 145,
   "metadata": {
    "collapsed": false
   },
   "outputs": [
    {
     "data": {
      "text/plain": [
       "RandomForestRegressor(bootstrap=True, criterion='mse', max_depth=None,\n",
       "           max_features='sqrt', max_leaf_nodes=None, min_samples_leaf=1,\n",
       "           min_samples_split=2, min_weight_fraction_leaf=0.0,\n",
       "           n_estimators=389, n_jobs=-1, oob_score=False, random_state=None,\n",
       "           verbose=0, warm_start=False)"
      ]
     },
     "execution_count": 145,
     "metadata": {},
     "output_type": "execute_result"
    }
   ],
   "source": [
    "rf_Simple_Periodic = RandomForestRegressor(n_estimators = rfGsearch.best_params_.get('n_estimators'), \n",
    "                                   max_features = rfGsearch.best_params_.get('max_features'), \n",
    "                                   n_jobs = -1)\n",
    "\n",
    "rf_Simple_Periodic.fit(Simple_Periodic_Train, Target_Train)"
   ]
  },
  {
   "cell_type": "code",
   "execution_count": 146,
   "metadata": {
    "collapsed": false
   },
   "outputs": [
    {
     "data": {
      "text/html": [
       "<div>\n",
       "<table border=\"1\" class=\"dataframe\">\n",
       "  <thead>\n",
       "    <tr style=\"text-align: right;\">\n",
       "      <th></th>\n",
       "      <th>Predict</th>\n",
       "      <th>Actual</th>\n",
       "      <th>Difference</th>\n",
       "    </tr>\n",
       "  </thead>\n",
       "  <tbody>\n",
       "    <tr>\n",
       "      <th>2015-05-12 07:00:00</th>\n",
       "      <td>0.347364</td>\n",
       "      <td>0.317521</td>\n",
       "      <td>0.029842</td>\n",
       "    </tr>\n",
       "    <tr>\n",
       "      <th>2015-02-13 12:00:00</th>\n",
       "      <td>0.036833</td>\n",
       "      <td>0.034308</td>\n",
       "      <td>0.002525</td>\n",
       "    </tr>\n",
       "    <tr>\n",
       "      <th>2014-12-27 08:00:00</th>\n",
       "      <td>0.073962</td>\n",
       "      <td>0.058638</td>\n",
       "      <td>0.015324</td>\n",
       "    </tr>\n",
       "    <tr>\n",
       "      <th>2015-04-09 12:00:00</th>\n",
       "      <td>0.137747</td>\n",
       "      <td>0.088000</td>\n",
       "      <td>0.049747</td>\n",
       "    </tr>\n",
       "    <tr>\n",
       "      <th>2015-04-20 03:00:00</th>\n",
       "      <td>0.427549</td>\n",
       "      <td>0.413241</td>\n",
       "      <td>0.014308</td>\n",
       "    </tr>\n",
       "  </tbody>\n",
       "</table>\n",
       "</div>"
      ],
      "text/plain": [
       "                      Predict    Actual  Difference\n",
       "2015-05-12 07:00:00  0.347364  0.317521    0.029842\n",
       "2015-02-13 12:00:00  0.036833  0.034308    0.002525\n",
       "2014-12-27 08:00:00  0.073962  0.058638    0.015324\n",
       "2015-04-09 12:00:00  0.137747  0.088000    0.049747\n",
       "2015-04-20 03:00:00  0.427549  0.413241    0.014308"
      ]
     },
     "execution_count": 146,
     "metadata": {},
     "output_type": "execute_result"
    }
   ],
   "source": [
    "Result_rfSimple_Periodic = rf_Simple_Periodic.predict(Simple_Periodic_Test)\n",
    "\n",
    "Result_rfSimple_Periodic_DataFrame = pd.DataFrame(Result_rfSimple_Periodic, columns = ['Predict'], index = Simple_Periodic_Test.index)\n",
    "Result_rfSimple_Periodic_DataFrame['Actual'] = Target_Test\n",
    "Result_rfSimple_Periodic_DataFrame['Difference'] = Result_rfSimple_Periodic_DataFrame['Predict'] - Result_rfSimple_Periodic_DataFrame['Actual']\n",
    "\n",
    "Result_rfSimple_Periodic_DataFrame.sample(5)"
   ]
  },
  {
   "cell_type": "code",
   "execution_count": 147,
   "metadata": {
    "collapsed": false
   },
   "outputs": [
    {
     "data": {
      "text/plain": [
       "3.0661661691564106"
      ]
     },
     "execution_count": 147,
     "metadata": {},
     "output_type": "execute_result"
    }
   ],
   "source": [
    "SqDiff_Simple_Periodic = Result_rfSimple_Periodic_DataFrame.Difference**2\n",
    "np.sqrt(sum(SqDiff_Simple_Periodic))"
   ]
  },
  {
   "cell_type": "code",
   "execution_count": 148,
   "metadata": {
    "collapsed": true
   },
   "outputs": [],
   "source": [
    "Result_rfSimple_Periodic_DataFrame.to_csv('data/results/rfSimple_Periodic_Result.csv')"
   ]
  },
  {
   "cell_type": "markdown",
   "metadata": {},
   "source": [
    "###5.1.3 NoWindDir_Model Gridsearch"
   ]
  },
  {
   "cell_type": "code",
   "execution_count": 149,
   "metadata": {
    "collapsed": false
   },
   "outputs": [
    {
     "name": "stdout",
     "output_type": "stream",
     "text": [
      "{'max_features': 'sqrt', 'n_estimators': 449}\n",
      "CPU times: user 1min 4s, sys: 6.58 s, total: 1min 11s\n",
      "Wall time: 1h 2min 54s\n"
     ]
    }
   ],
   "source": [
    "%%time\n",
    "\n",
    "rfGsearch.fit(NoWindDir_Train_CV, Target_Train_CV)\n",
    "print rfGsearch.best_params_"
   ]
  },
  {
   "cell_type": "code",
   "execution_count": 150,
   "metadata": {
    "collapsed": false
   },
   "outputs": [
    {
     "data": {
      "text/plain": [
       "RandomForestRegressor(bootstrap=True, criterion='mse', max_depth=None,\n",
       "           max_features='sqrt', max_leaf_nodes=None, min_samples_leaf=1,\n",
       "           min_samples_split=2, min_weight_fraction_leaf=0.0,\n",
       "           n_estimators=449, n_jobs=-1, oob_score=False, random_state=None,\n",
       "           verbose=0, warm_start=False)"
      ]
     },
     "execution_count": 150,
     "metadata": {},
     "output_type": "execute_result"
    }
   ],
   "source": [
    "rf_NoWindDir = RandomForestRegressor(n_estimators = rfGsearch.best_params_.get('n_estimators'), \n",
    "                                   max_features = rfGsearch.best_params_.get('max_features'), \n",
    "                                   n_jobs = -1)\n",
    "\n",
    "rf_NoWindDir.fit(NoWindDir_Train, Target_Train)"
   ]
  },
  {
   "cell_type": "code",
   "execution_count": 152,
   "metadata": {
    "collapsed": false
   },
   "outputs": [
    {
     "data": {
      "text/html": [
       "<div>\n",
       "<table border=\"1\" class=\"dataframe\">\n",
       "  <thead>\n",
       "    <tr style=\"text-align: right;\">\n",
       "      <th></th>\n",
       "      <th>PeriodicTime</th>\n",
       "      <th>Trail_1</th>\n",
       "      <th>Trail_2</th>\n",
       "      <th>Trail_3</th>\n",
       "      <th>Trail_4</th>\n",
       "      <th>CAMPO_Wind_Spd_Cubed</th>\n",
       "      <th>Livermore_Wind_Spd_Cubed</th>\n",
       "      <th>PSIA_Wind_Spd_Cubed</th>\n",
       "      <th>Redding_Wind_Spd_Cubed</th>\n",
       "      <th>Tehachapi_Wind_Spd_Cubed</th>\n",
       "      <th>PortChicago_Wind_Spd_Cubed</th>\n",
       "      <th>CAMPO_Gust_Spd_Cubed</th>\n",
       "      <th>Livermore_Gust_Spd_Cubed</th>\n",
       "      <th>PSIA_Gust_Spd_Cubed</th>\n",
       "      <th>Redding_Gust_Spd_Cubed</th>\n",
       "      <th>Tehachapi_Gust_Spd_Cubed</th>\n",
       "      <th>PortChicago_Gust_Spd_Cubed</th>\n",
       "      <th>CAMPO_Density</th>\n",
       "      <th>Livermore_Density</th>\n",
       "      <th>PSIA_Density</th>\n",
       "    </tr>\n",
       "  </thead>\n",
       "  <tbody>\n",
       "    <tr>\n",
       "      <th>2014-06-16 06:00:00</th>\n",
       "      <td>0.998501</td>\n",
       "      <td>0.558881</td>\n",
       "      <td>0.554510</td>\n",
       "      <td>0.550686</td>\n",
       "      <td>0.550686</td>\n",
       "      <td>512</td>\n",
       "      <td>216</td>\n",
       "      <td>4913</td>\n",
       "      <td>343</td>\n",
       "      <td>2744</td>\n",
       "      <td>4096</td>\n",
       "      <td>0</td>\n",
       "      <td>0</td>\n",
       "      <td>21952</td>\n",
       "      <td>0</td>\n",
       "      <td>0</td>\n",
       "      <td>0</td>\n",
       "      <td>1.129830</td>\n",
       "      <td>1.205862</td>\n",
       "      <td>1.149069</td>\n",
       "    </tr>\n",
       "    <tr>\n",
       "      <th>2014-06-16 07:00:00</th>\n",
       "      <td>0.998501</td>\n",
       "      <td>0.551233</td>\n",
       "      <td>0.558881</td>\n",
       "      <td>0.554510</td>\n",
       "      <td>0.550686</td>\n",
       "      <td>125</td>\n",
       "      <td>1331</td>\n",
       "      <td>729</td>\n",
       "      <td>343</td>\n",
       "      <td>4096</td>\n",
       "      <td>10648</td>\n",
       "      <td>0</td>\n",
       "      <td>0</td>\n",
       "      <td>0</td>\n",
       "      <td>0</td>\n",
       "      <td>9261</td>\n",
       "      <td>0</td>\n",
       "      <td>1.141099</td>\n",
       "      <td>1.205375</td>\n",
       "      <td>1.149017</td>\n",
       "    </tr>\n",
       "    <tr>\n",
       "      <th>2014-06-16 08:00:00</th>\n",
       "      <td>0.998501</td>\n",
       "      <td>0.520093</td>\n",
       "      <td>0.551233</td>\n",
       "      <td>0.558881</td>\n",
       "      <td>0.554510</td>\n",
       "      <td>216</td>\n",
       "      <td>1331</td>\n",
       "      <td>512</td>\n",
       "      <td>0</td>\n",
       "      <td>4096</td>\n",
       "      <td>4096</td>\n",
       "      <td>0</td>\n",
       "      <td>0</td>\n",
       "      <td>0</td>\n",
       "      <td>0</td>\n",
       "      <td>0</td>\n",
       "      <td>0</td>\n",
       "      <td>1.141201</td>\n",
       "      <td>1.207718</td>\n",
       "      <td>1.149017</td>\n",
       "    </tr>\n",
       "    <tr>\n",
       "      <th>2014-06-16 09:00:00</th>\n",
       "      <td>0.998501</td>\n",
       "      <td>0.482761</td>\n",
       "      <td>0.520093</td>\n",
       "      <td>0.551233</td>\n",
       "      <td>0.558881</td>\n",
       "      <td>343</td>\n",
       "      <td>2197</td>\n",
       "      <td>125</td>\n",
       "      <td>216</td>\n",
       "      <td>4096</td>\n",
       "      <td>5832</td>\n",
       "      <td>0</td>\n",
       "      <td>0</td>\n",
       "      <td>0</td>\n",
       "      <td>0</td>\n",
       "      <td>0</td>\n",
       "      <td>0</td>\n",
       "      <td>1.145466</td>\n",
       "      <td>1.207718</td>\n",
       "      <td>1.154996</td>\n",
       "    </tr>\n",
       "    <tr>\n",
       "      <th>2014-06-16 10:00:00</th>\n",
       "      <td>0.998501</td>\n",
       "      <td>0.439056</td>\n",
       "      <td>0.482761</td>\n",
       "      <td>0.520093</td>\n",
       "      <td>0.551233</td>\n",
       "      <td>343</td>\n",
       "      <td>729</td>\n",
       "      <td>512</td>\n",
       "      <td>0</td>\n",
       "      <td>5832</td>\n",
       "      <td>2197</td>\n",
       "      <td>0</td>\n",
       "      <td>0</td>\n",
       "      <td>0</td>\n",
       "      <td>0</td>\n",
       "      <td>12167</td>\n",
       "      <td>0</td>\n",
       "      <td>1.145840</td>\n",
       "      <td>1.205862</td>\n",
       "      <td>1.153152</td>\n",
       "    </tr>\n",
       "  </tbody>\n",
       "</table>\n",
       "</div>"
      ],
      "text/plain": [
       "                     PeriodicTime   Trail_1   Trail_2   Trail_3   Trail_4  \\\n",
       "2014-06-16 06:00:00      0.998501  0.558881  0.554510  0.550686  0.550686   \n",
       "2014-06-16 07:00:00      0.998501  0.551233  0.558881  0.554510  0.550686   \n",
       "2014-06-16 08:00:00      0.998501  0.520093  0.551233  0.558881  0.554510   \n",
       "2014-06-16 09:00:00      0.998501  0.482761  0.520093  0.551233  0.558881   \n",
       "2014-06-16 10:00:00      0.998501  0.439056  0.482761  0.520093  0.551233   \n",
       "\n",
       "                     CAMPO_Wind_Spd_Cubed  Livermore_Wind_Spd_Cubed  \\\n",
       "2014-06-16 06:00:00                   512                       216   \n",
       "2014-06-16 07:00:00                   125                      1331   \n",
       "2014-06-16 08:00:00                   216                      1331   \n",
       "2014-06-16 09:00:00                   343                      2197   \n",
       "2014-06-16 10:00:00                   343                       729   \n",
       "\n",
       "                     PSIA_Wind_Spd_Cubed  Redding_Wind_Spd_Cubed  \\\n",
       "2014-06-16 06:00:00                 4913                     343   \n",
       "2014-06-16 07:00:00                  729                     343   \n",
       "2014-06-16 08:00:00                  512                       0   \n",
       "2014-06-16 09:00:00                  125                     216   \n",
       "2014-06-16 10:00:00                  512                       0   \n",
       "\n",
       "                     Tehachapi_Wind_Spd_Cubed  PortChicago_Wind_Spd_Cubed  \\\n",
       "2014-06-16 06:00:00                      2744                        4096   \n",
       "2014-06-16 07:00:00                      4096                       10648   \n",
       "2014-06-16 08:00:00                      4096                        4096   \n",
       "2014-06-16 09:00:00                      4096                        5832   \n",
       "2014-06-16 10:00:00                      5832                        2197   \n",
       "\n",
       "                     CAMPO_Gust_Spd_Cubed  Livermore_Gust_Spd_Cubed  \\\n",
       "2014-06-16 06:00:00                     0                         0   \n",
       "2014-06-16 07:00:00                     0                         0   \n",
       "2014-06-16 08:00:00                     0                         0   \n",
       "2014-06-16 09:00:00                     0                         0   \n",
       "2014-06-16 10:00:00                     0                         0   \n",
       "\n",
       "                     PSIA_Gust_Spd_Cubed  Redding_Gust_Spd_Cubed  \\\n",
       "2014-06-16 06:00:00                21952                       0   \n",
       "2014-06-16 07:00:00                    0                       0   \n",
       "2014-06-16 08:00:00                    0                       0   \n",
       "2014-06-16 09:00:00                    0                       0   \n",
       "2014-06-16 10:00:00                    0                       0   \n",
       "\n",
       "                     Tehachapi_Gust_Spd_Cubed  PortChicago_Gust_Spd_Cubed  \\\n",
       "2014-06-16 06:00:00                         0                           0   \n",
       "2014-06-16 07:00:00                      9261                           0   \n",
       "2014-06-16 08:00:00                         0                           0   \n",
       "2014-06-16 09:00:00                         0                           0   \n",
       "2014-06-16 10:00:00                     12167                           0   \n",
       "\n",
       "                     CAMPO_Density  Livermore_Density  PSIA_Density  \n",
       "2014-06-16 06:00:00       1.129830           1.205862      1.149069  \n",
       "2014-06-16 07:00:00       1.141099           1.205375      1.149017  \n",
       "2014-06-16 08:00:00       1.141201           1.207718      1.149017  \n",
       "2014-06-16 09:00:00       1.145466           1.207718      1.154996  \n",
       "2014-06-16 10:00:00       1.145840           1.205862      1.153152  "
      ]
     },
     "execution_count": 152,
     "metadata": {},
     "output_type": "execute_result"
    }
   ],
   "source": [
    "NoWindDir_Test.head()"
   ]
  },
  {
   "cell_type": "code",
   "execution_count": 153,
   "metadata": {
    "collapsed": false
   },
   "outputs": [
    {
     "data": {
      "text/html": [
       "<div>\n",
       "<table border=\"1\" class=\"dataframe\">\n",
       "  <thead>\n",
       "    <tr style=\"text-align: right;\">\n",
       "      <th></th>\n",
       "      <th>Predict</th>\n",
       "      <th>Actual</th>\n",
       "      <th>Difference</th>\n",
       "    </tr>\n",
       "  </thead>\n",
       "  <tbody>\n",
       "    <tr>\n",
       "      <th>2015-01-05 16:00:00</th>\n",
       "      <td>0.019200</td>\n",
       "      <td>0.020107</td>\n",
       "      <td>-0.000907</td>\n",
       "    </tr>\n",
       "    <tr>\n",
       "      <th>2015-05-13 10:00:00</th>\n",
       "      <td>0.305418</td>\n",
       "      <td>0.290933</td>\n",
       "      <td>0.014485</td>\n",
       "    </tr>\n",
       "    <tr>\n",
       "      <th>2014-12-01 15:00:00</th>\n",
       "      <td>0.023896</td>\n",
       "      <td>0.024402</td>\n",
       "      <td>-0.000506</td>\n",
       "    </tr>\n",
       "    <tr>\n",
       "      <th>2015-02-17 09:00:00</th>\n",
       "      <td>0.114058</td>\n",
       "      <td>0.121794</td>\n",
       "      <td>-0.007736</td>\n",
       "    </tr>\n",
       "    <tr>\n",
       "      <th>2014-12-26 09:00:00</th>\n",
       "      <td>0.194499</td>\n",
       "      <td>0.209967</td>\n",
       "      <td>-0.015468</td>\n",
       "    </tr>\n",
       "  </tbody>\n",
       "</table>\n",
       "</div>"
      ],
      "text/plain": [
       "                      Predict    Actual  Difference\n",
       "2015-01-05 16:00:00  0.019200  0.020107   -0.000907\n",
       "2015-05-13 10:00:00  0.305418  0.290933    0.014485\n",
       "2014-12-01 15:00:00  0.023896  0.024402   -0.000506\n",
       "2015-02-17 09:00:00  0.114058  0.121794   -0.007736\n",
       "2014-12-26 09:00:00  0.194499  0.209967   -0.015468"
      ]
     },
     "execution_count": 153,
     "metadata": {},
     "output_type": "execute_result"
    }
   ],
   "source": [
    "Result_rfNoWindDir = rf_NoWindDir.predict(NoWindDir_Test)\n",
    "\n",
    "Result_rfNoWindDir_DataFrame = pd.DataFrame(Result_rfNoWindDir, columns = ['Predict'], index = NoWindDir_Test.index)\n",
    "Result_rfNoWindDir_DataFrame['Actual'] = Target_Test\n",
    "Result_rfNoWindDir_DataFrame['Difference'] = Result_rfNoWindDir_DataFrame['Predict'] - Result_rfNoWindDir_DataFrame['Actual']\n",
    "\n",
    "Result_rfNoWindDir_DataFrame.sample(5)"
   ]
  },
  {
   "cell_type": "code",
   "execution_count": 155,
   "metadata": {
    "collapsed": false
   },
   "outputs": [
    {
     "data": {
      "text/plain": [
       "3.2375127169980069"
      ]
     },
     "execution_count": 155,
     "metadata": {},
     "output_type": "execute_result"
    }
   ],
   "source": [
    "SqDiff_NoWindDir = Result_rfNoWindDir_DataFrame.Difference**2\n",
    "np.sqrt(sum(SqDiff_NoWindDir))"
   ]
  },
  {
   "cell_type": "code",
   "execution_count": 157,
   "metadata": {
    "collapsed": false
   },
   "outputs": [],
   "source": [
    "Result_rfNoWindDir_DataFrame.to_csv('data/results/rfNoWindDir_Result.csv')"
   ]
  },
  {
   "cell_type": "markdown",
   "metadata": {},
   "source": [
    "###5.1.4 Complex_Model Gridsearch"
   ]
  },
  {
   "cell_type": "code",
   "execution_count": 159,
   "metadata": {
    "collapsed": false
   },
   "outputs": [
    {
     "name": "stdout",
     "output_type": "stream",
     "text": [
      "{'max_features': 'sqrt', 'n_estimators': 101}\n",
      "CPU times: user 13.5 s, sys: 1.07 s, total: 14.6 s\n",
      "Wall time: 32 s\n"
     ]
    }
   ],
   "source": [
    "%%time\n",
    "\n",
    "#The Train_CV split has been entered into the rfGridsearch function as cv = preDefSpl defined\n",
    "#above.\n",
    "\n",
    "rfGsearch.fit(Complex_Train_CV, Target_Train_CV)\n",
    "print rfGsearch.best_params_"
   ]
  },
  {
   "cell_type": "code",
   "execution_count": 160,
   "metadata": {
    "collapsed": false
   },
   "outputs": [
    {
     "data": {
      "text/plain": [
       "RandomForestRegressor(bootstrap=True, criterion='mse', max_depth=None,\n",
       "           max_features='sqrt', max_leaf_nodes=None, min_samples_leaf=1,\n",
       "           min_samples_split=2, min_weight_fraction_leaf=0.0,\n",
       "           n_estimators=101, n_jobs=-1, oob_score=False, random_state=None,\n",
       "           verbose=0, warm_start=False)"
      ]
     },
     "execution_count": 160,
     "metadata": {},
     "output_type": "execute_result"
    }
   ],
   "source": [
    "rf_Complex = RandomForestRegressor(n_estimators = rfGsearch.best_params_.get('n_estimators'), \n",
    "                                   max_features = rfGsearch.best_params_.get('max_features'), \n",
    "                                   n_jobs = -1)\n",
    "\n",
    "rf_Complex.fit(Complex_Train, Target_Train)"
   ]
  },
  {
   "cell_type": "code",
   "execution_count": 161,
   "metadata": {
    "collapsed": false
   },
   "outputs": [
    {
     "data": {
      "text/html": [
       "<div>\n",
       "<table border=\"1\" class=\"dataframe\">\n",
       "  <thead>\n",
       "    <tr style=\"text-align: right;\">\n",
       "      <th></th>\n",
       "      <th>Predict</th>\n",
       "      <th>Actual</th>\n",
       "      <th>Difference</th>\n",
       "    </tr>\n",
       "  </thead>\n",
       "  <tbody>\n",
       "    <tr>\n",
       "      <th>2014-11-09 05:00:00</th>\n",
       "      <td>0.012997</td>\n",
       "      <td>0.006009</td>\n",
       "      <td>0.006987</td>\n",
       "    </tr>\n",
       "    <tr>\n",
       "      <th>2014-09-19 12:00:00</th>\n",
       "      <td>0.154712</td>\n",
       "      <td>0.114362</td>\n",
       "      <td>0.040350</td>\n",
       "    </tr>\n",
       "    <tr>\n",
       "      <th>2015-02-14 06:00:00</th>\n",
       "      <td>0.035920</td>\n",
       "      <td>0.022986</td>\n",
       "      <td>0.012934</td>\n",
       "    </tr>\n",
       "    <tr>\n",
       "      <th>2014-09-21 01:00:00</th>\n",
       "      <td>0.436476</td>\n",
       "      <td>0.422484</td>\n",
       "      <td>0.013992</td>\n",
       "    </tr>\n",
       "    <tr>\n",
       "      <th>2015-01-14 18:00:00</th>\n",
       "      <td>0.012979</td>\n",
       "      <td>0.003953</td>\n",
       "      <td>0.009026</td>\n",
       "    </tr>\n",
       "  </tbody>\n",
       "</table>\n",
       "</div>"
      ],
      "text/plain": [
       "                      Predict    Actual  Difference\n",
       "2014-11-09 05:00:00  0.012997  0.006009    0.006987\n",
       "2014-09-19 12:00:00  0.154712  0.114362    0.040350\n",
       "2015-02-14 06:00:00  0.035920  0.022986    0.012934\n",
       "2014-09-21 01:00:00  0.436476  0.422484    0.013992\n",
       "2015-01-14 18:00:00  0.012979  0.003953    0.009026"
      ]
     },
     "execution_count": 161,
     "metadata": {},
     "output_type": "execute_result"
    }
   ],
   "source": [
    "Result_rfComplex = rf_Complex.predict(Complex_Test)\n",
    "\n",
    "Result_rfComplex_DataFrame = pd.DataFrame(Result_rfComplex, columns = ['Predict'], index = Complex_Test.index)\n",
    "Result_rfComplex_DataFrame['Actual'] = Target_Test\n",
    "Result_rfComplex_DataFrame['Difference'] = Result_rfComplex_DataFrame['Predict'] - Result_rfComplex_DataFrame['Actual']\n",
    "\n",
    "Result_rfComplex_DataFrame.sample(5)"
   ]
  },
  {
   "cell_type": "code",
   "execution_count": 162,
   "metadata": {
    "collapsed": false
   },
   "outputs": [
    {
     "data": {
      "text/plain": [
       "4.2172229599618607"
      ]
     },
     "execution_count": 162,
     "metadata": {},
     "output_type": "execute_result"
    }
   ],
   "source": [
    "SqDiff_Complex = Result_rfComplex_DataFrame.Difference**2\n",
    "np.sqrt(sum(SqDiff_Complex))"
   ]
  },
  {
   "cell_type": "code",
   "execution_count": 164,
   "metadata": {
    "collapsed": false
   },
   "outputs": [],
   "source": [
    "Result_rfComplex_DataFrame.to_csv('data/results/rfComplex_Result.csv')"
   ]
  },
  {
   "cell_type": "markdown",
   "metadata": {},
   "source": [
    "#Import Results Directly"
   ]
  },
  {
   "cell_type": "markdown",
   "metadata": {},
   "source": [
    "Running the random forest algorithms in order to generate the models through each iteration takes several hours on a medium-quality machine, so the resulting predictions have been saved as .csv files under the data/results directory:\n",
    "\n",
    "- rfSimple_Result.csv\n",
    "- rfSimple_Periodic_Result.csv\n",
    "- rfNoWindDir_Result.csv\n",
    "- rfComplex_Result.csv\n",
    "\n",
    "These files can be directly accessed with the code below without the need to rerun the time-consuming modeling code."
   ]
  },
  {
   "cell_type": "code",
   "execution_count": 234,
   "metadata": {
    "collapsed": true
   },
   "outputs": [],
   "source": [
    "#For each model, the data are loaded, indexed to the first column, and then reindexed so that the index is continuious\n",
    "Result_rfSimple_DataFrame = pd.read_csv('data/results/rfSimple_Result.csv', index_col = 0)\n",
    "Result_rfSimple_DataFrame.index = pd.to_datetime(Result_rfSimple_DataFrame.index)\n",
    "Result_rfSimple_DataFrame = Result_rfSimple_DataFrame.reindex(pd.date_range('6/16/2014 6:00:00', periods=8391, freq='H'))\n",
    "\n",
    "Result_rfSimple_Periodic_DataFrame = pd.read_csv('data/results/rfSimple_Periodic_Result.csv', index_col = 0)\n",
    "Result_rfSimple_Periodic_DataFrame.index = pd.to_datetime(Result_rfSimple_Periodic_DataFrame.index)\n",
    "Result_rfSimple_Periodic_DataFrame = Result_rfSimple_Periodic_DataFrame.reindex(pd.date_range('6/16/2014 6:00:00', periods=8391, freq='H'))\n",
    "\n",
    "Result_rfNoWindDir_DataFrame = pd.read_csv('data/results/rfNoWindDir_Result.csv', index_col = 0)\n",
    "Result_rfNoWindDir_DataFrame.index = pd.to_datetime(Result_rfNoWindDir_DataFrame.index)\n",
    "Result_rfNoWindDir_DataFrame = Result_rfNoWindDir_DataFrame.reindex(pd.date_range('6/16/2014 6:00:00', periods=8391, freq='H'))\n",
    "\n",
    "Result_rfComplex_DataFrame = pd.read_csv('data/results/rfComplex_Result.csv', index_col = 0)\n",
    "Result_rfComplex_DataFrame.index = pd.to_datetime(Result_rfComplex_DataFrame.index)\n",
    "Result_rfComplex_DataFrame = Result_rfComplex_DataFrame.reindex(pd.date_range('6/16/2014 6:00:00', periods=8391, freq='H'))"
   ]
  },
  {
   "cell_type": "markdown",
   "metadata": {},
   "source": [
    "#6.0 Results"
   ]
  },
  {
   "cell_type": "code",
   "execution_count": 235,
   "metadata": {
    "collapsed": false
   },
   "outputs": [],
   "source": [
    "rfSimple_stDev = np.std(Result_rfSimple_DataFrame.Difference)\n",
    "rfSimple_Periodic_stDev = np.std(Result_rfSimple_Periodic_DataFrame.Difference)\n",
    "rfNoWindDir_stDev = np.std(Result_rfNoWindDir_DataFrame.Difference)\n",
    "rfComplex_stDev = np.std(Result_rfComplex_DataFrame.Difference)\n",
    "\n",
    "StDev_df = pd.DataFrame([rfSimple_stDev, rfSimple_Periodic_stDev, rfNoWindDir_stDev, rfComplex_stDev],\n",
    "                         index = ['Simple','Simple_Periodic','NoWindDir','Complex'], columns = ['StDev'])"
   ]
  },
  {
   "cell_type": "code",
   "execution_count": 236,
   "metadata": {
    "collapsed": false
   },
   "outputs": [
    {
     "data": {
      "text/html": [
       "<div>\n",
       "<table border=\"1\" class=\"dataframe\">\n",
       "  <thead>\n",
       "    <tr style=\"text-align: right;\">\n",
       "      <th></th>\n",
       "      <th>StDev</th>\n",
       "    </tr>\n",
       "  </thead>\n",
       "  <tbody>\n",
       "    <tr>\n",
       "      <th>Simple</th>\n",
       "      <td>0.035357</td>\n",
       "    </tr>\n",
       "    <tr>\n",
       "      <th>Simple_Periodic</th>\n",
       "      <td>0.034687</td>\n",
       "    </tr>\n",
       "    <tr>\n",
       "      <th>NoWindDir</th>\n",
       "      <td>0.036572</td>\n",
       "    </tr>\n",
       "    <tr>\n",
       "      <th>Complex</th>\n",
       "      <td>0.047560</td>\n",
       "    </tr>\n",
       "  </tbody>\n",
       "</table>\n",
       "</div>"
      ],
      "text/plain": [
       "                    StDev\n",
       "Simple           0.035357\n",
       "Simple_Periodic  0.034687\n",
       "NoWindDir        0.036572\n",
       "Complex          0.047560"
      ]
     },
     "execution_count": 236,
     "metadata": {},
     "output_type": "execute_result"
    }
   ],
   "source": [
    "StDev_df"
   ]
  },
  {
   "cell_type": "code",
   "execution_count": 237,
   "metadata": {
    "collapsed": false
   },
   "outputs": [
    {
     "data": {
      "image/png": "[encoded data removed]",
      "text/plain": [
       "<matplotlib.figure.Figure at 0x116375650>"
      ]
     },
     "metadata": {},
     "output_type": "display_data"
    }
   ],
   "source": [
    "#for ind in anomalies_rfComplex.index:\n",
    "f, axarr = plt.subplots(2,2)\n",
    "f.set_figheight(10)\n",
    "f.set_figwidth(20)\n",
    "anomalyDegree = 4 # Number of standard deviations covered by gray bands\n",
    "\n",
    "yScaleMin = -0.5\n",
    "yScaleMax = 0.5\n",
    "\n",
    "lo = 0\n",
    "hi = int(Target_Test.shape[0])\n",
    "\n",
    "axarr[0,0].plot(Result_rfSimple_DataFrame[lo:hi].index, Result_rfSimple_DataFrame.Difference[lo:hi], \n",
    "         'b', linewidth = 0.5, alpha = 0.6)\n",
    "axarr[0,0].axhspan(anomalyDegree*rfSimple_stDev, -anomalyDegree*rfSimple_stDev, facecolor='k', alpha=0.4)\n",
    "axarr[0,0].set_title(\"Simple Model Error (% Capacity)\")\n",
    "axarr[0,0].set_ylim([yScaleMin,yScaleMax])\n",
    "\n",
    "axarr[0,1].plot(Result_rfSimple_Periodic_DataFrame[lo:hi].index, Result_rfSimple_Periodic_DataFrame.Difference[lo:hi], \n",
    "         'g', linewidth = 0.5, alpha = 0.6)\n",
    "axarr[0,1].axhspan(anomalyDegree*rfSimple_Periodic_stDev, -anomalyDegree*rfSimple_Periodic_stDev, facecolor='k', alpha=0.4)\n",
    "axarr[0,1].set_title(\"Simple Periodic Model Error (% Capacity)\")\n",
    "axarr[0,1].set_ylim([yScaleMin,yScaleMax])\n",
    "\n",
    "axarr[1,0].plot(Result_rfNoWindDir_DataFrame[lo:hi].index, Result_rfNoWindDir_DataFrame.Difference[lo:hi], \n",
    "         'pink', linewidth = 0.5, alpha = 0.6)\n",
    "axarr[1,0].axhspan(anomalyDegree*rfNoWindDir_stDev, -anomalyDegree*rfNoWindDir_stDev, facecolor='k', alpha=0.4)\n",
    "axarr[1,0].set_title(\"NoWindDir Model Error (% Capacity)\")\n",
    "axarr[1,0].set_ylim([yScaleMin,yScaleMax])\n",
    "\n",
    "axarr[1,1].plot(Result_rfComplex_DataFrame[lo:hi].index, Result_rfComplex_DataFrame.Difference[lo:hi], \n",
    "         'r', linewidth = 0.5, alpha = 0.6)\n",
    "axarr[1,1].axhspan(anomalyDegree*rfComplex_stDev, -anomalyDegree*rfComplex_stDev, facecolor='k', alpha=0.4)\n",
    "axarr[1,1].set_title(\"Complex Model Error (% Capacity)\")\n",
    "axarr[1,1].set_ylim([yScaleMin,yScaleMax])\n",
    "\n",
    "plt.show()"
   ]
  },
  {
   "cell_type": "markdown",
   "metadata": {},
   "source": [
    "**Caption:** This chart shows that the simple and complex model error, i.e. the difference between the predicted output and the actual system output, is not stochastic.  The chart displays all 8,606 predictions for both of the Random Forest models, the simple model in blue and the complex model in red.  The gray shaded ares is the area +/- 4 standard deviations (light gray for complex model, dark gray for simple model) away from the actual system output.  This specific range is shown because were the system stochastic, we would expect to see approximately one prediction outside of the shaded box for each of the models (1 observation in 8,609 should exceed 3.681 sd).  The complex model shows slightly more variability than the simple model (sd_rfComplex = 0.0381, sd_rfSimple = 0.0344) The grey shaded area shows +/- 3.681 standard deviations from the actual value.  It is obvious from this chart that many more outliers exist than would be expected from simple variability for both models.  "
   ]
  },
  {
   "cell_type": "code",
   "execution_count": 207,
   "metadata": {
    "collapsed": false
   },
   "outputs": [
    {
     "data": {
      "image/png": "[encoded data removed]",
      "text/plain": [
       "<matplotlib.figure.Figure at 0x16035ded0>"
      ]
     },
     "metadata": {},
     "output_type": "display_data"
    }
   ],
   "source": [
    "lo = 0\n",
    "hi = int(Result_rfComplex_DataFrame.dropna().shape[0])\n",
    "\n",
    "fig, ax1 = plt.subplots(figsize=(6,6))\n",
    "plt.axhline(color = 'k')\n",
    "boxPlotData = [Result_rfSimple_DataFrame.Difference[lo:hi].dropna(), \n",
    "               Result_rfComplex_DataFrame.Difference[lo:hi].dropna()]\n",
    "\n",
    "pylab.boxplot(boxPlotData, whis = [0.1,99.9], widths=0.5, showmeans=True)\n",
    "pylab.xticks([1,2], [\"Simple\", 'Complex'])\n",
    "pylab.ylim([-0.3,0.3])\n",
    "\n",
    "plt.show()"
   ]
  },
  {
   "cell_type": "markdown",
   "metadata": {},
   "source": [
    "***Caption:*** Boxplot showing the errors of the Simple and complex models.  Whiskers are at 0.1 and 99.9 percentiles.  There is good agreement of the mean (red dots) and the median (red line) in both models.  The Simple model has slightly better fidelity to the actual output, easily seen by the slimmer box and slightly higher 0.1 percentile whisker."
   ]
  },
  {
   "cell_type": "code",
   "execution_count": 192,
   "metadata": {
    "collapsed": false
   },
   "outputs": [
    {
     "name": "stdout",
     "output_type": "stream",
     "text": [
      "27 40\n"
     ]
    }
   ],
   "source": [
    "anomalyDegree = 4\n",
    "\n",
    "anomalies_rfComplex = abs(Result_rfComplex_DataFrame.Difference) > anomalyDegree*rfComplex_stDev\n",
    "anomalies_rfSimple = abs(Result_rfSimple_DataFrame.Difference) > anomalyDegree*rfSimple_stDev\n",
    "\n",
    "numAnomaly_rfComplex =sum(anomalies_rfComplex)\n",
    "numAnomaly_rfSimple =sum(anomalies_rfSimple)\n",
    "print numAnomaly_rfComplex, numAnomaly_rfSimple"
   ]
  },
  {
   "cell_type": "code",
   "execution_count": 193,
   "metadata": {
    "collapsed": false
   },
   "outputs": [],
   "source": [
    "anomalies_rfComplex = pd.DataFrame([anomalies_rfComplex[anomalies_rfComplex == True]]).transpose()\n",
    "anomalies_rfSimple = pd.DataFrame([anomalies_rfSimple[anomalies_rfSimple == True]]).transpose()\n",
    "anomalies_rfComplex.columns = ['Anomaly_T']\n",
    "anomalies_rfSimple.columns = ['Anomaly_T']"
   ]
  },
  {
   "cell_type": "code",
   "execution_count": 194,
   "metadata": {
    "collapsed": false
   },
   "outputs": [
    {
     "data": {
      "text/html": [
       "<div>\n",
       "<table border=\"1\" class=\"dataframe\">\n",
       "  <thead>\n",
       "    <tr style=\"text-align: right;\">\n",
       "      <th></th>\n",
       "      <th>Anomaly_T</th>\n",
       "    </tr>\n",
       "  </thead>\n",
       "  <tbody>\n",
       "    <tr>\n",
       "      <th>2014-06-20 13:00:00</th>\n",
       "      <td>True</td>\n",
       "    </tr>\n",
       "    <tr>\n",
       "      <th>2014-06-20 14:00:00</th>\n",
       "      <td>True</td>\n",
       "    </tr>\n",
       "    <tr>\n",
       "      <th>2014-06-21 14:00:00</th>\n",
       "      <td>True</td>\n",
       "    </tr>\n",
       "    <tr>\n",
       "      <th>2014-06-23 15:00:00</th>\n",
       "      <td>True</td>\n",
       "    </tr>\n",
       "    <tr>\n",
       "      <th>2014-06-23 16:00:00</th>\n",
       "      <td>True</td>\n",
       "    </tr>\n",
       "    <tr>\n",
       "      <th>2014-07-06 17:00:00</th>\n",
       "      <td>True</td>\n",
       "    </tr>\n",
       "    <tr>\n",
       "      <th>2014-07-07 16:00:00</th>\n",
       "      <td>True</td>\n",
       "    </tr>\n",
       "    <tr>\n",
       "      <th>2014-07-12 23:00:00</th>\n",
       "      <td>True</td>\n",
       "    </tr>\n",
       "    <tr>\n",
       "      <th>2014-08-07 09:00:00</th>\n",
       "      <td>True</td>\n",
       "    </tr>\n",
       "    <tr>\n",
       "      <th>2014-08-07 11:00:00</th>\n",
       "      <td>True</td>\n",
       "    </tr>\n",
       "    <tr>\n",
       "      <th>2014-08-07 19:00:00</th>\n",
       "      <td>True</td>\n",
       "    </tr>\n",
       "    <tr>\n",
       "      <th>2014-09-04 08:00:00</th>\n",
       "      <td>True</td>\n",
       "    </tr>\n",
       "    <tr>\n",
       "      <th>2014-09-10 03:00:00</th>\n",
       "      <td>True</td>\n",
       "    </tr>\n",
       "    <tr>\n",
       "      <th>2014-09-10 04:00:00</th>\n",
       "      <td>True</td>\n",
       "    </tr>\n",
       "    <tr>\n",
       "      <th>2014-09-17 15:00:00</th>\n",
       "      <td>True</td>\n",
       "    </tr>\n",
       "    <tr>\n",
       "      <th>2014-10-23 01:00:00</th>\n",
       "      <td>True</td>\n",
       "    </tr>\n",
       "    <tr>\n",
       "      <th>2014-11-03 00:00:00</th>\n",
       "      <td>True</td>\n",
       "    </tr>\n",
       "    <tr>\n",
       "      <th>2014-11-10 13:00:00</th>\n",
       "      <td>True</td>\n",
       "    </tr>\n",
       "    <tr>\n",
       "      <th>2014-11-16 03:00:00</th>\n",
       "      <td>True</td>\n",
       "    </tr>\n",
       "    <tr>\n",
       "      <th>2014-11-20 15:00:00</th>\n",
       "      <td>True</td>\n",
       "    </tr>\n",
       "    <tr>\n",
       "      <th>2014-11-20 21:00:00</th>\n",
       "      <td>True</td>\n",
       "    </tr>\n",
       "    <tr>\n",
       "      <th>2015-02-10 07:00:00</th>\n",
       "      <td>True</td>\n",
       "    </tr>\n",
       "    <tr>\n",
       "      <th>2015-02-27 12:00:00</th>\n",
       "      <td>True</td>\n",
       "    </tr>\n",
       "    <tr>\n",
       "      <th>2015-02-27 13:00:00</th>\n",
       "      <td>True</td>\n",
       "    </tr>\n",
       "    <tr>\n",
       "      <th>2015-03-09 00:00:00</th>\n",
       "      <td>True</td>\n",
       "    </tr>\n",
       "    <tr>\n",
       "      <th>2015-04-02 11:00:00</th>\n",
       "      <td>True</td>\n",
       "    </tr>\n",
       "    <tr>\n",
       "      <th>2015-04-07 13:00:00</th>\n",
       "      <td>True</td>\n",
       "    </tr>\n",
       "  </tbody>\n",
       "</table>\n",
       "</div>"
      ],
      "text/plain": [
       "                    Anomaly_T\n",
       "2014-06-20 13:00:00      True\n",
       "2014-06-20 14:00:00      True\n",
       "2014-06-21 14:00:00      True\n",
       "2014-06-23 15:00:00      True\n",
       "2014-06-23 16:00:00      True\n",
       "2014-07-06 17:00:00      True\n",
       "2014-07-07 16:00:00      True\n",
       "2014-07-12 23:00:00      True\n",
       "2014-08-07 09:00:00      True\n",
       "2014-08-07 11:00:00      True\n",
       "2014-08-07 19:00:00      True\n",
       "2014-09-04 08:00:00      True\n",
       "2014-09-10 03:00:00      True\n",
       "2014-09-10 04:00:00      True\n",
       "2014-09-17 15:00:00      True\n",
       "2014-10-23 01:00:00      True\n",
       "2014-11-03 00:00:00      True\n",
       "2014-11-10 13:00:00      True\n",
       "2014-11-16 03:00:00      True\n",
       "2014-11-20 15:00:00      True\n",
       "2014-11-20 21:00:00      True\n",
       "2015-02-10 07:00:00      True\n",
       "2015-02-27 12:00:00      True\n",
       "2015-02-27 13:00:00      True\n",
       "2015-03-09 00:00:00      True\n",
       "2015-04-02 11:00:00      True\n",
       "2015-04-07 13:00:00      True"
      ]
     },
     "execution_count": 194,
     "metadata": {},
     "output_type": "execute_result"
    }
   ],
   "source": [
    "anomalies_rfComplex"
   ]
  },
  {
   "cell_type": "code",
   "execution_count": 250,
   "metadata": {
    "collapsed": false
   },
   "outputs": [
    {
     "data": {
      "text/plain": [
       "Timestamp('2014-07-12 23:00:00')"
      ]
     },
     "execution_count": 250,
     "metadata": {},
     "output_type": "execute_result"
    }
   ],
   "source": [
    "pd.to_datetime('2014/07/12, 23:00:00')"
   ]
  },
  {
   "cell_type": "code",
   "execution_count": 254,
   "metadata": {
    "collapsed": false
   },
   "outputs": [
    {
     "data": {
      "text/html": [
       "<div>\n",
       "<table border=\"1\" class=\"dataframe\">\n",
       "  <thead>\n",
       "    <tr style=\"text-align: right;\">\n",
       "      <th></th>\n",
       "      <th>CAISO_WindCapacity</th>\n",
       "      <th>WindOutput_MW</th>\n",
       "      <th>CAMPO_ActualTime</th>\n",
       "      <th>CAMPO_Wind_Dir</th>\n",
       "      <th>CAMPO_Wind_Spd</th>\n",
       "      <th>CAMPO_Gust_Spd</th>\n",
       "      <th>CAMPO_Temp</th>\n",
       "      <th>CAMPO_Dew_Pt</th>\n",
       "      <th>CAMPO_SLP</th>\n",
       "      <th>CAMPO_StaP</th>\n",
       "      <th>...</th>\n",
       "      <th>Tehachapi_Gust_Spd_Cubed</th>\n",
       "      <th>CAMPO_Density</th>\n",
       "      <th>Livermore_Density</th>\n",
       "      <th>PSIA_Density</th>\n",
       "      <th>Redding_Density</th>\n",
       "      <th>Trail_1</th>\n",
       "      <th>Trail_2</th>\n",
       "      <th>Trail_3</th>\n",
       "      <th>Trail_4</th>\n",
       "      <th>PeriodicTime</th>\n",
       "    </tr>\n",
       "  </thead>\n",
       "  <tbody>\n",
       "    <tr>\n",
       "      <th>2014-07-12 08:00:00</th>\n",
       "      <td>5491.33</td>\n",
       "      <td>1706</td>\n",
       "      <td>2014-07-12 08:52:00</td>\n",
       "      <td>No_Wind</td>\n",
       "      <td>0</td>\n",
       "      <td>0</td>\n",
       "      <td>56</td>\n",
       "      <td>50</td>\n",
       "      <td>1013.0</td>\n",
       "      <td>923.8</td>\n",
       "      <td>...</td>\n",
       "      <td>0</td>\n",
       "      <td>1.117736</td>\n",
       "      <td>1.203932</td>\n",
       "      <td>1.135252</td>\n",
       "      <td>1.159463</td>\n",
       "      <td>0.409737</td>\n",
       "      <td>0.443244</td>\n",
       "      <td>0.538667</td>\n",
       "      <td>0.576909</td>\n",
       "      <td>0.966145</td>\n",
       "    </tr>\n",
       "    <tr>\n",
       "      <th>2014-07-12 09:00:00</th>\n",
       "      <td>5491.33</td>\n",
       "      <td>1145</td>\n",
       "      <td>2014-07-12 09:52:00</td>\n",
       "      <td>050</td>\n",
       "      <td>5</td>\n",
       "      <td>0</td>\n",
       "      <td>55</td>\n",
       "      <td>50</td>\n",
       "      <td>1012.7</td>\n",
       "      <td>923.5</td>\n",
       "      <td>...</td>\n",
       "      <td>0</td>\n",
       "      <td>1.119542</td>\n",
       "      <td>1.203932</td>\n",
       "      <td>1.136988</td>\n",
       "      <td>1.170272</td>\n",
       "      <td>0.310672</td>\n",
       "      <td>0.409737</td>\n",
       "      <td>0.443244</td>\n",
       "      <td>0.538667</td>\n",
       "      <td>0.966145</td>\n",
       "    </tr>\n",
       "    <tr>\n",
       "      <th>2014-07-12 10:00:00</th>\n",
       "      <td>5491.33</td>\n",
       "      <td>723</td>\n",
       "      <td>2014-07-12 10:52:00</td>\n",
       "      <td>040</td>\n",
       "      <td>5</td>\n",
       "      <td>0</td>\n",
       "      <td>54</td>\n",
       "      <td>49</td>\n",
       "      <td>1012.9</td>\n",
       "      <td>923.5</td>\n",
       "      <td>...</td>\n",
       "      <td>0</td>\n",
       "      <td>1.121929</td>\n",
       "      <td>1.201018</td>\n",
       "      <td>1.139212</td>\n",
       "      <td>1.175164</td>\n",
       "      <td>0.208511</td>\n",
       "      <td>0.310672</td>\n",
       "      <td>0.409737</td>\n",
       "      <td>0.443244</td>\n",
       "      <td>0.966145</td>\n",
       "    </tr>\n",
       "    <tr>\n",
       "      <th>2014-07-12 11:00:00</th>\n",
       "      <td>5491.33</td>\n",
       "      <td>566</td>\n",
       "      <td>2014-07-12 11:52:00</td>\n",
       "      <td>050</td>\n",
       "      <td>6</td>\n",
       "      <td>0</td>\n",
       "      <td>54</td>\n",
       "      <td>49</td>\n",
       "      <td>1013.1</td>\n",
       "      <td>923.5</td>\n",
       "      <td>...</td>\n",
       "      <td>0</td>\n",
       "      <td>1.121929</td>\n",
       "      <td>1.201379</td>\n",
       "      <td>1.141862</td>\n",
       "      <td>1.182215</td>\n",
       "      <td>0.131662</td>\n",
       "      <td>0.208511</td>\n",
       "      <td>0.310672</td>\n",
       "      <td>0.409737</td>\n",
       "      <td>0.966145</td>\n",
       "    </tr>\n",
       "    <tr>\n",
       "      <th>2014-07-12 12:00:00</th>\n",
       "      <td>5491.33</td>\n",
       "      <td>557</td>\n",
       "      <td>2014-07-12 12:52:00</td>\n",
       "      <td>060</td>\n",
       "      <td>6</td>\n",
       "      <td>0</td>\n",
       "      <td>51</td>\n",
       "      <td>48</td>\n",
       "      <td>1013.7</td>\n",
       "      <td>924.1</td>\n",
       "      <td>...</td>\n",
       "      <td>0</td>\n",
       "      <td>1.129459</td>\n",
       "      <td>1.204294</td>\n",
       "      <td>1.146238</td>\n",
       "      <td>1.189802</td>\n",
       "      <td>0.103072</td>\n",
       "      <td>0.131662</td>\n",
       "      <td>0.208511</td>\n",
       "      <td>0.310672</td>\n",
       "      <td>0.966145</td>\n",
       "    </tr>\n",
       "    <tr>\n",
       "      <th>2014-07-12 23:00:00</th>\n",
       "      <td>5491.33</td>\n",
       "      <td>3417</td>\n",
       "      <td>2014-07-12 23:52:00</td>\n",
       "      <td>260</td>\n",
       "      <td>8</td>\n",
       "      <td>0</td>\n",
       "      <td>87</td>\n",
       "      <td>55</td>\n",
       "      <td>1011.2</td>\n",
       "      <td>922.3</td>\n",
       "      <td>...</td>\n",
       "      <td>9261</td>\n",
       "      <td>1.051560</td>\n",
       "      <td>1.155076</td>\n",
       "      <td>1.096035</td>\n",
       "      <td>1.103034</td>\n",
       "      <td>0.101433</td>\n",
       "      <td>0.103072</td>\n",
       "      <td>0.131662</td>\n",
       "      <td>0.208511</td>\n",
       "      <td>0.966145</td>\n",
       "    </tr>\n",
       "    <tr>\n",
       "      <th>2014-07-13 01:00:00</th>\n",
       "      <td>5491.33</td>\n",
       "      <td>2928</td>\n",
       "      <td>2014-07-13 01:52:00</td>\n",
       "      <td>220</td>\n",
       "      <td>14</td>\n",
       "      <td>0</td>\n",
       "      <td>77</td>\n",
       "      <td>57</td>\n",
       "      <td>1011.9</td>\n",
       "      <td>922.6</td>\n",
       "      <td>...</td>\n",
       "      <td>9261</td>\n",
       "      <td>1.071012</td>\n",
       "      <td>1.176377</td>\n",
       "      <td>1.099513</td>\n",
       "      <td>1.112654</td>\n",
       "      <td>0.622254</td>\n",
       "      <td>0.101433</td>\n",
       "      <td>0.103072</td>\n",
       "      <td>0.131662</td>\n",
       "      <td>0.962962</td>\n",
       "    </tr>\n",
       "    <tr>\n",
       "      <th>2014-07-13 02:00:00</th>\n",
       "      <td>5491.33</td>\n",
       "      <td>2894</td>\n",
       "      <td>2014-07-13 02:52:00</td>\n",
       "      <td>210</td>\n",
       "      <td>9</td>\n",
       "      <td>0</td>\n",
       "      <td>72</td>\n",
       "      <td>56</td>\n",
       "      <td>1011.9</td>\n",
       "      <td>922.6</td>\n",
       "      <td>...</td>\n",
       "      <td>5832</td>\n",
       "      <td>1.081334</td>\n",
       "      <td>1.185668</td>\n",
       "      <td>1.106355</td>\n",
       "      <td>1.122601</td>\n",
       "      <td>0.533204</td>\n",
       "      <td>0.622254</td>\n",
       "      <td>0.101433</td>\n",
       "      <td>0.103072</td>\n",
       "      <td>0.962962</td>\n",
       "    </tr>\n",
       "    <tr>\n",
       "      <th>2014-07-13 03:00:00</th>\n",
       "      <td>5491.33</td>\n",
       "      <td>2742</td>\n",
       "      <td>2014-07-13 03:52:00</td>\n",
       "      <td>220</td>\n",
       "      <td>5</td>\n",
       "      <td>0</td>\n",
       "      <td>69</td>\n",
       "      <td>56</td>\n",
       "      <td>1012.0</td>\n",
       "      <td>922.9</td>\n",
       "      <td>...</td>\n",
       "      <td>0</td>\n",
       "      <td>1.087826</td>\n",
       "      <td>1.198114</td>\n",
       "      <td>1.114768</td>\n",
       "      <td>1.127726</td>\n",
       "      <td>0.527013</td>\n",
       "      <td>0.533204</td>\n",
       "      <td>0.622254</td>\n",
       "      <td>0.101433</td>\n",
       "      <td>0.962962</td>\n",
       "    </tr>\n",
       "    <tr>\n",
       "      <th>2014-07-13 04:00:00</th>\n",
       "      <td>5491.33</td>\n",
       "      <td>2475</td>\n",
       "      <td>2014-07-13 04:52:00</td>\n",
       "      <td>No_Wind</td>\n",
       "      <td>0</td>\n",
       "      <td>0</td>\n",
       "      <td>67</td>\n",
       "      <td>55</td>\n",
       "      <td>1012.3</td>\n",
       "      <td>923.2</td>\n",
       "      <td>...</td>\n",
       "      <td>0</td>\n",
       "      <td>1.092559</td>\n",
       "      <td>1.203570</td>\n",
       "      <td>1.119474</td>\n",
       "      <td>1.141077</td>\n",
       "      <td>0.499333</td>\n",
       "      <td>0.527013</td>\n",
       "      <td>0.533204</td>\n",
       "      <td>0.622254</td>\n",
       "      <td>0.962962</td>\n",
       "    </tr>\n",
       "    <tr>\n",
       "      <th>2014-07-13 05:00:00</th>\n",
       "      <td>5491.33</td>\n",
       "      <td>2002</td>\n",
       "      <td>2014-07-13 05:52:00</td>\n",
       "      <td>No_Wind</td>\n",
       "      <td>0</td>\n",
       "      <td>0</td>\n",
       "      <td>64</td>\n",
       "      <td>53</td>\n",
       "      <td>1012.5</td>\n",
       "      <td>923.5</td>\n",
       "      <td>...</td>\n",
       "      <td>0</td>\n",
       "      <td>1.099649</td>\n",
       "      <td>1.205890</td>\n",
       "      <td>1.123759</td>\n",
       "      <td>1.142461</td>\n",
       "      <td>0.450710</td>\n",
       "      <td>0.499333</td>\n",
       "      <td>0.527013</td>\n",
       "      <td>0.533204</td>\n",
       "      <td>0.962962</td>\n",
       "    </tr>\n",
       "    <tr>\n",
       "      <th>2014-07-13 06:00:00</th>\n",
       "      <td>5491.33</td>\n",
       "      <td>1665</td>\n",
       "      <td>2014-07-13 06:52:00</td>\n",
       "      <td>040</td>\n",
       "      <td>3</td>\n",
       "      <td>0</td>\n",
       "      <td>63</td>\n",
       "      <td>52</td>\n",
       "      <td>1012.3</td>\n",
       "      <td>923.2</td>\n",
       "      <td>...</td>\n",
       "      <td>0</td>\n",
       "      <td>1.101617</td>\n",
       "      <td>1.207494</td>\n",
       "      <td>1.125799</td>\n",
       "      <td>1.145033</td>\n",
       "      <td>0.364575</td>\n",
       "      <td>0.450710</td>\n",
       "      <td>0.499333</td>\n",
       "      <td>0.527013</td>\n",
       "      <td>0.962962</td>\n",
       "    </tr>\n",
       "    <tr>\n",
       "      <th>2014-07-13 07:00:00</th>\n",
       "      <td>5491.33</td>\n",
       "      <td>1068</td>\n",
       "      <td>2014-07-13 07:52:00</td>\n",
       "      <td>050</td>\n",
       "      <td>5</td>\n",
       "      <td>0</td>\n",
       "      <td>60</td>\n",
       "      <td>52</td>\n",
       "      <td>1012.1</td>\n",
       "      <td>923.2</td>\n",
       "      <td>...</td>\n",
       "      <td>0</td>\n",
       "      <td>1.107977</td>\n",
       "      <td>1.207494</td>\n",
       "      <td>1.127847</td>\n",
       "      <td>1.154182</td>\n",
       "      <td>0.303205</td>\n",
       "      <td>0.364575</td>\n",
       "      <td>0.450710</td>\n",
       "      <td>0.499333</td>\n",
       "      <td>0.962962</td>\n",
       "    </tr>\n",
       "    <tr>\n",
       "      <th>2014-07-13 08:00:00</th>\n",
       "      <td>5491.33</td>\n",
       "      <td>808</td>\n",
       "      <td>2014-07-13 08:52:00</td>\n",
       "      <td>No_Wind</td>\n",
       "      <td>0</td>\n",
       "      <td>0</td>\n",
       "      <td>62</td>\n",
       "      <td>52</td>\n",
       "      <td>1011.4</td>\n",
       "      <td>922.6</td>\n",
       "      <td>...</td>\n",
       "      <td>0</td>\n",
       "      <td>1.103008</td>\n",
       "      <td>1.207372</td>\n",
       "      <td>1.131507</td>\n",
       "      <td>1.156255</td>\n",
       "      <td>0.194488</td>\n",
       "      <td>0.303205</td>\n",
       "      <td>0.364575</td>\n",
       "      <td>0.450710</td>\n",
       "      <td>0.962962</td>\n",
       "    </tr>\n",
       "  </tbody>\n",
       "</table>\n",
       "<p>14 rows × 68 columns</p>\n",
       "</div>"
      ],
      "text/plain": [
       "                     CAISO_WindCapacity  WindOutput_MW     CAMPO_ActualTime  \\\n",
       "2014-07-12 08:00:00             5491.33           1706  2014-07-12 08:52:00   \n",
       "2014-07-12 09:00:00             5491.33           1145  2014-07-12 09:52:00   \n",
       "2014-07-12 10:00:00             5491.33            723  2014-07-12 10:52:00   \n",
       "2014-07-12 11:00:00             5491.33            566  2014-07-12 11:52:00   \n",
       "2014-07-12 12:00:00             5491.33            557  2014-07-12 12:52:00   \n",
       "2014-07-12 23:00:00             5491.33           3417  2014-07-12 23:52:00   \n",
       "2014-07-13 01:00:00             5491.33           2928  2014-07-13 01:52:00   \n",
       "2014-07-13 02:00:00             5491.33           2894  2014-07-13 02:52:00   \n",
       "2014-07-13 03:00:00             5491.33           2742  2014-07-13 03:52:00   \n",
       "2014-07-13 04:00:00             5491.33           2475  2014-07-13 04:52:00   \n",
       "2014-07-13 05:00:00             5491.33           2002  2014-07-13 05:52:00   \n",
       "2014-07-13 06:00:00             5491.33           1665  2014-07-13 06:52:00   \n",
       "2014-07-13 07:00:00             5491.33           1068  2014-07-13 07:52:00   \n",
       "2014-07-13 08:00:00             5491.33            808  2014-07-13 08:52:00   \n",
       "\n",
       "                    CAMPO_Wind_Dir  CAMPO_Wind_Spd  CAMPO_Gust_Spd  \\\n",
       "2014-07-12 08:00:00        No_Wind               0               0   \n",
       "2014-07-12 09:00:00            050               5               0   \n",
       "2014-07-12 10:00:00            040               5               0   \n",
       "2014-07-12 11:00:00            050               6               0   \n",
       "2014-07-12 12:00:00            060               6               0   \n",
       "2014-07-12 23:00:00            260               8               0   \n",
       "2014-07-13 01:00:00            220              14               0   \n",
       "2014-07-13 02:00:00            210               9               0   \n",
       "2014-07-13 03:00:00            220               5               0   \n",
       "2014-07-13 04:00:00        No_Wind               0               0   \n",
       "2014-07-13 05:00:00        No_Wind               0               0   \n",
       "2014-07-13 06:00:00            040               3               0   \n",
       "2014-07-13 07:00:00            050               5               0   \n",
       "2014-07-13 08:00:00        No_Wind               0               0   \n",
       "\n",
       "                     CAMPO_Temp  CAMPO_Dew_Pt  CAMPO_SLP  CAMPO_StaP  \\\n",
       "2014-07-12 08:00:00          56            50     1013.0       923.8   \n",
       "2014-07-12 09:00:00          55            50     1012.7       923.5   \n",
       "2014-07-12 10:00:00          54            49     1012.9       923.5   \n",
       "2014-07-12 11:00:00          54            49     1013.1       923.5   \n",
       "2014-07-12 12:00:00          51            48     1013.7       924.1   \n",
       "2014-07-12 23:00:00          87            55     1011.2       922.3   \n",
       "2014-07-13 01:00:00          77            57     1011.9       922.6   \n",
       "2014-07-13 02:00:00          72            56     1011.9       922.6   \n",
       "2014-07-13 03:00:00          69            56     1012.0       922.9   \n",
       "2014-07-13 04:00:00          67            55     1012.3       923.2   \n",
       "2014-07-13 05:00:00          64            53     1012.5       923.5   \n",
       "2014-07-13 06:00:00          63            52     1012.3       923.2   \n",
       "2014-07-13 07:00:00          60            52     1012.1       923.2   \n",
       "2014-07-13 08:00:00          62            52     1011.4       922.6   \n",
       "\n",
       "                        ...      Tehachapi_Gust_Spd_Cubed CAMPO_Density  \\\n",
       "2014-07-12 08:00:00     ...                             0      1.117736   \n",
       "2014-07-12 09:00:00     ...                             0      1.119542   \n",
       "2014-07-12 10:00:00     ...                             0      1.121929   \n",
       "2014-07-12 11:00:00     ...                             0      1.121929   \n",
       "2014-07-12 12:00:00     ...                             0      1.129459   \n",
       "2014-07-12 23:00:00     ...                          9261      1.051560   \n",
       "2014-07-13 01:00:00     ...                          9261      1.071012   \n",
       "2014-07-13 02:00:00     ...                          5832      1.081334   \n",
       "2014-07-13 03:00:00     ...                             0      1.087826   \n",
       "2014-07-13 04:00:00     ...                             0      1.092559   \n",
       "2014-07-13 05:00:00     ...                             0      1.099649   \n",
       "2014-07-13 06:00:00     ...                             0      1.101617   \n",
       "2014-07-13 07:00:00     ...                             0      1.107977   \n",
       "2014-07-13 08:00:00     ...                             0      1.103008   \n",
       "\n",
       "                     Livermore_Density  PSIA_Density  Redding_Density  \\\n",
       "2014-07-12 08:00:00           1.203932      1.135252         1.159463   \n",
       "2014-07-12 09:00:00           1.203932      1.136988         1.170272   \n",
       "2014-07-12 10:00:00           1.201018      1.139212         1.175164   \n",
       "2014-07-12 11:00:00           1.201379      1.141862         1.182215   \n",
       "2014-07-12 12:00:00           1.204294      1.146238         1.189802   \n",
       "2014-07-12 23:00:00           1.155076      1.096035         1.103034   \n",
       "2014-07-13 01:00:00           1.176377      1.099513         1.112654   \n",
       "2014-07-13 02:00:00           1.185668      1.106355         1.122601   \n",
       "2014-07-13 03:00:00           1.198114      1.114768         1.127726   \n",
       "2014-07-13 04:00:00           1.203570      1.119474         1.141077   \n",
       "2014-07-13 05:00:00           1.205890      1.123759         1.142461   \n",
       "2014-07-13 06:00:00           1.207494      1.125799         1.145033   \n",
       "2014-07-13 07:00:00           1.207494      1.127847         1.154182   \n",
       "2014-07-13 08:00:00           1.207372      1.131507         1.156255   \n",
       "\n",
       "                      Trail_1   Trail_2   Trail_3   Trail_4 PeriodicTime  \n",
       "2014-07-12 08:00:00  0.409737  0.443244  0.538667  0.576909     0.966145  \n",
       "2014-07-12 09:00:00  0.310672  0.409737  0.443244  0.538667     0.966145  \n",
       "2014-07-12 10:00:00  0.208511  0.310672  0.409737  0.443244     0.966145  \n",
       "2014-07-12 11:00:00  0.131662  0.208511  0.310672  0.409737     0.966145  \n",
       "2014-07-12 12:00:00  0.103072  0.131662  0.208511  0.310672     0.966145  \n",
       "2014-07-12 23:00:00  0.101433  0.103072  0.131662  0.208511     0.966145  \n",
       "2014-07-13 01:00:00  0.622254  0.101433  0.103072  0.131662     0.962962  \n",
       "2014-07-13 02:00:00  0.533204  0.622254  0.101433  0.103072     0.962962  \n",
       "2014-07-13 03:00:00  0.527013  0.533204  0.622254  0.101433     0.962962  \n",
       "2014-07-13 04:00:00  0.499333  0.527013  0.533204  0.622254     0.962962  \n",
       "2014-07-13 05:00:00  0.450710  0.499333  0.527013  0.533204     0.962962  \n",
       "2014-07-13 06:00:00  0.364575  0.450710  0.499333  0.527013     0.962962  \n",
       "2014-07-13 07:00:00  0.303205  0.364575  0.450710  0.499333     0.962962  \n",
       "2014-07-13 08:00:00  0.194488  0.303205  0.364575  0.450710     0.962962  \n",
       "\n",
       "[14 rows x 68 columns]"
      ]
     },
     "execution_count": 254,
     "metadata": {},
     "output_type": "execute_result"
    }
   ],
   "source": [
    "Data.loc[pd.to_datetime('7/12/2014 08:00:00'): pd.to_datetime('7/13/2014 12:00:00')]"
   ]
  },
  {
   "cell_type": "code",
   "execution_count": 239,
   "metadata": {
    "collapsed": false
   },
   "outputs": [
    {
     "data": {
      "image/png": "[encoded data removed]",
      "text/plain": [
       "<matplotlib.figure.Figure at 0x11637de50>"
      ]
     },
     "metadata": {},
     "output_type": "display_data"
    }
   ],
   "source": [
    "#for ind in anomalies_rfComplex.index:\n",
    "numplots_y = 9\n",
    "numplots_x = 3\n",
    "\n",
    "f, axarr = plt.subplots(numplots_y,numplots_x)\n",
    "f.set_figheight(20)\n",
    "f.set_figwidth(12)\n",
    "\n",
    "anomalyDegree = 4\n",
    "\n",
    "index = 0\n",
    "\n",
    "for i in range(0,numplots_y):\n",
    "    for j in range(0,numplots_x):\n",
    "        ind = anomalies_rfComplex.index[index]\n",
    "        lo = ind-pd.DateOffset(hours=12)\n",
    "        hi = ind+pd.DateOffset(hours=12)\n",
    "\n",
    "        axarr[i,j].plot(Result_rfSimple_DataFrame[lo:hi].index, Result_rfSimple_DataFrame.Difference[lo:hi], \n",
    "                 'bo', linewidth = 0.5, alpha = 0.9)\n",
    "        axarr[i,j].plot(Result_rfComplex_DataFrame[lo:hi].index, Result_rfComplex_DataFrame.Difference[lo:hi], \n",
    "                 'ro', linewidth = 0.5, alpha = 0.7)\n",
    "        \n",
    "        axarr[i,j].axhspan(anomalyDegree*rfSimple_stDev, -anomalyDegree*rfSimple_stDev, facecolor='k', alpha=0.4)\n",
    "        axarr[i,j].axhspan(anomalyDegree*rfComplex_stDev, -anomalyDegree*rfComplex_stDev, facecolor='k', alpha=0.2)\n",
    "        \n",
    "        axarr[i,j].set_title(\"Anomaly at \" + str(anomalies_rfComplex.index[index]))\n",
    "        axarr[i,j].set_ylim([-0.5,0.5])\n",
    "\n",
    "        index += 1\n",
    "        \n",
    "for ax in f.axes:\n",
    "    plt.sca(ax)\n",
    "    plt.xticks(rotation=45)\n",
    "    \n",
    "f.tight_layout()"
   ]
  },
  {
   "cell_type": "code",
   "execution_count": null,
   "metadata": {
    "collapsed": false
   },
   "outputs": [],
   "source": [
    "#MSW of Simple Model\n",
    "MSE_rfSimple = mean_squared_error(100*Result_rfSimple_DataFrame.Predict.dropna(), 100*Result_rfSimple_DataFrame.Actual.dropna())"
   ]
  },
  {
   "cell_type": "code",
   "execution_count": null,
   "metadata": {
    "collapsed": false
   },
   "outputs": [],
   "source": [
    "#MSA of Complex Model\n",
    "MSE_rfComplex = mean_squared_error(100*Result_rfComplex_DataFrame.Predict.dropna(), 100*Result_rfComplex_DataFrame.Actual.dropna())"
   ]
  },
  {
   "cell_type": "code",
   "execution_count": null,
   "metadata": {
    "collapsed": false
   },
   "outputs": [],
   "source": [
    "print[MSE_rfSimple, MSE_rfComplex]"
   ]
  },
  {
   "cell_type": "markdown",
   "metadata": {},
   "source": [
    "The model that includes the time of year in the model significantly outperforms the simple model that does not."
   ]
  },
  {
   "cell_type": "code",
   "execution_count": null,
   "metadata": {
    "collapsed": false,
    "scrolled": false
   },
   "outputs": [],
   "source": [
    "#Final 10 days of modeling\n",
    "#for ind in anomalies_rfComplex.index:\n",
    "lo = 0\n",
    "hi = Result_rfSimple_DataFrame.Predict.shape[0]\n",
    "\n",
    "f, axarr = plt.subplots(1,2)\n",
    "f.set_figheight(10)\n",
    "f.set_figwidth(20)\n",
    "\n",
    "yScaleMin = -0.7\n",
    "yScaleMax = 0.7\n",
    "\n",
    "axarr[0].plot(Result_rfSimple_DataFrame.index[hi-240:hi], \n",
    "              Result_rfSimple_DataFrame.Predict[hi-240:hi], 'b', linewidth = 4)\n",
    "axarr[0].plot(Result_rfSimple_DataFrame.index[hi-240:hi], \n",
    "              Result_rfSimple_DataFrame.Actual[hi-240:hi], 'r', linewidth = 2)\n",
    "\n",
    "axarr[1].plot(Result_rfComplex_DataFrame.index[hi-240:hi], \n",
    "              Result_rfComplex_DataFrame.Predict[hi-240:hi], 'b', linewidth = 4)\n",
    "axarr[1].plot(Result_rfComplex_DataFrame.index[hi-240:hi], \n",
    "              Result_rfComplex_DataFrame.Actual[hi-240:hi], 'r', linewidth = 2)\n",
    "\n",
    "for ax in f.axes:\n",
    "    plt.sca(ax)\n",
    "    plt.xticks(rotation=45)\n",
    "\n",
    "plt.show()"
   ]
  },
  {
   "cell_type": "markdown",
   "metadata": {},
   "source": [
    "###4.1 Feature Importance"
   ]
  },
  {
   "cell_type": "code",
   "execution_count": null,
   "metadata": {
    "collapsed": false
   },
   "outputs": [],
   "source": [
    "importance_Simple = pd.DataFrame({'importance': rf_Simple.feature_importances_}, \n",
    "                                  index=X_Simple_Test.columns).sort('importance')\n",
    "\n",
    "importance_Complex = pd.DataFrame({'importance': rf_Complex.feature_importances_}, \n",
    "                                  index=X_Complex_Test.columns).sort('importance')"
   ]
  },
  {
   "cell_type": "code",
   "execution_count": null,
   "metadata": {
    "collapsed": false
   },
   "outputs": [],
   "source": [
    "importance_Complex.plot(kind = 'bar')\n",
    "importance_Simple.plot(kind = 'bar')\n",
    "\n",
    "plt.show()"
   ]
  },
  {
   "cell_type": "markdown",
   "metadata": {},
   "source": [
    "***Caption:*** Feature importance of the complex and the simple models.  The simple model puts relatively more importance on the first hour (not difference in scale).  Both models have hourly data in the correct order, meaning that data from four hours ago is less important than that from three hours ago, etc."
   ]
  },
  {
   "cell_type": "markdown",
   "metadata": {
    "collapsed": true
   },
   "source": [
    "##5.0 Conclusions"
   ]
  },
  {
   "cell_type": "code",
   "execution_count": null,
   "metadata": {
    "collapsed": false
   },
   "outputs": [],
   "source": [
    "print MSE_rfSimple, np.sqrt(MSE_rfSimple)"
   ]
  },
  {
   "cell_type": "code",
   "execution_count": null,
   "metadata": {
    "collapsed": false
   },
   "outputs": [],
   "source": [
    "print MSE_rfComplex, np.sqrt(MSE_rfComplex)"
   ]
  },
  {
   "cell_type": "markdown",
   "metadata": {
    "collapsed": false
   },
   "source": [
    "The complex model, which includes data about the time of the year outperforms the simple model slightly, but only slightly.  This makes sense intuitively because the data have strong annual cycle.  I will continue to improve this model, and also include analysis by SVM."
   ]
  },
  {
   "cell_type": "code",
   "execution_count": null,
   "metadata": {
    "collapsed": true
   },
   "outputs": [],
   "source": []
  }
 ],
 "metadata": {
  "kernelspec": {
   "display_name": "Python 2",
   "language": "python",
   "name": "python2"
  },
  "language_info": {
   "codemirror_mode": {
    "name": "ipython",
    "version": 2
   },
   "file_extension": ".py",
   "mimetype": "text/x-python",
   "name": "python",
   "nbconvert_exporter": "python",
   "pygments_lexer": "ipython2",
   "version": "2.7.11"
  }
 },
 "nbformat": 4,
 "nbformat_minor": 0
}
