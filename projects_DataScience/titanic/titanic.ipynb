{
 "cells": [
  {
   "cell_type": "code",
   "execution_count": 1,
   "metadata": {
    "collapsed": false
   },
   "outputs": [],
   "source": [
    "import pandas as pd\n",
    "import numpy as np\n",
    "\n",
    "from sklearn.linear_model import LogisticRegression\n",
    "from sklearn.grid_search import GridSearchCV\n",
    "from sklearn.preprocessing import StandardScaler\n",
    "\n",
    "import matplotlib.pyplot as plt\n",
    "\n",
    "from patsy import dmatrix, dmatrices"
   ]
  },
  {
   "cell_type": "code",
   "execution_count": 2,
   "metadata": {
    "collapsed": true
   },
   "outputs": [],
   "source": [
    "%matplotlib inline"
   ]
  },
  {
   "cell_type": "code",
   "execution_count": 3,
   "metadata": {
    "collapsed": false
   },
   "outputs": [],
   "source": [
    "scaler = StandardScaler(copy=True)"
   ]
  },
  {
   "cell_type": "code",
   "execution_count": 4,
   "metadata": {
    "collapsed": false
   },
   "outputs": [],
   "source": [
    "train = pd.read_csv('data/raw/train.csv')\n",
    "test = pd.read_csv('data/raw/test.csv')"
   ]
  },
  {
   "cell_type": "markdown",
   "metadata": {},
   "source": [
    "Feature Selection/Manipulation"
   ]
  },
  {
   "cell_type": "code",
   "execution_count": 5,
   "metadata": {
    "collapsed": false,
    "scrolled": true
   },
   "outputs": [
    {
     "name": "stdout",
     "output_type": "stream",
     "text": [
      "<class 'pandas.core.frame.DataFrame'>\n",
      "Int64Index: 891 entries, 0 to 890\n",
      "Data columns (total 12 columns):\n",
      "PassengerId    891 non-null int64\n",
      "Survived       891 non-null int64\n",
      "Pclass         891 non-null int64\n",
      "Name           891 non-null object\n",
      "Sex            891 non-null object\n",
      "Age            714 non-null float64\n",
      "SibSp          891 non-null int64\n",
      "Parch          891 non-null int64\n",
      "Ticket         891 non-null object\n",
      "Fare           891 non-null float64\n",
      "Cabin          204 non-null object\n",
      "Embarked       889 non-null object\n",
      "dtypes: float64(2), int64(5), object(5)\n",
      "memory usage: 90.5+ KB\n"
     ]
    }
   ],
   "source": [
    "train.info()"
   ]
  },
  {
   "cell_type": "code",
   "execution_count": 6,
   "metadata": {
    "collapsed": false
   },
   "outputs": [
    {
     "name": "stdout",
     "output_type": "stream",
     "text": [
      "<class 'pandas.core.frame.DataFrame'>\n",
      "Int64Index: 418 entries, 0 to 417\n",
      "Data columns (total 11 columns):\n",
      "PassengerId    418 non-null int64\n",
      "Pclass         418 non-null int64\n",
      "Name           418 non-null object\n",
      "Sex            418 non-null object\n",
      "Age            332 non-null float64\n",
      "SibSp          418 non-null int64\n",
      "Parch          418 non-null int64\n",
      "Ticket         418 non-null object\n",
      "Fare           417 non-null float64\n",
      "Cabin          91 non-null object\n",
      "Embarked       418 non-null object\n",
      "dtypes: float64(2), int64(4), object(5)\n",
      "memory usage: 39.2+ KB\n"
     ]
    }
   ],
   "source": [
    "test.info()"
   ]
  },
  {
   "cell_type": "code",
   "execution_count": 7,
   "metadata": {
    "collapsed": true
   },
   "outputs": [],
   "source": [
    "#this can be improved by avg age in class\n",
    "train['Age'] = train.Age.replace(np.nan, train.Age.mean())\n",
    "test['Age'] = test.Age.replace(np.nan, train.Age.mean())"
   ]
  },
  {
   "cell_type": "code",
   "execution_count": 8,
   "metadata": {
    "collapsed": true
   },
   "outputs": [],
   "source": [
    "train['Embarked'] = train.Embarked.replace(np.nan, train.Embarked.value_counts().idxmax())\n",
    "test['Embarked'] = test.Embarked.replace(np.nan, train.Embarked.value_counts().idxmax())"
   ]
  },
  {
   "cell_type": "code",
   "execution_count": 9,
   "metadata": {
    "collapsed": true
   },
   "outputs": [],
   "source": [
    "test.Fare = test.Fare.replace(np.nan, train.Fare.mean())"
   ]
  },
  {
   "cell_type": "code",
   "execution_count": 10,
   "metadata": {
    "collapsed": false
   },
   "outputs": [],
   "source": [
    "train['Cabin'] = train.Cabin.replace(np.nan, 'Not-Reported')\n",
    "test['Cabin'] = test.Cabin.replace(np.nan, 'Not-Reported')"
   ]
  },
  {
   "cell_type": "code",
   "execution_count": 11,
   "metadata": {
    "collapsed": false
   },
   "outputs": [],
   "source": [
    "train['CabinPrefix'] = [x[0] for x in train.Cabin]\n",
    "test['CabinPrefix'] = [x[0] for x in test.Cabin]"
   ]
  },
  {
   "cell_type": "code",
   "execution_count": 12,
   "metadata": {
    "collapsed": false
   },
   "outputs": [],
   "source": [
    "train['Salutation'] = [x.split(',')[1][1:5] for x in train.Name]\n",
    "test['Salutation'] = [x.split(',')[1][1:5] for x in test.Name]"
   ]
  },
  {
   "cell_type": "code",
   "execution_count": 13,
   "metadata": {
    "collapsed": false
   },
   "outputs": [
    {
     "data": {
      "text/plain": [
       "(418, 13)"
      ]
     },
     "execution_count": 13,
     "metadata": {},
     "output_type": "execute_result"
    }
   ],
   "source": [
    "test.shape"
   ]
  },
  {
   "cell_type": "code",
   "execution_count": 14,
   "metadata": {
    "collapsed": false
   },
   "outputs": [
    {
     "data": {
      "text/plain": [
       "(891, 14)"
      ]
     },
     "execution_count": 14,
     "metadata": {},
     "output_type": "execute_result"
    }
   ],
   "source": [
    "train.shape"
   ]
  },
  {
   "cell_type": "code",
   "execution_count": 15,
   "metadata": {
    "collapsed": false
   },
   "outputs": [],
   "source": [
    "y, X = dmatrices('Survived ~ C(Pclass) + C(Sex) + Age + Fare + C(Embarked) + Parch + C(CabinPrefix) + C(Salutation)', train, return_type= 'dataframe')\n",
    "X_test = dmatrix('C(Pclass) + C(Sex) + Age + Fare + C(Embarked) + Parch + C(CabinPrefix) + C(Salutation)', test, return_type= 'dataframe')"
   ]
  },
  {
   "cell_type": "code",
   "execution_count": 16,
   "metadata": {
    "collapsed": false
   },
   "outputs": [
    {
     "data": {
      "text/plain": [
       "(418, 24)"
      ]
     },
     "execution_count": 16,
     "metadata": {},
     "output_type": "execute_result"
    }
   ],
   "source": [
    "X_test.shape"
   ]
  },
  {
   "cell_type": "code",
   "execution_count": 17,
   "metadata": {
    "collapsed": false
   },
   "outputs": [
    {
     "data": {
      "text/plain": [
       "(891, 33)"
      ]
     },
     "execution_count": 17,
     "metadata": {},
     "output_type": "execute_result"
    }
   ],
   "source": [
    "X.shape"
   ]
  },
  {
   "cell_type": "markdown",
   "metadata": {},
   "source": [
    "Rectify Columns"
   ]
  },
  {
   "cell_type": "code",
   "execution_count": 18,
   "metadata": {
    "collapsed": false
   },
   "outputs": [],
   "source": [
    "def ColumnRect(train, test):\n",
    "    for col in train.columns:\n",
    "        if col not in test.columns:\n",
    "            print('found one for test', col)\n",
    "            test = pd.concat([test, pd.DataFrame(np.zeros([test.shape[0], 1]))], axis =1)\n",
    "            colNames = list(test.columns)\n",
    "            colNames[-1] = col\n",
    "            test.columns = colNames\n",
    "            print('col added to test: ', col)\n",
    "            \n",
    "    for col in test.columns:\n",
    "        if col not in train.columns:\n",
    "            train = pd.concat([train, pd.DataFrame(np.zeros([train.shape[0], 1]))], axis =1)\n",
    "            colNames = list(train.columns)\n",
    "            colNames[-1] = col\n",
    "            train.columns = colNames\n",
    "            print('col added to train: ', col)\n",
    "        \n",
    "    #sort the resulting columns'\n",
    "    train = train.reindex_axis(sorted(train.columns), axis=1)\n",
    "    test = test.reindex_axis(sorted(test.columns), axis=1)\n",
    "    \n",
    "    if (train.columns == test.columns).all():\n",
    "        print('Column Rect. Complete')\n",
    "            \n",
    "    return(train, test)"
   ]
  },
  {
   "cell_type": "code",
   "execution_count": 20,
   "metadata": {
    "collapsed": false,
    "scrolled": true
   },
   "outputs": [
    {
     "name": "stdout",
     "output_type": "stream",
     "text": [
      "found one for test C(CabinPrefix)[T.T]\n",
      "col added to test:  C(CabinPrefix)[T.T]\n",
      "found one for test C(Salutation)[T.Col.]\n",
      "col added to test:  C(Salutation)[T.Col.]\n",
      "found one for test C(Salutation)[T.Don.]\n",
      "col added to test:  C(Salutation)[T.Don.]\n",
      "found one for test C(Salutation)[T.Jonk]\n",
      "col added to test:  C(Salutation)[T.Jonk]\n",
      "found one for test C(Salutation)[T.Lady]\n",
      "col added to test:  C(Salutation)[T.Lady]\n",
      "found one for test C(Salutation)[T.Majo]\n",
      "col added to test:  C(Salutation)[T.Majo]\n",
      "found one for test C(Salutation)[T.Mlle]\n",
      "col added to test:  C(Salutation)[T.Mlle]\n",
      "found one for test C(Salutation)[T.Mme.]\n",
      "col added to test:  C(Salutation)[T.Mme.]\n",
      "found one for test C(Salutation)[T.Sir.]\n",
      "col added to test:  C(Salutation)[T.Sir.]\n",
      "found one for test C(Salutation)[T.the ]\n",
      "col added to test:  C(Salutation)[T.the ]\n",
      "col added to train:  C(Salutation)[T.Dona]\n",
      "Column Rect. Complete\n"
     ]
    }
   ],
   "source": [
    "X, X_test = ColumnRect(X, X_test)"
   ]
  },
  {
   "cell_type": "code",
   "execution_count": 21,
   "metadata": {
    "collapsed": true
   },
   "outputs": [],
   "source": [
    "Xsc = pd.DataFrame(scaler.fit(X).transform(X))\n",
    "Xsc.columns = X.columns"
   ]
  },
  {
   "cell_type": "code",
   "execution_count": 22,
   "metadata": {
    "collapsed": true
   },
   "outputs": [],
   "source": [
    "Xsc_test = pd.DataFrame(scaler.fit(X).transform(X_test))\n",
    "Xsc_test.columns = X.columns"
   ]
  },
  {
   "cell_type": "code",
   "execution_count": 23,
   "metadata": {
    "collapsed": false
   },
   "outputs": [
    {
     "data": {
      "text/plain": [
       "(891, 34)"
      ]
     },
     "execution_count": 23,
     "metadata": {},
     "output_type": "execute_result"
    }
   ],
   "source": [
    "Xsc.shape"
   ]
  },
  {
   "cell_type": "code",
   "execution_count": 24,
   "metadata": {
    "collapsed": false
   },
   "outputs": [
    {
     "data": {
      "text/plain": [
       "(418, 34)"
      ]
     },
     "execution_count": 24,
     "metadata": {},
     "output_type": "execute_result"
    }
   ],
   "source": [
    "Xsc_test.shape"
   ]
  },
  {
   "cell_type": "code",
   "execution_count": 46,
   "metadata": {
    "collapsed": false
   },
   "outputs": [],
   "source": [
    "Xsc.Intercept= pd.DataFrame(np.ones([train.shape[0], 1]))\n",
    "Xsc_test.Intercept= pd.DataFrame(np.ones([test.shape[0], 1]))"
   ]
  },
  {
   "cell_type": "code",
   "execution_count": 56,
   "metadata": {
    "collapsed": false
   },
   "outputs": [],
   "source": [
    "lr = LogisticRegression(fit_intercept = True, n_jobs = -1)\n",
    "svc = \n",
    "parameters = {'C': np.logspace(-4, 4, 10), 'penalty' : ['l1', 'l2']}\n",
    "clf = GridSearchCV(lr, parameters, cv = 10, verbose=False)"
   ]
  },
  {
   "cell_type": "code",
   "execution_count": 57,
   "metadata": {
    "collapsed": false
   },
   "outputs": [
    {
     "data": {
      "text/plain": [
       "GridSearchCV(cv=10, error_score='raise',\n",
       "       estimator=LogisticRegression(C=1.0, class_weight=None, dual=False, fit_intercept=True,\n",
       "          intercept_scaling=1, max_iter=100, multi_class='ovr', n_jobs=-1,\n",
       "          penalty='l2', random_state=None, solver='liblinear', tol=0.0001,\n",
       "          verbose=0, warm_start=False),\n",
       "       fit_params={}, iid=True, n_jobs=1,\n",
       "       param_grid={'penalty': ['l1', 'l2'], 'C': array([  1.00000e-04,   7.74264e-04,   5.99484e-03,   4.64159e-02,\n",
       "         3.59381e-01,   2.78256e+00,   2.15443e+01,   1.66810e+02,\n",
       "         1.29155e+03,   1.00000e+04])},\n",
       "       pre_dispatch='2*n_jobs', refit=True, scoring=None, verbose=False)"
      ]
     },
     "execution_count": 57,
     "metadata": {},
     "output_type": "execute_result"
    }
   ],
   "source": [
    "clf.fit(Xsc, y.Survived)"
   ]
  },
  {
   "cell_type": "code",
   "execution_count": 58,
   "metadata": {
    "collapsed": false
   },
   "outputs": [
    {
     "data": {
      "text/plain": [
       "({'C': 0.35938136638046259, 'penalty': 'l1'}, 0.82267115600448937)"
      ]
     },
     "execution_count": 58,
     "metadata": {},
     "output_type": "execute_result"
    }
   ],
   "source": [
    "clf.best_params_, clf.best_score_"
   ]
  },
  {
   "cell_type": "code",
   "execution_count": 59,
   "metadata": {
    "collapsed": false
   },
   "outputs": [],
   "source": [
    "submit = clf.predict(Xsc_test)"
   ]
  },
  {
   "cell_type": "code",
   "execution_count": 60,
   "metadata": {
    "collapsed": false
   },
   "outputs": [
    {
     "data": {
      "text/html": [
       "<div>\n",
       "<table border=\"1\" class=\"dataframe\">\n",
       "  <thead>\n",
       "    <tr style=\"text-align: right;\">\n",
       "      <th></th>\n",
       "      <th>Age</th>\n",
       "      <th>C(CabinPrefix)[T.B]</th>\n",
       "      <th>C(CabinPrefix)[T.C]</th>\n",
       "      <th>C(CabinPrefix)[T.D]</th>\n",
       "      <th>C(CabinPrefix)[T.E]</th>\n",
       "      <th>C(CabinPrefix)[T.F]</th>\n",
       "      <th>C(CabinPrefix)[T.G]</th>\n",
       "      <th>C(CabinPrefix)[T.N]</th>\n",
       "      <th>C(CabinPrefix)[T.T]</th>\n",
       "      <th>C(Embarked)[T.Q]</th>\n",
       "      <th>...</th>\n",
       "      <th>C(Salutation)[T.Mr. ]</th>\n",
       "      <th>C(Salutation)[T.Mrs.]</th>\n",
       "      <th>C(Salutation)[T.Ms. ]</th>\n",
       "      <th>C(Salutation)[T.Rev.]</th>\n",
       "      <th>C(Salutation)[T.Sir.]</th>\n",
       "      <th>C(Salutation)[T.the ]</th>\n",
       "      <th>C(Sex)[T.male]</th>\n",
       "      <th>Fare</th>\n",
       "      <th>Intercept</th>\n",
       "      <th>Parch</th>\n",
       "    </tr>\n",
       "  </thead>\n",
       "  <tbody>\n",
       "    <tr>\n",
       "      <th>0</th>\n",
       "      <td>0.369449</td>\n",
       "      <td>-0.235981</td>\n",
       "      <td>-0.266296</td>\n",
       "      <td>-0.196116</td>\n",
       "      <td>-0.193009</td>\n",
       "      <td>-0.121681</td>\n",
       "      <td>-0.067153</td>\n",
       "      <td>0.544925</td>\n",
       "      <td>-0.03352</td>\n",
       "      <td>3.251373</td>\n",
       "      <td>...</td>\n",
       "      <td>0.850532</td>\n",
       "      <td>-0.403962</td>\n",
       "      <td>-0.03352</td>\n",
       "      <td>-0.082339</td>\n",
       "      <td>-0.03352</td>\n",
       "      <td>-0.03352</td>\n",
       "      <td>0.737695</td>\n",
       "      <td>-0.490783</td>\n",
       "      <td>1</td>\n",
       "      <td>-0.473674</td>\n",
       "    </tr>\n",
       "    <tr>\n",
       "      <th>1</th>\n",
       "      <td>1.331378</td>\n",
       "      <td>-0.235981</td>\n",
       "      <td>-0.266296</td>\n",
       "      <td>-0.196116</td>\n",
       "      <td>-0.193009</td>\n",
       "      <td>-0.121681</td>\n",
       "      <td>-0.067153</td>\n",
       "      <td>0.544925</td>\n",
       "      <td>-0.03352</td>\n",
       "      <td>-0.307562</td>\n",
       "      <td>...</td>\n",
       "      <td>-1.175735</td>\n",
       "      <td>2.475480</td>\n",
       "      <td>-0.03352</td>\n",
       "      <td>-0.082339</td>\n",
       "      <td>-0.03352</td>\n",
       "      <td>-0.03352</td>\n",
       "      <td>-1.355574</td>\n",
       "      <td>-0.507479</td>\n",
       "      <td>1</td>\n",
       "      <td>-0.473674</td>\n",
       "    </tr>\n",
       "    <tr>\n",
       "      <th>2</th>\n",
       "      <td>2.485693</td>\n",
       "      <td>-0.235981</td>\n",
       "      <td>-0.266296</td>\n",
       "      <td>-0.196116</td>\n",
       "      <td>-0.193009</td>\n",
       "      <td>-0.121681</td>\n",
       "      <td>-0.067153</td>\n",
       "      <td>0.544925</td>\n",
       "      <td>-0.03352</td>\n",
       "      <td>3.251373</td>\n",
       "      <td>...</td>\n",
       "      <td>0.850532</td>\n",
       "      <td>-0.403962</td>\n",
       "      <td>-0.03352</td>\n",
       "      <td>-0.082339</td>\n",
       "      <td>-0.03352</td>\n",
       "      <td>-0.03352</td>\n",
       "      <td>0.737695</td>\n",
       "      <td>-0.453367</td>\n",
       "      <td>1</td>\n",
       "      <td>-0.473674</td>\n",
       "    </tr>\n",
       "    <tr>\n",
       "      <th>3</th>\n",
       "      <td>-0.207709</td>\n",
       "      <td>-0.235981</td>\n",
       "      <td>-0.266296</td>\n",
       "      <td>-0.196116</td>\n",
       "      <td>-0.193009</td>\n",
       "      <td>-0.121681</td>\n",
       "      <td>-0.067153</td>\n",
       "      <td>0.544925</td>\n",
       "      <td>-0.03352</td>\n",
       "      <td>-0.307562</td>\n",
       "      <td>...</td>\n",
       "      <td>0.850532</td>\n",
       "      <td>-0.403962</td>\n",
       "      <td>-0.03352</td>\n",
       "      <td>-0.082339</td>\n",
       "      <td>-0.03352</td>\n",
       "      <td>-0.03352</td>\n",
       "      <td>0.737695</td>\n",
       "      <td>-0.474005</td>\n",
       "      <td>1</td>\n",
       "      <td>-0.473674</td>\n",
       "    </tr>\n",
       "    <tr>\n",
       "      <th>4</th>\n",
       "      <td>-0.592481</td>\n",
       "      <td>-0.235981</td>\n",
       "      <td>-0.266296</td>\n",
       "      <td>-0.196116</td>\n",
       "      <td>-0.193009</td>\n",
       "      <td>-0.121681</td>\n",
       "      <td>-0.067153</td>\n",
       "      <td>0.544925</td>\n",
       "      <td>-0.03352</td>\n",
       "      <td>-0.307562</td>\n",
       "      <td>...</td>\n",
       "      <td>-1.175735</td>\n",
       "      <td>2.475480</td>\n",
       "      <td>-0.03352</td>\n",
       "      <td>-0.082339</td>\n",
       "      <td>-0.03352</td>\n",
       "      <td>-0.03352</td>\n",
       "      <td>-1.355574</td>\n",
       "      <td>-0.401017</td>\n",
       "      <td>1</td>\n",
       "      <td>0.767630</td>\n",
       "    </tr>\n",
       "  </tbody>\n",
       "</table>\n",
       "<p>5 rows × 34 columns</p>\n",
       "</div>"
      ],
      "text/plain": [
       "        Age  C(CabinPrefix)[T.B]  C(CabinPrefix)[T.C]  C(CabinPrefix)[T.D]  \\\n",
       "0  0.369449            -0.235981            -0.266296            -0.196116   \n",
       "1  1.331378            -0.235981            -0.266296            -0.196116   \n",
       "2  2.485693            -0.235981            -0.266296            -0.196116   \n",
       "3 -0.207709            -0.235981            -0.266296            -0.196116   \n",
       "4 -0.592481            -0.235981            -0.266296            -0.196116   \n",
       "\n",
       "   C(CabinPrefix)[T.E]  C(CabinPrefix)[T.F]  C(CabinPrefix)[T.G]  \\\n",
       "0            -0.193009            -0.121681            -0.067153   \n",
       "1            -0.193009            -0.121681            -0.067153   \n",
       "2            -0.193009            -0.121681            -0.067153   \n",
       "3            -0.193009            -0.121681            -0.067153   \n",
       "4            -0.193009            -0.121681            -0.067153   \n",
       "\n",
       "   C(CabinPrefix)[T.N]  C(CabinPrefix)[T.T]  C(Embarked)[T.Q]    ...     \\\n",
       "0             0.544925             -0.03352          3.251373    ...      \n",
       "1             0.544925             -0.03352         -0.307562    ...      \n",
       "2             0.544925             -0.03352          3.251373    ...      \n",
       "3             0.544925             -0.03352         -0.307562    ...      \n",
       "4             0.544925             -0.03352         -0.307562    ...      \n",
       "\n",
       "   C(Salutation)[T.Mr. ]  C(Salutation)[T.Mrs.]  C(Salutation)[T.Ms. ]  \\\n",
       "0               0.850532              -0.403962               -0.03352   \n",
       "1              -1.175735               2.475480               -0.03352   \n",
       "2               0.850532              -0.403962               -0.03352   \n",
       "3               0.850532              -0.403962               -0.03352   \n",
       "4              -1.175735               2.475480               -0.03352   \n",
       "\n",
       "   C(Salutation)[T.Rev.]  C(Salutation)[T.Sir.]  C(Salutation)[T.the ]  \\\n",
       "0              -0.082339               -0.03352               -0.03352   \n",
       "1              -0.082339               -0.03352               -0.03352   \n",
       "2              -0.082339               -0.03352               -0.03352   \n",
       "3              -0.082339               -0.03352               -0.03352   \n",
       "4              -0.082339               -0.03352               -0.03352   \n",
       "\n",
       "   C(Sex)[T.male]      Fare  Intercept     Parch  \n",
       "0        0.737695 -0.490783          1 -0.473674  \n",
       "1       -1.355574 -0.507479          1 -0.473674  \n",
       "2        0.737695 -0.453367          1 -0.473674  \n",
       "3        0.737695 -0.474005          1 -0.473674  \n",
       "4       -1.355574 -0.401017          1  0.767630  \n",
       "\n",
       "[5 rows x 34 columns]"
      ]
     },
     "execution_count": 60,
     "metadata": {},
     "output_type": "execute_result"
    }
   ],
   "source": [
    "Xsc_test.head()"
   ]
  },
  {
   "cell_type": "code",
   "execution_count": 61,
   "metadata": {
    "collapsed": false
   },
   "outputs": [],
   "source": [
    "submission = pd.concat([test.PassengerId, pd.DataFrame(submit)], axis = 1)\n",
    "submission.index = submission.PassengerId\n",
    "submission = submission.drop('PassengerId', axis = 1)\n",
    "submission.columns = ['Survived']\n",
    "submission.Survived = submission.Survived.astype(int)"
   ]
  },
  {
   "cell_type": "code",
   "execution_count": 62,
   "metadata": {
    "collapsed": false
   },
   "outputs": [
    {
     "data": {
      "text/html": [
       "<div>\n",
       "<table border=\"1\" class=\"dataframe\">\n",
       "  <thead>\n",
       "    <tr style=\"text-align: right;\">\n",
       "      <th></th>\n",
       "      <th>Survived</th>\n",
       "    </tr>\n",
       "    <tr>\n",
       "      <th>PassengerId</th>\n",
       "      <th></th>\n",
       "    </tr>\n",
       "  </thead>\n",
       "  <tbody>\n",
       "    <tr>\n",
       "      <th>892</th>\n",
       "      <td>0</td>\n",
       "    </tr>\n",
       "    <tr>\n",
       "      <th>893</th>\n",
       "      <td>1</td>\n",
       "    </tr>\n",
       "    <tr>\n",
       "      <th>894</th>\n",
       "      <td>0</td>\n",
       "    </tr>\n",
       "    <tr>\n",
       "      <th>895</th>\n",
       "      <td>0</td>\n",
       "    </tr>\n",
       "    <tr>\n",
       "      <th>896</th>\n",
       "      <td>1</td>\n",
       "    </tr>\n",
       "  </tbody>\n",
       "</table>\n",
       "</div>"
      ],
      "text/plain": [
       "             Survived\n",
       "PassengerId          \n",
       "892                 0\n",
       "893                 1\n",
       "894                 0\n",
       "895                 0\n",
       "896                 1"
      ]
     },
     "execution_count": 62,
     "metadata": {},
     "output_type": "execute_result"
    }
   ],
   "source": [
    "submission.head()"
   ]
  },
  {
   "cell_type": "code",
   "execution_count": 63,
   "metadata": {
    "collapsed": false
   },
   "outputs": [
    {
     "data": {
      "text/plain": [
       "LogisticRegression(C=0.35938136638046259, class_weight=None, dual=False,\n",
       "          fit_intercept=True, intercept_scaling=1, max_iter=100,\n",
       "          multi_class='ovr', n_jobs=-1, penalty='l1', random_state=None,\n",
       "          solver='liblinear', tol=0.0001, verbose=0, warm_start=False)"
      ]
     },
     "execution_count": 63,
     "metadata": {},
     "output_type": "execute_result"
    }
   ],
   "source": [
    "clf.best_estimator_"
   ]
  },
  {
   "cell_type": "code",
   "execution_count": 64,
   "metadata": {
    "collapsed": false
   },
   "outputs": [],
   "source": [
    "submission.to_csv('QP_titanicSubmit.csv')"
   ]
  },
  {
   "cell_type": "code",
   "execution_count": 67,
   "metadata": {
    "collapsed": false
   },
   "outputs": [
    {
     "data": {
      "text/html": [
       "<div>\n",
       "<table border=\"1\" class=\"dataframe\">\n",
       "  <thead>\n",
       "    <tr style=\"text-align: right;\">\n",
       "      <th></th>\n",
       "      <th>Age</th>\n",
       "      <th>C(CabinPrefix)[T.B]</th>\n",
       "      <th>C(CabinPrefix)[T.C]</th>\n",
       "      <th>C(CabinPrefix)[T.D]</th>\n",
       "      <th>C(CabinPrefix)[T.E]</th>\n",
       "      <th>C(CabinPrefix)[T.F]</th>\n",
       "      <th>C(CabinPrefix)[T.G]</th>\n",
       "      <th>C(CabinPrefix)[T.N]</th>\n",
       "      <th>C(CabinPrefix)[T.T]</th>\n",
       "      <th>C(Embarked)[T.Q]</th>\n",
       "      <th>...</th>\n",
       "      <th>C(Salutation)[T.Mr. ]</th>\n",
       "      <th>C(Salutation)[T.Mrs.]</th>\n",
       "      <th>C(Salutation)[T.Ms. ]</th>\n",
       "      <th>C(Salutation)[T.Rev.]</th>\n",
       "      <th>C(Salutation)[T.Sir.]</th>\n",
       "      <th>C(Salutation)[T.the ]</th>\n",
       "      <th>C(Sex)[T.male]</th>\n",
       "      <th>Fare</th>\n",
       "      <th>Intercept</th>\n",
       "      <th>Parch</th>\n",
       "    </tr>\n",
       "  </thead>\n",
       "  <tbody>\n",
       "    <tr>\n",
       "      <th>0</th>\n",
       "      <td>-0.592481</td>\n",
       "      <td>-0.235981</td>\n",
       "      <td>-0.266296</td>\n",
       "      <td>-0.196116</td>\n",
       "      <td>-0.193009</td>\n",
       "      <td>-0.121681</td>\n",
       "      <td>-0.067153</td>\n",
       "      <td>0.544925</td>\n",
       "      <td>-0.03352</td>\n",
       "      <td>-0.307562</td>\n",
       "      <td>...</td>\n",
       "      <td>0.850532</td>\n",
       "      <td>-0.403962</td>\n",
       "      <td>-0.03352</td>\n",
       "      <td>-0.082339</td>\n",
       "      <td>-0.03352</td>\n",
       "      <td>-0.03352</td>\n",
       "      <td>0.737695</td>\n",
       "      <td>-0.502445</td>\n",
       "      <td>1</td>\n",
       "      <td>-0.473674</td>\n",
       "    </tr>\n",
       "    <tr>\n",
       "      <th>1</th>\n",
       "      <td>0.638789</td>\n",
       "      <td>-0.235981</td>\n",
       "      <td>3.755222</td>\n",
       "      <td>-0.196116</td>\n",
       "      <td>-0.193009</td>\n",
       "      <td>-0.121681</td>\n",
       "      <td>-0.067153</td>\n",
       "      <td>-1.835115</td>\n",
       "      <td>-0.03352</td>\n",
       "      <td>-0.307562</td>\n",
       "      <td>...</td>\n",
       "      <td>-1.175735</td>\n",
       "      <td>2.475480</td>\n",
       "      <td>-0.03352</td>\n",
       "      <td>-0.082339</td>\n",
       "      <td>-0.03352</td>\n",
       "      <td>-0.03352</td>\n",
       "      <td>-1.355574</td>\n",
       "      <td>0.786845</td>\n",
       "      <td>1</td>\n",
       "      <td>-0.473674</td>\n",
       "    </tr>\n",
       "    <tr>\n",
       "      <th>2</th>\n",
       "      <td>-0.284663</td>\n",
       "      <td>-0.235981</td>\n",
       "      <td>-0.266296</td>\n",
       "      <td>-0.196116</td>\n",
       "      <td>-0.193009</td>\n",
       "      <td>-0.121681</td>\n",
       "      <td>-0.067153</td>\n",
       "      <td>0.544925</td>\n",
       "      <td>-0.03352</td>\n",
       "      <td>-0.307562</td>\n",
       "      <td>...</td>\n",
       "      <td>-1.175735</td>\n",
       "      <td>-0.403962</td>\n",
       "      <td>-0.03352</td>\n",
       "      <td>-0.082339</td>\n",
       "      <td>-0.03352</td>\n",
       "      <td>-0.03352</td>\n",
       "      <td>-1.355574</td>\n",
       "      <td>-0.488854</td>\n",
       "      <td>1</td>\n",
       "      <td>-0.473674</td>\n",
       "    </tr>\n",
       "    <tr>\n",
       "      <th>3</th>\n",
       "      <td>0.407926</td>\n",
       "      <td>-0.235981</td>\n",
       "      <td>3.755222</td>\n",
       "      <td>-0.196116</td>\n",
       "      <td>-0.193009</td>\n",
       "      <td>-0.121681</td>\n",
       "      <td>-0.067153</td>\n",
       "      <td>-1.835115</td>\n",
       "      <td>-0.03352</td>\n",
       "      <td>-0.307562</td>\n",
       "      <td>...</td>\n",
       "      <td>-1.175735</td>\n",
       "      <td>2.475480</td>\n",
       "      <td>-0.03352</td>\n",
       "      <td>-0.082339</td>\n",
       "      <td>-0.03352</td>\n",
       "      <td>-0.03352</td>\n",
       "      <td>-1.355574</td>\n",
       "      <td>0.420730</td>\n",
       "      <td>1</td>\n",
       "      <td>-0.473674</td>\n",
       "    </tr>\n",
       "    <tr>\n",
       "      <th>4</th>\n",
       "      <td>0.407926</td>\n",
       "      <td>-0.235981</td>\n",
       "      <td>-0.266296</td>\n",
       "      <td>-0.196116</td>\n",
       "      <td>-0.193009</td>\n",
       "      <td>-0.121681</td>\n",
       "      <td>-0.067153</td>\n",
       "      <td>0.544925</td>\n",
       "      <td>-0.03352</td>\n",
       "      <td>-0.307562</td>\n",
       "      <td>...</td>\n",
       "      <td>0.850532</td>\n",
       "      <td>-0.403962</td>\n",
       "      <td>-0.03352</td>\n",
       "      <td>-0.082339</td>\n",
       "      <td>-0.03352</td>\n",
       "      <td>-0.03352</td>\n",
       "      <td>0.737695</td>\n",
       "      <td>-0.486337</td>\n",
       "      <td>1</td>\n",
       "      <td>-0.473674</td>\n",
       "    </tr>\n",
       "  </tbody>\n",
       "</table>\n",
       "<p>5 rows × 34 columns</p>\n",
       "</div>"
      ],
      "text/plain": [
       "        Age  C(CabinPrefix)[T.B]  C(CabinPrefix)[T.C]  C(CabinPrefix)[T.D]  \\\n",
       "0 -0.592481            -0.235981            -0.266296            -0.196116   \n",
       "1  0.638789            -0.235981             3.755222            -0.196116   \n",
       "2 -0.284663            -0.235981            -0.266296            -0.196116   \n",
       "3  0.407926            -0.235981             3.755222            -0.196116   \n",
       "4  0.407926            -0.235981            -0.266296            -0.196116   \n",
       "\n",
       "   C(CabinPrefix)[T.E]  C(CabinPrefix)[T.F]  C(CabinPrefix)[T.G]  \\\n",
       "0            -0.193009            -0.121681            -0.067153   \n",
       "1            -0.193009            -0.121681            -0.067153   \n",
       "2            -0.193009            -0.121681            -0.067153   \n",
       "3            -0.193009            -0.121681            -0.067153   \n",
       "4            -0.193009            -0.121681            -0.067153   \n",
       "\n",
       "   C(CabinPrefix)[T.N]  C(CabinPrefix)[T.T]  C(Embarked)[T.Q]    ...     \\\n",
       "0             0.544925             -0.03352         -0.307562    ...      \n",
       "1            -1.835115             -0.03352         -0.307562    ...      \n",
       "2             0.544925             -0.03352         -0.307562    ...      \n",
       "3            -1.835115             -0.03352         -0.307562    ...      \n",
       "4             0.544925             -0.03352         -0.307562    ...      \n",
       "\n",
       "   C(Salutation)[T.Mr. ]  C(Salutation)[T.Mrs.]  C(Salutation)[T.Ms. ]  \\\n",
       "0               0.850532              -0.403962               -0.03352   \n",
       "1              -1.175735               2.475480               -0.03352   \n",
       "2              -1.175735              -0.403962               -0.03352   \n",
       "3              -1.175735               2.475480               -0.03352   \n",
       "4               0.850532              -0.403962               -0.03352   \n",
       "\n",
       "   C(Salutation)[T.Rev.]  C(Salutation)[T.Sir.]  C(Salutation)[T.the ]  \\\n",
       "0              -0.082339               -0.03352               -0.03352   \n",
       "1              -0.082339               -0.03352               -0.03352   \n",
       "2              -0.082339               -0.03352               -0.03352   \n",
       "3              -0.082339               -0.03352               -0.03352   \n",
       "4              -0.082339               -0.03352               -0.03352   \n",
       "\n",
       "   C(Sex)[T.male]      Fare  Intercept     Parch  \n",
       "0        0.737695 -0.502445          1 -0.473674  \n",
       "1       -1.355574  0.786845          1 -0.473674  \n",
       "2       -1.355574 -0.488854          1 -0.473674  \n",
       "3       -1.355574  0.420730          1 -0.473674  \n",
       "4        0.737695 -0.486337          1 -0.473674  \n",
       "\n",
       "[5 rows x 34 columns]"
      ]
     },
     "execution_count": 67,
     "metadata": {},
     "output_type": "execute_result"
    }
   ],
   "source": [
    "pd.DataFrame(Xsc, columns= X.columns).head()"
   ]
  },
  {
   "cell_type": "code",
   "execution_count": 66,
   "metadata": {
    "collapsed": false
   },
   "outputs": [
    {
     "ename": "NameError",
     "evalue": "name 'Xsort' is not defined",
     "output_type": "error",
     "traceback": [
      "\u001b[0;31m---------------------------------------------------------------------------\u001b[0m",
      "\u001b[0;31mNameError\u001b[0m                                 Traceback (most recent call last)",
      "\u001b[0;32m<ipython-input-66-c95914c7d59a>\u001b[0m in \u001b[0;36m<module>\u001b[0;34m()\u001b[0m\n\u001b[0;32m----> 1\u001b[0;31m \u001b[0mXsort\u001b[0m\u001b[0;34m\u001b[0m\u001b[0m\n\u001b[0m",
      "\u001b[0;31mNameError\u001b[0m: name 'Xsort' is not defined"
     ]
    }
   ],
   "source": [
    "Xsort"
   ]
  },
  {
   "cell_type": "code",
   "execution_count": 34,
   "metadata": {
    "collapsed": false
   },
   "outputs": [],
   "source": [
    "submission = pd.concat([pd.DataFrame(test.PassengerId), pd.DataFrame(submit)], axis = 1)"
   ]
  },
  {
   "cell_type": "code",
   "execution_count": 41,
   "metadata": {
    "collapsed": false
   },
   "outputs": [
    {
     "data": {
      "text/plain": [
       "(418, 1)"
      ]
     },
     "execution_count": 41,
     "metadata": {},
     "output_type": "execute_result"
    }
   ],
   "source": [
    "submission.shape"
   ]
  },
  {
   "cell_type": "code",
   "execution_count": 141,
   "metadata": {
    "collapsed": false
   },
   "outputs": [
    {
     "data": {
      "text/plain": [
       "(418, 13)"
      ]
     },
     "execution_count": 141,
     "metadata": {},
     "output_type": "execute_result"
    }
   ],
   "source": [
    "test.shape"
   ]
  },
  {
   "cell_type": "code",
   "execution_count": null,
   "metadata": {
    "collapsed": true
   },
   "outputs": [],
   "source": []
  }
 ],
 "metadata": {
  "kernelspec": {
   "display_name": "Python 3",
   "language": "python",
   "name": "python3"
  },
  "language_info": {
   "codemirror_mode": {
    "name": "ipython",
    "version": 3
   },
   "file_extension": ".py",
   "mimetype": "text/x-python",
   "name": "python",
   "nbconvert_exporter": "python",
   "pygments_lexer": "ipython3",
   "version": "3.5.1"
  }
 },
 "nbformat": 4,
 "nbformat_minor": 0
}
