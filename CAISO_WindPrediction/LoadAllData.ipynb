{
 "cells": [
  {
   "cell_type": "code",
   "execution_count": 1,
   "metadata": {
    "collapsed": false
   },
   "outputs": [],
   "source": [
    "import pandas as pd\n",
    "import numpy as np\n",
    "import matplotlib.pyplot as plt\n",
    "\n",
    "import glob\n",
    "import time\n",
    "import datetime\n",
    "import Pysolar #version 0.6 is compatible with Python 2.x\n",
    "\n",
    "%matplotlib inline"
   ]
  },
  {
   "cell_type": "code",
   "execution_count": 2,
   "metadata": {
    "collapsed": true
   },
   "outputs": [],
   "source": [
    "#This is a list of all .txt files in the TXT files directory\n",
    "CAISO_file_list = glob.glob('data/CAISO_data/CAISO_files/*.txt')"
   ]
  },
  {
   "cell_type": "code",
   "execution_count": 3,
   "metadata": {
    "collapsed": false
   },
   "outputs": [
    {
     "name": "stdout",
     "output_type": "stream",
     "text": [
      "The length of the file list is :  1865\n",
      "The expected length of the DataFrame is: 44760\n"
     ]
    }
   ],
   "source": [
    "#Count of the length of file_list, and the expected length of the final DataFrame\n",
    "\n",
    "print 'The length of the file list is : ', len(CAISO_file_list)\n",
    "print 'The expected length of the DataFrame is: ' + str(24*len(CAISO_file_list))"
   ]
  },
  {
   "cell_type": "code",
   "execution_count": 4,
   "metadata": {
    "collapsed": true
   },
   "outputs": [],
   "source": [
    "#This is the business loop.  It has to deal with .txt files with variable number of columns.  The end result are four\n",
    "#dataxx_SW (xx = num cols) DataFrames with columns INDEX, WindTotal, and SolarPV.\n",
    "\n",
    "#The format of the INDEX column is YYYYMMDDHH  --OR-- YYYYMMDDH, so a simple sort will put all data into \n",
    "#chronological order.\n",
    "#WintTotal is the output of all wind powerplants for the indicated hour in MW\n",
    "\n",
    "#initialization of DataFrames\n",
    "data14 = pd.DataFrame([])\n",
    "data16 = pd.DataFrame([])\n",
    "data17 = pd.DataFrame([])\n",
    "data18 = pd.DataFrame([])\n",
    "\n",
    "#This loop takes each file in the CAISO_file_list and loads it into the appropriate DataFrame based on the number of\n",
    "#columns in the raw data.\n",
    "for f in CAISO_file_list:\n",
    "\n",
    "    data_raw = pd.read_csv(f, sep = None, engine = 'python') #data_raw is rewritten on every loop\n",
    "    \n",
    "    #If-elif statement takes the data_raw input only once, this is important because the length of data_raw is\n",
    "    #changed in the loop.  \n",
    "    if data_raw.shape[1] == 14:\n",
    "        data_raw.columns = ['NONE', 'Hour','NONE','Geothermal','NONE', 'Biomass','NONE', 'Biogas', \n",
    "                'NONE','Small Hydro','NONE', 'WindTotal', 'NONE','SolarPV' ]\n",
    "        data_raw = data_raw[1:25]\n",
    "        data_raw['INDEX'] = f[28:36]+data_raw.Hour\n",
    "        data14 = pd.concat([data14, data_raw], axis = 0)\n",
    "        data14_SW = data14[['INDEX','WindTotal']]\n",
    "        \n",
    "    elif data_raw.shape[1] == 16:\n",
    "        data_raw.columns = ['NONE', 'Hour','NONE','Geothermal','NONE', 'Biomass','NONE', 'Biogas', \n",
    "                'NONE','Small Hydro','NONE', 'WindTotal', 'NONE','SolarPV','NONE','SolarThermal' ]\n",
    "        data_raw = data_raw[1:25]\n",
    "        data_raw['INDEX'] = f[28:36]+data_raw.Hour\n",
    "        data16 = pd.concat([data16, data_raw], axis = 0)\n",
    "        data16_SW = data16[['INDEX','WindTotal']]\n",
    "        \n",
    "    elif data_raw.shape[1] == 17:\n",
    "        data_raw.columns = ['NONE', 'Hour','NONE','Geothermal','NONE', 'Biomass','NONE', 'Biogas', \n",
    "                'NONE','Small Hydro','NONE', 'WindTotal', 'NONE','SolarPV','NONE','NONE','SolarThermal']\n",
    "        data_raw = data_raw[1:25]\n",
    "        data_raw['INDEX'] = f[28:36]+data_raw.Hour\n",
    "        data17 = pd.concat([data17, data_raw], axis = 0)\n",
    "        data17_SW = data17[['INDEX','WindTotal']]\n",
    "        \n",
    "    elif data_raw.shape[1] == 18:\n",
    "        data_raw.columns = ['NONE', 'Hour','NONE','Geothermal','NONE', 'Biomass','NONE', 'Biogas', \n",
    "                'NONE','Small Hydro','NONE', 'WindTotal', 'NONE','SolarPV','NONE','SolarThermal','NONE','NONE' ]\n",
    "        data_raw = data_raw[1:25]\n",
    "        data_raw['INDEX'] = f[28:36]+data_raw.Hour\n",
    "        data18 = pd.concat([data18, data_raw], axis = 0)\n",
    "        data18_SW = data18[['INDEX','WindTotal']]\n",
    "        "
   ]
  },
  {
   "cell_type": "code",
   "execution_count": 5,
   "metadata": {
    "collapsed": false
   },
   "outputs": [],
   "source": [
    "#Concatination of all dataxx_SW dataframes into one DataFrame, and reindex that dataframe \n",
    "#to sequential numbers\n",
    "CAISO_Wind = pd.concat([data14_SW, data16_SW, data17_SW, data18_SW], axis = 0)\n",
    "\n",
    "#Reindex data_SW so that each row in unique\n",
    "CAISO_Wind.index = CAISO_Wind.INDEX\n",
    "\n",
    "#Add leading zero to rows so that all INDEX entries have format YYYYMMDDHH\n",
    "for i in range(0,CAISO_Wind.shape[0]):\n",
    "    if len(CAISO_Wind.INDEX[i]) != 10:\n",
    "        CAISO_Wind.INDEX[i] = CAISO_Wind.INDEX[i][:8] + '0' + CAISO_Wind.INDEX[i][8:]\n",
    "\n",
    "#Sort data_SW by the value of the INDEX column, and reindex to have continuious row numbers\n",
    "CAISO_Wind.index = CAISO_Wind.INDEX\n",
    "CAISO_Wind = CAISO_Wind.sort('INDEX', ascending = True)"
   ]
  },
  {
   "cell_type": "markdown",
   "metadata": {},
   "source": [
    "##Data Cleaning"
   ]
  },
  {
   "cell_type": "code",
   "execution_count": 6,
   "metadata": {
    "collapsed": true
   },
   "outputs": [],
   "source": [
    "#One particular daylight savings day has R appended on the end of the INDEX, this row is dropped.\n",
    "if '201111062R' in CAISO_Wind.index:\n",
    "    CAISO_Wind = CAISO_Wind.drop(CAISO_Wind.loc[CAISO_Wind['INDEX'] == '201111062R'].index[0])"
   ]
  },
  {
   "cell_type": "code",
   "execution_count": 7,
   "metadata": {
    "collapsed": false
   },
   "outputs": [],
   "source": [
    "#This transformation converts str to int via float.  Float type required because 201202281 was entered into CAISO\n",
    "#raw data as float type.\n",
    "CAISO_Wind.INDEX = CAISO_Wind.INDEX.astype(float)\n",
    "CAISO_Wind.INDEX = CAISO_Wind.INDEX.astype(int)\n",
    "CAISO_Wind.index = CAISO_Wind.INDEX.astype(int)"
   ]
  },
  {
   "cell_type": "code",
   "execution_count": 8,
   "metadata": {
    "collapsed": false
   },
   "outputs": [
    {
     "data": {
      "text/html": [
       "<div>\n",
       "<table border=\"1\" class=\"dataframe\">\n",
       "  <thead>\n",
       "    <tr style=\"text-align: right;\">\n",
       "      <th></th>\n",
       "      <th>INDEX</th>\n",
       "      <th>WindTotal</th>\n",
       "    </tr>\n",
       "    <tr>\n",
       "      <th>INDEX</th>\n",
       "      <th></th>\n",
       "      <th></th>\n",
       "    </tr>\n",
       "  </thead>\n",
       "  <tbody>\n",
       "    <tr>\n",
       "      <th>2010042001</th>\n",
       "      <td>2010042001</td>\n",
       "      <td>632</td>\n",
       "    </tr>\n",
       "    <tr>\n",
       "      <th>2010042002</th>\n",
       "      <td>2010042002</td>\n",
       "      <td>632</td>\n",
       "    </tr>\n",
       "    <tr>\n",
       "      <th>2010042003</th>\n",
       "      <td>2010042003</td>\n",
       "      <td>677</td>\n",
       "    </tr>\n",
       "    <tr>\n",
       "      <th>2010042004</th>\n",
       "      <td>2010042004</td>\n",
       "      <td>923</td>\n",
       "    </tr>\n",
       "    <tr>\n",
       "      <th>2010042005</th>\n",
       "      <td>2010042005</td>\n",
       "      <td>875</td>\n",
       "    </tr>\n",
       "  </tbody>\n",
       "</table>\n",
       "</div>"
      ],
      "text/plain": [
       "                 INDEX WindTotal\n",
       "INDEX                           \n",
       "2010042001  2010042001       632\n",
       "2010042002  2010042002       632\n",
       "2010042003  2010042003       677\n",
       "2010042004  2010042004       923\n",
       "2010042005  2010042005       875"
      ]
     },
     "execution_count": 8,
     "metadata": {},
     "output_type": "execute_result"
    }
   ],
   "source": [
    "CAISO_Wind.head()"
   ]
  },
  {
   "cell_type": "code",
   "execution_count": 9,
   "metadata": {
    "collapsed": false
   },
   "outputs": [],
   "source": [
    "#It is somewhat unclear how CAISO deals with daylight savings hours, so I omit the entire day from the record.\n",
    "#This is a dataframe of each hour that is part of a daylight savings day.\n",
    "\n",
    "daylight_savings = pd.DataFrame([range(2010110701, 2010110725),\n",
    "                                 range(2011031301, 2011031325),\n",
    "                                 range(2011110601, 2011110625),\n",
    "                                 range(2012031101, 2012031125),\n",
    "                                 range(2012110401, 2012110425),\n",
    "                                 range(2013031001, 2013031025),\n",
    "                                 range(2013110301, 2013110325),\n",
    "                                 range(2014030901, 2014030925),\n",
    "                                 range(2014110201, 2014110225),\n",
    "                                 range(2015030801, 2015030825)])"
   ]
  },
  {
   "cell_type": "code",
   "execution_count": 10,
   "metadata": {
    "collapsed": false,
    "scrolled": true
   },
   "outputs": [],
   "source": [
    "#A loop that removes each daylight savings day from the CAISO_Wind dataframe\n",
    "for ind in daylight_savings.stack().values:\n",
    "    if ind in CAISO_Wind.index:\n",
    "        CAISO_Wind = CAISO_Wind.drop(ind)"
   ]
  },
  {
   "cell_type": "code",
   "execution_count": 11,
   "metadata": {
    "collapsed": false
   },
   "outputs": [],
   "source": [
    "#Wind data from 06/30/2011 appears to be corrupted (all entries are #NAME?) The day is dropped\n",
    "#data = data.drop(range(10800,10824))\n",
    "for ind in range(2011063001,2011063025):\n",
    "    if ind in CAISO_Wind.index:\n",
    "        CAISO_Wind = CAISO_Wind.drop(ind)"
   ]
  },
  {
   "cell_type": "code",
   "execution_count": 12,
   "metadata": {
    "collapsed": true
   },
   "outputs": [],
   "source": [
    "#data from 07/16/2011 appears to be corrupted (all entries are Connection to the server lost.) The day is dropped\n",
    "for ind in range(2011071601,2011071625):\n",
    "    if ind in CAISO_Wind.index:\n",
    "        CAISO_Wind = CAISO_Wind.drop(ind)"
   ]
  },
  {
   "cell_type": "code",
   "execution_count": 13,
   "metadata": {
    "collapsed": false
   },
   "outputs": [],
   "source": [
    "#data from 10/29/2010 appears to be corrupted (several entries are: '[-11059] No Good Data For Calculation') \n",
    "#The day is dropped\n",
    "for ind in range(2010102901,2010102925):\n",
    "    if ind in CAISO_Wind.index:\n",
    "        CAISO_Wind = CAISO_Wind.drop(ind)"
   ]
  },
  {
   "cell_type": "markdown",
   "metadata": {},
   "source": [
    "##WindTotal < 0"
   ]
  },
  {
   "cell_type": "code",
   "execution_count": 14,
   "metadata": {
    "collapsed": false
   },
   "outputs": [
    {
     "name": "stdout",
     "output_type": "stream",
     "text": [
      "[2010042514, -2.0]\n",
      "[2010071511, -15.0]\n",
      "[2010071512, -21.0]\n",
      "[2010071513, -12.0]\n",
      "[2010071514, -7.0]\n",
      "[2010120206, -1.0]\n",
      "[2010120208, -1.0]\n",
      "[2010120209, -2.0]\n"
     ]
    }
   ],
   "source": [
    "#There are 8 hours in which production by wind farms were negative.  \n",
    "\n",
    "#These all occured within 2010.  I don't know whether these are true values, they are close enough to zero\n",
    "#that I will replace them with zero as there are should not be any weather conditions which can lead to negative \n",
    "#energy production.\n",
    "\n",
    "WindTotal = CAISO_Wind.WindTotal.copy()\n",
    "\n",
    "for i in WindTotal.index:\n",
    "    if WindTotal[i] < 0:\n",
    "        print [i, WindTotal.loc[i]]\n",
    "        WindTotal[i] = 0"
   ]
  },
  {
   "cell_type": "code",
   "execution_count": 15,
   "metadata": {
    "collapsed": true
   },
   "outputs": [],
   "source": [
    "#Set CAISO.WindTotal to pd.Series with zeros in positions that were previously negative\n",
    "CAISO_Wind.WindTotal = WindTotal"
   ]
  },
  {
   "cell_type": "markdown",
   "metadata": {},
   "source": [
    "##Add Columns"
   ]
  },
  {
   "cell_type": "code",
   "execution_count": 16,
   "metadata": {
    "collapsed": false
   },
   "outputs": [],
   "source": [
    "#Break out Year, Month, Day and Hour\n",
    "CAISO_Wind['YEAR'] = CAISO_Wind['INDEX'].astype(str).map(lambda x: x[0:4])\n",
    "CAISO_Wind['MONTH'] = CAISO_Wind['INDEX'].astype(str).map(lambda x: x[4:6])\n",
    "CAISO_Wind['DAY'] = CAISO_Wind['INDEX'].astype(str).map(lambda x: x[6:8])\n",
    "CAISO_Wind['HOUR'] = CAISO_Wind['INDEX'].astype(str).map(lambda x: x[8:10])"
   ]
  },
  {
   "cell_type": "code",
   "execution_count": 17,
   "metadata": {
    "collapsed": false
   },
   "outputs": [
    {
     "data": {
      "text/html": [
       "<div>\n",
       "<table border=\"1\" class=\"dataframe\">\n",
       "  <thead>\n",
       "    <tr style=\"text-align: right;\">\n",
       "      <th></th>\n",
       "      <th>INDEX</th>\n",
       "      <th>WindTotal</th>\n",
       "      <th>YEAR</th>\n",
       "      <th>MONTH</th>\n",
       "      <th>DAY</th>\n",
       "      <th>HOUR</th>\n",
       "    </tr>\n",
       "    <tr>\n",
       "      <th>INDEX</th>\n",
       "      <th></th>\n",
       "      <th></th>\n",
       "      <th></th>\n",
       "      <th></th>\n",
       "      <th></th>\n",
       "      <th></th>\n",
       "    </tr>\n",
       "  </thead>\n",
       "  <tbody>\n",
       "    <tr>\n",
       "      <th>2010111507</th>\n",
       "      <td>2010111507</td>\n",
       "      <td>211</td>\n",
       "      <td>2010</td>\n",
       "      <td>11</td>\n",
       "      <td>15</td>\n",
       "      <td>07</td>\n",
       "    </tr>\n",
       "    <tr>\n",
       "      <th>2013081212</th>\n",
       "      <td>2013081212</td>\n",
       "      <td>354</td>\n",
       "      <td>2013</td>\n",
       "      <td>08</td>\n",
       "      <td>12</td>\n",
       "      <td>12</td>\n",
       "    </tr>\n",
       "    <tr>\n",
       "      <th>2011110506</th>\n",
       "      <td>2011110506</td>\n",
       "      <td>868</td>\n",
       "      <td>2011</td>\n",
       "      <td>11</td>\n",
       "      <td>05</td>\n",
       "      <td>06</td>\n",
       "    </tr>\n",
       "    <tr>\n",
       "      <th>2010080920</th>\n",
       "      <td>2010080920</td>\n",
       "      <td>887</td>\n",
       "      <td>2010</td>\n",
       "      <td>08</td>\n",
       "      <td>09</td>\n",
       "      <td>20</td>\n",
       "    </tr>\n",
       "    <tr>\n",
       "      <th>2014010819</th>\n",
       "      <td>2014010819</td>\n",
       "      <td>2094</td>\n",
       "      <td>2014</td>\n",
       "      <td>01</td>\n",
       "      <td>08</td>\n",
       "      <td>19</td>\n",
       "    </tr>\n",
       "    <tr>\n",
       "      <th>2014040602</th>\n",
       "      <td>2014040602</td>\n",
       "      <td>2802</td>\n",
       "      <td>2014</td>\n",
       "      <td>04</td>\n",
       "      <td>06</td>\n",
       "      <td>02</td>\n",
       "    </tr>\n",
       "    <tr>\n",
       "      <th>2010120220</th>\n",
       "      <td>2010120220</td>\n",
       "      <td>17</td>\n",
       "      <td>2010</td>\n",
       "      <td>12</td>\n",
       "      <td>02</td>\n",
       "      <td>20</td>\n",
       "    </tr>\n",
       "    <tr>\n",
       "      <th>2011071707</th>\n",
       "      <td>2011071707</td>\n",
       "      <td>1097</td>\n",
       "      <td>2011</td>\n",
       "      <td>07</td>\n",
       "      <td>17</td>\n",
       "      <td>07</td>\n",
       "    </tr>\n",
       "    <tr>\n",
       "      <th>2014082504</th>\n",
       "      <td>2014082504</td>\n",
       "      <td>2052</td>\n",
       "      <td>2014</td>\n",
       "      <td>08</td>\n",
       "      <td>25</td>\n",
       "      <td>04</td>\n",
       "    </tr>\n",
       "    <tr>\n",
       "      <th>2012052904</th>\n",
       "      <td>2012052904</td>\n",
       "      <td>1977</td>\n",
       "      <td>2012</td>\n",
       "      <td>05</td>\n",
       "      <td>29</td>\n",
       "      <td>04</td>\n",
       "    </tr>\n",
       "  </tbody>\n",
       "</table>\n",
       "</div>"
      ],
      "text/plain": [
       "                 INDEX WindTotal  YEAR MONTH DAY HOUR\n",
       "INDEX                                                \n",
       "2010111507  2010111507       211  2010    11  15   07\n",
       "2013081212  2013081212       354  2013    08  12   12\n",
       "2011110506  2011110506       868  2011    11  05   06\n",
       "2010080920  2010080920       887  2010    08  09   20\n",
       "2014010819  2014010819      2094  2014    01  08   19\n",
       "2014040602  2014040602      2802  2014    04  06   02\n",
       "2010120220  2010120220        17  2010    12  02   20\n",
       "2011071707  2011071707      1097  2011    07  17   07\n",
       "2014082504  2014082504      2052  2014    08  25   04\n",
       "2012052904  2012052904      1977  2012    05  29   04"
      ]
     },
     "execution_count": 17,
     "metadata": {},
     "output_type": "execute_result"
    }
   ],
   "source": [
    "CAISO_Wind.sample(10)"
   ]
  },
  {
   "cell_type": "code",
   "execution_count": 18,
   "metadata": {
    "collapsed": false
   },
   "outputs": [],
   "source": [
    "CAISO_Wind = CAISO_Wind.astype(int)"
   ]
  },
  {
   "cell_type": "code",
   "execution_count": 19,
   "metadata": {
    "collapsed": false
   },
   "outputs": [
    {
     "name": "stdout",
     "output_type": "stream",
     "text": [
      "<class 'pandas.core.frame.DataFrame'>\n",
      "Int64Index: 44448 entries, 2010042001 to 2015053124\n",
      "Data columns (total 6 columns):\n",
      "INDEX        44448 non-null int64\n",
      "WindTotal    44448 non-null int64\n",
      "YEAR         44448 non-null int64\n",
      "MONTH        44448 non-null int64\n",
      "DAY          44448 non-null int64\n",
      "HOUR         44448 non-null int64\n",
      "dtypes: int64(6)\n",
      "memory usage: 2.4 MB\n"
     ]
    }
   ],
   "source": [
    "CAISO_Wind.info()"
   ]
  },
  {
   "cell_type": "markdown",
   "metadata": {},
   "source": [
    "##CAISO Data Normalization"
   ]
  },
  {
   "cell_type": "code",
   "execution_count": 23,
   "metadata": {
    "collapsed": false
   },
   "outputs": [
    {
     "data": {
      "text/html": [
       "<div>\n",
       "<table border=\"1\" class=\"dataframe\">\n",
       "  <thead>\n",
       "    <tr style=\"text-align: right;\">\n",
       "      <th></th>\n",
       "      <th>Date</th>\n",
       "      <th>Capacity</th>\n",
       "    </tr>\n",
       "  </thead>\n",
       "  <tbody>\n",
       "    <tr>\n",
       "      <th>0</th>\n",
       "      <td>4/10/10</td>\n",
       "      <td>2479.58</td>\n",
       "    </tr>\n",
       "    <tr>\n",
       "      <th>1</th>\n",
       "      <td>11/19/10</td>\n",
       "      <td>2479.58</td>\n",
       "    </tr>\n",
       "    <tr>\n",
       "      <th>2</th>\n",
       "      <td>11/19/10</td>\n",
       "      <td>2581.58</td>\n",
       "    </tr>\n",
       "    <tr>\n",
       "      <th>3</th>\n",
       "      <td>12/29/10</td>\n",
       "      <td>2581.58</td>\n",
       "    </tr>\n",
       "    <tr>\n",
       "      <th>4</th>\n",
       "      <td>12/29/10</td>\n",
       "      <td>2731.58</td>\n",
       "    </tr>\n",
       "  </tbody>\n",
       "</table>\n",
       "</div>"
      ],
      "text/plain": [
       "       Date  Capacity\n",
       "0   4/10/10   2479.58\n",
       "1  11/19/10   2479.58\n",
       "2  11/19/10   2581.58\n",
       "3  12/29/10   2581.58\n",
       "4  12/29/10   2731.58"
      ]
     },
     "execution_count": 23,
     "metadata": {},
     "output_type": "execute_result"
    }
   ],
   "source": [
    "TotalCapacity.head()"
   ]
  },
  {
   "cell_type": "code",
   "execution_count": 21,
   "metadata": {
    "collapsed": false
   },
   "outputs": [
    {
     "ename": "AttributeError",
     "evalue": "'DataFrame' object has no attribute 'INDEX'",
     "output_type": "error",
     "traceback": [
      "\u001b[0;31m---------------------------------------------------------------------------\u001b[0m",
      "\u001b[0;31mAttributeError\u001b[0m                            Traceback (most recent call last)",
      "\u001b[0;32m<ipython-input-21-4b71c6b55230>\u001b[0m in \u001b[0;36m<module>\u001b[0;34m()\u001b[0m\n\u001b[1;32m      2\u001b[0m \u001b[0;34m\u001b[0m\u001b[0m\n\u001b[1;32m      3\u001b[0m \u001b[0mTotalCapacity\u001b[0m \u001b[0;34m=\u001b[0m \u001b[0mpd\u001b[0m\u001b[0;34m.\u001b[0m\u001b[0mread_csv\u001b[0m\u001b[0;34m(\u001b[0m\u001b[0;34m'data/CAISO_data/CAISO_Onboarding.csv'\u001b[0m\u001b[0;34m)\u001b[0m\u001b[0;34m\u001b[0m\u001b[0m\n\u001b[0;32m----> 4\u001b[0;31m \u001b[0mTotalCapacity\u001b[0m\u001b[0;34m.\u001b[0m\u001b[0mINDEX\u001b[0m \u001b[0;34m=\u001b[0m \u001b[0mTotalCapacity\u001b[0m\u001b[0;34m.\u001b[0m\u001b[0mINDEX\u001b[0m\u001b[0;34m.\u001b[0m\u001b[0mastype\u001b[0m\u001b[0;34m(\u001b[0m\u001b[0mint\u001b[0m\u001b[0;34m)\u001b[0m \u001b[0;31m#Set index type to string, same as dataW.INDEX\u001b[0m\u001b[0;34m\u001b[0m\u001b[0m\n\u001b[0m\u001b[1;32m      5\u001b[0m \u001b[0;34m\u001b[0m\u001b[0m\n\u001b[1;32m      6\u001b[0m \u001b[0;31m#Sets the index of each dataframe to the INDEX column, so that import of TotalCapacity data into data_W\u001b[0m\u001b[0;34m\u001b[0m\u001b[0;34m\u001b[0m\u001b[0m\n",
      "\u001b[0;32m/Users/pmeleney/anaconda/lib/python2.7/site-packages/pandas/core/generic.pyc\u001b[0m in \u001b[0;36m__getattr__\u001b[0;34m(self, name)\u001b[0m\n\u001b[1;32m   2148\u001b[0m                 \u001b[0;32mreturn\u001b[0m \u001b[0mself\u001b[0m\u001b[0;34m[\u001b[0m\u001b[0mname\u001b[0m\u001b[0;34m]\u001b[0m\u001b[0;34m\u001b[0m\u001b[0m\n\u001b[1;32m   2149\u001b[0m             raise AttributeError(\"'%s' object has no attribute '%s'\" %\n\u001b[0;32m-> 2150\u001b[0;31m                                  (type(self).__name__, name))\n\u001b[0m\u001b[1;32m   2151\u001b[0m \u001b[0;34m\u001b[0m\u001b[0m\n\u001b[1;32m   2152\u001b[0m     \u001b[0;32mdef\u001b[0m \u001b[0m__setattr__\u001b[0m\u001b[0;34m(\u001b[0m\u001b[0mself\u001b[0m\u001b[0;34m,\u001b[0m \u001b[0mname\u001b[0m\u001b[0;34m,\u001b[0m \u001b[0mvalue\u001b[0m\u001b[0;34m)\u001b[0m\u001b[0;34m:\u001b[0m\u001b[0;34m\u001b[0m\u001b[0m\n",
      "\u001b[0;31mAttributeError\u001b[0m: 'DataFrame' object has no attribute 'INDEX'"
     ]
    }
   ],
   "source": [
    "#Read csv CAISOOnboardingCsv into a dataframe TotalCapacity\n",
    "\n",
    "TotalCapacity = pd.read_csv('data/CAISO_data/CAISO_Onboarding.csv')\n",
    "TotalCapacity.INDEX = TotalCapacity.INDEX.astype(int) #Set index type to string, same as dataW.INDEX\n",
    "\n",
    "#Sets the index of each dataframe to the INDEX column, so that import of TotalCapacity data into data_W\n",
    "#occurs at the correct rows\n",
    "\n",
    "CAISO_Wind.index = CAISO_Wind.INDEX\n",
    "TotalCapacity.index = TotalCapacity.INDEX \n",
    "\n",
    "#Creates a new column in data_W and adds values from TotalCapacity.Total_Capacity\n",
    "CAISO_Wind.loc[:,'Total_Capacity'] = TotalCapacity.Total_Capacity"
   ]
  },
  {
   "cell_type": "code",
   "execution_count": 23,
   "metadata": {
    "collapsed": true
   },
   "outputs": [],
   "source": [
    "#fillna method = ffill fills NAN variables with whatever is above the the NAN's until a new value is reached\n",
    "\n",
    "CAISO_Wind.Total_Capacity = CAISO_Wind.Total_Capacity.fillna(method = 'ffill')"
   ]
  },
  {
   "cell_type": "code",
   "execution_count": 24,
   "metadata": {
    "collapsed": true
   },
   "outputs": [],
   "source": [
    "#Creates the target column P_Cap that is percent of total capacity, contained by set {0,1}\n",
    "\n",
    "CAISO_Wind.loc[:,'P_Cap'] = CAISO_Wind.loc[:,'WindTotal'] / CAISO_Wind.loc[:, 'Total_Capacity'] "
   ]
  },
  {
   "cell_type": "code",
   "execution_count": 25,
   "metadata": {
    "collapsed": false
   },
   "outputs": [
    {
     "name": "stdout",
     "output_type": "stream",
     "text": [
      "<class 'pandas.core.frame.DataFrame'>\n",
      "Int64Index: 44448 entries, 2010042001 to 2015053124\n",
      "Data columns (total 8 columns):\n",
      "INDEX             44448 non-null int64\n",
      "WindTotal         44448 non-null int64\n",
      "YEAR              44448 non-null int64\n",
      "MONTH             44448 non-null int64\n",
      "DAY               44448 non-null int64\n",
      "HOUR              44448 non-null int64\n",
      "Total_Capacity    44448 non-null float64\n",
      "P_Cap             44448 non-null float64\n",
      "dtypes: float64(2), int64(6)\n",
      "memory usage: 3.1 MB\n"
     ]
    }
   ],
   "source": [
    "CAISO_Wind.info()"
   ]
  },
  {
   "cell_type": "markdown",
   "metadata": {},
   "source": [
    "##Plots of Target Data"
   ]
  },
  {
   "cell_type": "code",
   "execution_count": 26,
   "metadata": {
    "collapsed": false
   },
   "outputs": [
    {
     "data": {
      "text/plain": [
       "[<matplotlib.lines.Line2D at 0x1122837d0>]"
      ]
     },
     "execution_count": 26,
     "metadata": {},
     "output_type": "execute_result"
    },
    {
     "data": {
      "image/png": "[encoded data removed]",
      "text/plain": [
       "<matplotlib.figure.Figure at 0x108bacb50>"
      ]
     },
     "metadata": {},
     "output_type": "display_data"
    }
   ],
   "source": [
    "#Plot of all WindTotal data\n",
    "lo = 0\n",
    "hi = CAISO_Wind.WindTotal.shape[0]\n",
    "plt.plot(range(lo,hi),list(CAISO_Wind.WindTotal[lo:hi]))"
   ]
  },
  {
   "cell_type": "code",
   "execution_count": 27,
   "metadata": {
    "collapsed": false
   },
   "outputs": [
    {
     "data": {
      "text/plain": [
       "[<matplotlib.lines.Line2D at 0x107e375d0>]"
      ]
     },
     "execution_count": 27,
     "metadata": {},
     "output_type": "execute_result"
    },
    {
     "data": {
      "image/png": "[encoded data removed]",
      "text/plain": [
       "<matplotlib.figure.Figure at 0x108b3b890>"
      ]
     },
     "metadata": {},
     "output_type": "display_data"
    }
   ],
   "source": [
    "#Plot of all WindTotal data\n",
    "lo = 0\n",
    "hi = CAISO_Wind.WindTotal.shape[0]\n",
    "plt.plot(range(lo,hi),list(CAISO_Wind.P_Cap[lo:hi]))"
   ]
  },
  {
   "cell_type": "code",
   "execution_count": 28,
   "metadata": {
    "collapsed": false
   },
   "outputs": [
    {
     "data": {
      "text/plain": [
       "[<matplotlib.lines.Line2D at 0x1082163d0>]"
      ]
     },
     "execution_count": 28,
     "metadata": {},
     "output_type": "execute_result"
    },
    {
     "data": {
      "image/png": "[encoded data removed]",
      "text/plain": [
       "<matplotlib.figure.Figure at 0x107e00e10>"
      ]
     },
     "metadata": {},
     "output_type": "display_data"
    }
   ],
   "source": [
    "#Plot of all WindTotal data\n",
    "lo = 1000\n",
    "hi = 1240\n",
    "plt.plot(range(lo,hi),list(CAISO_Wind.P_Cap[lo:hi]))"
   ]
  },
  {
   "cell_type": "markdown",
   "metadata": {},
   "source": [
    "##Load NOAA Data"
   ]
  },
  {
   "cell_type": "code",
   "execution_count": 29,
   "metadata": {
    "collapsed": true
   },
   "outputs": [],
   "source": [
    "#Lists all the files in the data folder\n",
    "\n",
    "file_list_CAMPO = glob.glob('data/NOAA_WeatherData/NOAA_files/CAMPO/*.html')\n",
    "file_list_Livermore = glob.glob('data/NOAA_WeatherData/NOAA_files/LivermoreMuniApt/*.html')\n",
    "file_list_PSIA = glob.glob('data/NOAA_WeatherData/NOAA_files/PalmSpringsIntlApt/*.html')\n",
    "file_list_PortChicago = glob.glob('data/NOAA_WeatherData/NOAA_files/PortChicago/*.html')\n",
    "file_list_Redding = glob.glob('data/NOAA_WeatherData/NOAA_files/ReddingMuniApt/*.html')\n",
    "file_list_Tehachapi = glob.glob('data/NOAA_WeatherData/NOAA_files/TehachapiMunicipal/*.html')"
   ]
  },
  {
   "cell_type": "code",
   "execution_count": 30,
   "metadata": {
    "collapsed": false
   },
   "outputs": [
    {
     "data": {
      "text/plain": [
       "[62, 62, 62, 62, 62, 62]"
      ]
     },
     "execution_count": 30,
     "metadata": {},
     "output_type": "execute_result"
    }
   ],
   "source": [
    "#All file lists should have 62 elements.  One for each month 4/2010 - 5/2015 inclusive.\n",
    "\n",
    "[len(file_list_CAMPO),\n",
    "len(file_list_Livermore),\n",
    "len(file_list_PSIA),\n",
    "len(file_list_PortChicago),\n",
    "len(file_list_Redding),\n",
    "len(file_list_Tehachapi)]"
   ]
  },
  {
   "cell_type": "code",
   "execution_count": 31,
   "metadata": {
    "collapsed": true
   },
   "outputs": [],
   "source": [
    "#Programatically load NOAA station observation data into pd.DataFrame with appropriately\n",
    "#named columns.  These DataFrames will be concatinated later, so column names should be\n",
    "#unique.\n",
    "\n",
    "#file_list is a list of files to be loaded, NOAAStation is a str to be concatinated \n",
    "#with the column titles.  Returns a pd.DataFrame.\n",
    "\n",
    "def loadNOAAData(file_list, NOAAStation):\n",
    "    \n",
    "    DataHolder = pd.DataFrame([])\n",
    "    \n",
    "    #Load HTML file into DataHolder\n",
    "    for f in file_list:\n",
    "        data_raw = pd.read_html(f)\n",
    "        data_raw = pd.DataFrame(data_raw[1])\n",
    "        data_raw.columns = data_raw.iloc[0,:]\n",
    "        data_raw = data_raw.iloc[2:,:]\n",
    "        data_raw = data_raw[['YR--MODAHRMN','DIR',\n",
    "                        'SPD','GUS','TEMP','DEWP','SLP','STP']]\n",
    "        DataHolder = pd.concat([DataHolder, data_raw], axis = 0)\n",
    "    \n",
    "    #Deal with NAN and non-sensical data entries\n",
    "    DataHolder.SPD = DataHolder.SPD.replace('***',0) #numerical\n",
    "    DataHolder.GUS = DataHolder.GUS.replace('***',0) #numerical\n",
    "    DataHolder.DIR = DataHolder.DIR.replace(['***','990'],['No_Wind','DIR_Not_Reported']) #class\n",
    "    DataHolder.STP = DataHolder.STP.replace(['****','******'],[np.nan, np.nan]) #numerical\n",
    "    DataHolder.SLP = DataHolder.SLP.replace(['****','******'],[np.nan, np.nan]) #numerical\n",
    "    DataHolder.TEMP = DataHolder.TEMP.replace('****', np.nan) #numerical\n",
    "    DataHolder.DEWP = DataHolder.DEWP.replace('****', np.nan) #numerical\n",
    "    \n",
    "    #Change dtypes to those appropriate for modeling\n",
    "    DataHolder['YR--MODAHRMN'] = DataHolder['YR--MODAHRMN'].astype(int)\n",
    "    DataHolder.SPD = DataHolder.SPD.astype(int)\n",
    "    DataHolder.GUS = DataHolder.GUS.astype(int)\n",
    "    DataHolder.DIR = DataHolder.DIR.astype(str)\n",
    "    DataHolder.STP = DataHolder.STP.astype(float)\n",
    "    DataHolder.SLP = DataHolder.SLP.astype(float)\n",
    "    DataHolder.TEMP = DataHolder.TEMP.astype(float)\n",
    "    DataHolder.DEWP = DataHolder.DEWP.astype(float)\n",
    "    \n",
    "    #Rename columns to unique headdings\n",
    "    DataHolder.columns = [NOAAStation + '_INDEX',NOAAStation + '_Wind_Dir',\n",
    "                          NOAAStation + '_Wind_Spd',NOAAStation + '_Gust_Spd',\n",
    "                          NOAAStation + '_Temp',NOAAStation + '_Dew_Pt',\n",
    "                          NOAAStation + '_SLP',NOAAStation + '_StaP']\n",
    "    \n",
    "    DataHolder = DataHolder.dropna() #Drop all rows with any NA values\n",
    "    \n",
    "    #Round to the nearest hour, and then drop all instances for which there is more than one observation\n",
    "    DataHolder[NOAAStation + '_INDEX'] = [np.round(x,-2)//100 for x in DataHolder[NOAAStation + '_INDEX']]\n",
    "    DataHolder = DataHolder.drop_duplicates(subset = NOAAStation + '_INDEX')\n",
    "    \n",
    "    #Reindex the \n",
    "    DataHolder.index = DataHolder[NOAAStation + '_INDEX'].astype(int)\n",
    "\n",
    "    print 'loadNOAAData(' + NOAAStation + ') Completed.'\n",
    "    return DataHolder"
   ]
  },
  {
   "cell_type": "code",
   "execution_count": 32,
   "metadata": {
    "collapsed": true
   },
   "outputs": [],
   "source": [
    "#This function is nearly identical to the one above, but excludes Station Pressue and Dew Point data from the \n",
    "#loaded columns because these data were not reported for Port Chicago Station.  \n",
    "\n",
    "def loadNOAAData_PortChicago(file_list, NOAAStation):\n",
    "    \n",
    "    DataHolder = pd.DataFrame([])\n",
    "    \n",
    "    #Load HTML file into DataHolder\n",
    "    for f in file_list:\n",
    "        data_raw = pd.read_html(f)\n",
    "        data_raw = pd.DataFrame(data_raw[1])\n",
    "        data_raw.columns = data_raw.iloc[0,:]\n",
    "        data_raw = data_raw.iloc[2:,:]\n",
    "        data_raw = data_raw[['YR--MODAHRMN','DIR',\n",
    "                        'SPD','GUS','TEMP','SLP']]\n",
    "        DataHolder = pd.concat([DataHolder, data_raw], axis = 0)\n",
    "    \n",
    "    #Deal with NAN and non-sensical data entries\n",
    "    DataHolder.SPD = DataHolder.SPD.replace('***',0) #numerical\n",
    "    DataHolder.GUS = DataHolder.GUS.replace('***',0) #numerical\n",
    "    DataHolder.DIR = DataHolder.DIR.replace(['***','990'],['No_Wind','DIR_Not_Reported']) #class\n",
    "    DataHolder.SLP = DataHolder.SLP.replace(['****','******'],[np.nan, np.nan]) #numerical\n",
    "    DataHolder.TEMP = DataHolder.TEMP.replace('****', np.nan) #numerical\n",
    "    \n",
    "    DataHolder['YR--MODAHRMN'] = DataHolder['YR--MODAHRMN'].astype(int)\n",
    "    DataHolder.SPD = DataHolder.SPD.astype(int)\n",
    "    DataHolder.GUS = DataHolder.GUS.astype(int)\n",
    "    DataHolder.DIR = DataHolder.DIR.astype(str)\n",
    "    DataHolder.SLP = DataHolder.SLP.astype(float)\n",
    "    DataHolder.TEMP = DataHolder.TEMP.astype(float)\n",
    "    \n",
    "    #Rename columns to unique headdings\n",
    "    DataHolder.columns = [NOAAStation + '_INDEX',NOAAStation + '_Wind_Dir',\n",
    "                          NOAAStation + '_Wind_Spd',NOAAStation + '_Gust_Spd',\n",
    "                          NOAAStation + '_Temp',\n",
    "                          NOAAStation + '_SLP']\n",
    "    \n",
    "    DataHolder = DataHolder.dropna() #Drop all rows with any NA values\n",
    "    \n",
    "    #Round to the nearest hour, and then drop all instances for which there is more than one observation\n",
    "    DataHolder[NOAAStation + '_INDEX'] = [np.round(x,-2)//100 + 1 for x in DataHolder[NOAAStation + '_INDEX']]\n",
    "    DataHolder = DataHolder.drop_duplicates(subset = NOAAStation + '_INDEX')\n",
    "    \n",
    "    #Reindex the \n",
    "    DataHolder.index = DataHolder[NOAAStation + '_INDEX'].astype(int)\n",
    "    \n",
    "    print 'loadNOAAData(' + NOAAStation + ') Completed.'\n",
    "    return DataHolder"
   ]
  },
  {
   "cell_type": "code",
   "execution_count": 33,
   "metadata": {
    "collapsed": false,
    "scrolled": true
   },
   "outputs": [
    {
     "name": "stdout",
     "output_type": "stream",
     "text": [
      "loadNOAAData(CAMPO) Completed.\n",
      "loadNOAAData(Livermore) Completed.\n",
      "loadNOAAData(PSIA) Completed.\n",
      "loadNOAAData(Redding) Completed.\n",
      "loadNOAAData(Tehachapi) Completed.\n",
      "loadNOAAData(PortChicago) Completed.\n",
      "\n",
      "COMPLETED LOADING ALL DATA\n",
      "Elapsed time = 218 seconds.\n"
     ]
    }
   ],
   "source": [
    "#This cell loads all NOAA station data, it takes a while to run. (~3min on my laptop)\n",
    "\n",
    "Start = time.time()\n",
    "\n",
    "NOAA_Data_CAMPO = loadNOAAData(file_list_CAMPO, 'CAMPO')\n",
    "NOAA_Data_Livermore = loadNOAAData(file_list_Livermore, 'Livermore')\n",
    "NOAA_Data_PSIA = loadNOAAData(file_list_PSIA, 'PSIA')\n",
    "NOAA_Data_Redding = loadNOAAData(file_list_CAMPO, 'Redding')\n",
    "NOAA_Data_Tehachapi = loadNOAAData(file_list_CAMPO, 'Tehachapi')\n",
    "\n",
    "#Port Chicago treated seperately because Station Pressure and Dew Point were never reported\n",
    "NOAA_Data_PortChicago = loadNOAAData_PortChicago(file_list_PortChicago, 'PortChicago')\n",
    "\n",
    "print \"\"\n",
    "print \"COMPLETED LOADING ALL DATA\"\n",
    "print \"Elapsed time = \" + str(int(time.time()-Start)) + \" seconds.\""
   ]
  },
  {
   "cell_type": "code",
   "execution_count": 34,
   "metadata": {
    "collapsed": false
   },
   "outputs": [
    {
     "data": {
      "text/html": [
       "<div>\n",
       "<table border=\"1\" class=\"dataframe\">\n",
       "  <thead>\n",
       "    <tr style=\"text-align: right;\">\n",
       "      <th></th>\n",
       "      <th>Num_Non-Unique_Rows</th>\n",
       "    </tr>\n",
       "  </thead>\n",
       "  <tbody>\n",
       "    <tr>\n",
       "      <th>CAMPO</th>\n",
       "      <td>0</td>\n",
       "    </tr>\n",
       "    <tr>\n",
       "      <th>Livermore</th>\n",
       "      <td>0</td>\n",
       "    </tr>\n",
       "    <tr>\n",
       "      <th>PSIA</th>\n",
       "      <td>0</td>\n",
       "    </tr>\n",
       "    <tr>\n",
       "      <th>Redding</th>\n",
       "      <td>0</td>\n",
       "    </tr>\n",
       "    <tr>\n",
       "      <th>Tehachapi</th>\n",
       "      <td>0</td>\n",
       "    </tr>\n",
       "    <tr>\n",
       "      <th>PortChicago</th>\n",
       "      <td>0</td>\n",
       "    </tr>\n",
       "  </tbody>\n",
       "</table>\n",
       "</div>"
      ],
      "text/plain": [
       "             Num_Non-Unique_Rows\n",
       "CAMPO                          0\n",
       "Livermore                      0\n",
       "PSIA                           0\n",
       "Redding                        0\n",
       "Tehachapi                      0\n",
       "PortChicago                    0"
      ]
     },
     "execution_count": 34,
     "metadata": {},
     "output_type": "execute_result"
    }
   ],
   "source": [
    "pd.DataFrame([\n",
    "        [NOAA_Data_CAMPO.shape[0] - NOAA_Data_CAMPO.index.unique().shape[0]], \n",
    " [NOAA_Data_Livermore.shape[0] - NOAA_Data_Livermore.index.unique().shape[0]], \n",
    " [NOAA_Data_PSIA.shape[0] - NOAA_Data_PSIA.index.unique().shape[0]],\n",
    " [NOAA_Data_PortChicago.shape[0] - NOAA_Data_PortChicago.index.unique().shape[0]],\n",
    " [NOAA_Data_Redding.shape[0] - NOAA_Data_Redding.index.unique().shape[0]],\n",
    " [NOAA_Data_Tehachapi.shape[0] - NOAA_Data_Tehachapi.index.unique().shape[0]]], \n",
    "             columns = ['Num_Non-Unique_Rows'], index = ['CAMPO','Livermore','PSIA','Redding','Tehachapi','PortChicago'])"
   ]
  },
  {
   "cell_type": "code",
   "execution_count": 35,
   "metadata": {
    "collapsed": true
   },
   "outputs": [],
   "source": [
    "DATA = pd.concat([NOAA_Data_CAMPO, NOAA_Data_Livermore, NOAA_Data_PSIA, \n",
    "                  NOAA_Data_PortChicago, NOAA_Data_Redding, NOAA_Data_Tehachapi, CAISO_Wind], axis = 1)"
   ]
  },
  {
   "cell_type": "code",
   "execution_count": 36,
   "metadata": {
    "collapsed": false
   },
   "outputs": [],
   "source": [
    "DATA = DATA.dropna()"
   ]
  },
  {
   "cell_type": "code",
   "execution_count": 37,
   "metadata": {
    "collapsed": false
   },
   "outputs": [
    {
     "data": {
      "text/plain": [
       "(43063, 54)"
      ]
     },
     "execution_count": 37,
     "metadata": {},
     "output_type": "execute_result"
    }
   ],
   "source": [
    "DATA.shape"
   ]
  },
  {
   "cell_type": "markdown",
   "metadata": {},
   "source": [
    "##Sinusoidal Year"
   ]
  },
  {
   "cell_type": "code",
   "execution_count": 40,
   "metadata": {
    "collapsed": false
   },
   "outputs": [],
   "source": [
    "Sun_lat = 35.0\n",
    "Sun_long = -118.3"
   ]
  },
  {
   "cell_type": "code",
   "execution_count": 41,
   "metadata": {
    "collapsed": false
   },
   "outputs": [],
   "source": [
    "DATA.YEAR = DATA.YEAR.astype(int)\n",
    "DATA.MONTH = DATA.MONTH.astype(int)\n",
    "DATA.DAY = DATA.DAY.astype(int)\n",
    "DATA.HOUR = DATA.HOUR.astype(int)"
   ]
  },
  {
   "cell_type": "code",
   "execution_count": 42,
   "metadata": {
    "collapsed": false
   },
   "outputs": [],
   "source": [
    "DATA = DATA.drop(range(2012022901,2012022925))"
   ]
  },
  {
   "cell_type": "code",
   "execution_count": 43,
   "metadata": {
    "collapsed": false
   },
   "outputs": [],
   "source": [
    "DATA['Max_Sun_Angle'] = np.nan\n",
    "MSA = DATA.Max_Sun_Angle"
   ]
  },
  {
   "cell_type": "code",
   "execution_count": null,
   "metadata": {
    "collapsed": false
   },
   "outputs": [],
   "source": []
  },
  {
   "cell_type": "code",
   "execution_count": 48,
   "metadata": {
    "collapsed": false,
    "scrolled": true
   },
   "outputs": [
    {
     "name": "stderr",
     "output_type": "stream",
     "text": [
      "/Users/pmeleney/anaconda/lib/python2.7/site-packages/IPython/kernel/__main__.py:8: SettingWithCopyWarning: \n",
      "A value is trying to be set on a copy of a slice from a DataFrame\n",
      "\n",
      "See the the caveats in the documentation: http://pandas.pydata.org/pandas-docs/stable/indexing.html#indexing-view-versus-copy\n"
     ]
    }
   ],
   "source": [
    "for i in DATA.index:\n",
    "    if DATA.HOUR.loc[i] == 1:\n",
    "        SunAngle = []\n",
    "        for hour in range(0,23):\n",
    "            SunAngle.append(Pysolar.solar.GetAltitude(Sun_lat, Sun_long, datetime.datetime(DATA.YEAR[i], DATA.MONTH[i], \n",
    "                                                                                          DATA.DAY[i], hour, 0, 0, 0)))\n",
    "    \n",
    "        MSA[i] = max(SunAngle)\n",
    "\n",
    "DATA.Max_Sun_Angle = MSA"
   ]
  },
  {
   "cell_type": "code",
   "execution_count": 53,
   "metadata": {
    "collapsed": false
   },
   "outputs": [],
   "source": [
    "#CAISO_Wind.Total_Capacity = CAISO_Wind.Total_Capacity.fillna(method = 'ffill')\n",
    "DATA.Max_Sun_Angle = DATA.Max_Sun_Angle.fillna(method = 'ffill')"
   ]
  },
  {
   "cell_type": "code",
   "execution_count": 62,
   "metadata": {
    "collapsed": false
   },
   "outputs": [
    {
     "data": {
      "text/plain": [
       "[<matplotlib.lines.Line2D at 0x10ef9df10>]"
      ]
     },
     "execution_count": 62,
     "metadata": {},
     "output_type": "execute_result"
    },
    {
     "data": {
      "image/png": "[encoded data removed]",
      "text/plain": [
       "<matplotlib.figure.Figure at 0x1098c5690>"
      ]
     },
     "metadata": {},
     "output_type": "display_data"
    }
   ],
   "source": [
    "#Plot of all WindTotal data\n",
    "lo = 0\n",
    "hi = DATA.shape[0]\n",
    "plt.plot(range(lo,hi),list(DATA.Max_Sun_Angle[lo:hi]))"
   ]
  },
  {
   "cell_type": "code",
   "execution_count": 64,
   "metadata": {
    "collapsed": false
   },
   "outputs": [
    {
     "data": {
      "text/html": [
       "<div>\n",
       "<table border=\"1\" class=\"dataframe\">\n",
       "  <thead>\n",
       "    <tr style=\"text-align: right;\">\n",
       "      <th></th>\n",
       "      <th>CAMPO_INDEX</th>\n",
       "      <th>CAMPO_Wind_Dir</th>\n",
       "      <th>CAMPO_Wind_Spd</th>\n",
       "      <th>CAMPO_Gust_Spd</th>\n",
       "      <th>CAMPO_Temp</th>\n",
       "      <th>CAMPO_Dew_Pt</th>\n",
       "      <th>CAMPO_SLP</th>\n",
       "      <th>CAMPO_StaP</th>\n",
       "      <th>Livermore_INDEX</th>\n",
       "      <th>Livermore_Wind_Dir</th>\n",
       "      <th>...</th>\n",
       "      <th>Tehachapi_StaP</th>\n",
       "      <th>INDEX</th>\n",
       "      <th>WindTotal</th>\n",
       "      <th>YEAR</th>\n",
       "      <th>MONTH</th>\n",
       "      <th>DAY</th>\n",
       "      <th>HOUR</th>\n",
       "      <th>Total_Capacity</th>\n",
       "      <th>P_Cap</th>\n",
       "      <th>Max_Sun_Angle</th>\n",
       "    </tr>\n",
       "  </thead>\n",
       "  <tbody>\n",
       "    <tr>\n",
       "      <th>2011081701</th>\n",
       "      <td>2011081701</td>\n",
       "      <td>280</td>\n",
       "      <td>14</td>\n",
       "      <td>0</td>\n",
       "      <td>90</td>\n",
       "      <td>31</td>\n",
       "      <td>1009.9</td>\n",
       "      <td>921.0</td>\n",
       "      <td>2011081701</td>\n",
       "      <td>300</td>\n",
       "      <td>...</td>\n",
       "      <td>921.0</td>\n",
       "      <td>2011081701</td>\n",
       "      <td>1830</td>\n",
       "      <td>2011</td>\n",
       "      <td>8</td>\n",
       "      <td>17</td>\n",
       "      <td>1</td>\n",
       "      <td>3360.88</td>\n",
       "      <td>0.544500</td>\n",
       "      <td>68.326983</td>\n",
       "    </tr>\n",
       "    <tr>\n",
       "      <th>2015031107</th>\n",
       "      <td>2015031107</td>\n",
       "      <td>050</td>\n",
       "      <td>5</td>\n",
       "      <td>0</td>\n",
       "      <td>44</td>\n",
       "      <td>31</td>\n",
       "      <td>1015.5</td>\n",
       "      <td>925.1</td>\n",
       "      <td>2015031107</td>\n",
       "      <td>270</td>\n",
       "      <td>...</td>\n",
       "      <td>925.1</td>\n",
       "      <td>2015031107</td>\n",
       "      <td>422</td>\n",
       "      <td>2015</td>\n",
       "      <td>3</td>\n",
       "      <td>11</td>\n",
       "      <td>7</td>\n",
       "      <td>5829.53</td>\n",
       "      <td>0.072390</td>\n",
       "      <td>51.405317</td>\n",
       "    </tr>\n",
       "    <tr>\n",
       "      <th>2013121305</th>\n",
       "      <td>2013121305</td>\n",
       "      <td>050</td>\n",
       "      <td>7</td>\n",
       "      <td>0</td>\n",
       "      <td>34</td>\n",
       "      <td>24</td>\n",
       "      <td>1021.2</td>\n",
       "      <td>928.8</td>\n",
       "      <td>2013121305</td>\n",
       "      <td>No_Wind</td>\n",
       "      <td>...</td>\n",
       "      <td>928.8</td>\n",
       "      <td>2013121305</td>\n",
       "      <td>1125</td>\n",
       "      <td>2013</td>\n",
       "      <td>12</td>\n",
       "      <td>13</td>\n",
       "      <td>5</td>\n",
       "      <td>5491.33</td>\n",
       "      <td>0.204868</td>\n",
       "      <td>31.757574</td>\n",
       "    </tr>\n",
       "    <tr>\n",
       "      <th>2010061109</th>\n",
       "      <td>2010061109</td>\n",
       "      <td>No_Wind</td>\n",
       "      <td>0</td>\n",
       "      <td>0</td>\n",
       "      <td>47</td>\n",
       "      <td>45</td>\n",
       "      <td>1008.2</td>\n",
       "      <td>918.5</td>\n",
       "      <td>2010061109</td>\n",
       "      <td>180</td>\n",
       "      <td>...</td>\n",
       "      <td>918.5</td>\n",
       "      <td>2010061109</td>\n",
       "      <td>1251</td>\n",
       "      <td>2010</td>\n",
       "      <td>6</td>\n",
       "      <td>11</td>\n",
       "      <td>9</td>\n",
       "      <td>2479.58</td>\n",
       "      <td>0.504521</td>\n",
       "      <td>78.021152</td>\n",
       "    </tr>\n",
       "    <tr>\n",
       "      <th>2014012411</th>\n",
       "      <td>2014012411</td>\n",
       "      <td>060</td>\n",
       "      <td>16</td>\n",
       "      <td>24</td>\n",
       "      <td>59</td>\n",
       "      <td>13</td>\n",
       "      <td>1017.7</td>\n",
       "      <td>927.3</td>\n",
       "      <td>2014012411</td>\n",
       "      <td>No_Wind</td>\n",
       "      <td>...</td>\n",
       "      <td>927.3</td>\n",
       "      <td>2014012411</td>\n",
       "      <td>790</td>\n",
       "      <td>2014</td>\n",
       "      <td>1</td>\n",
       "      <td>24</td>\n",
       "      <td>11</td>\n",
       "      <td>5491.33</td>\n",
       "      <td>0.143863</td>\n",
       "      <td>35.932925</td>\n",
       "    </tr>\n",
       "    <tr>\n",
       "      <th>2012091602</th>\n",
       "      <td>2012091602</td>\n",
       "      <td>050</td>\n",
       "      <td>9</td>\n",
       "      <td>0</td>\n",
       "      <td>79</td>\n",
       "      <td>38</td>\n",
       "      <td>1013.7</td>\n",
       "      <td>924.4</td>\n",
       "      <td>2012091602</td>\n",
       "      <td>300</td>\n",
       "      <td>...</td>\n",
       "      <td>924.4</td>\n",
       "      <td>2012091602</td>\n",
       "      <td>1199</td>\n",
       "      <td>2012</td>\n",
       "      <td>9</td>\n",
       "      <td>16</td>\n",
       "      <td>2</td>\n",
       "      <td>4380.38</td>\n",
       "      <td>0.273721</td>\n",
       "      <td>57.131195</td>\n",
       "    </tr>\n",
       "    <tr>\n",
       "      <th>2012020710</th>\n",
       "      <td>2012020710</td>\n",
       "      <td>060</td>\n",
       "      <td>11</td>\n",
       "      <td>0</td>\n",
       "      <td>50</td>\n",
       "      <td>18</td>\n",
       "      <td>1011.8</td>\n",
       "      <td>921.6</td>\n",
       "      <td>2012020710</td>\n",
       "      <td>No_Wind</td>\n",
       "      <td>...</td>\n",
       "      <td>921.6</td>\n",
       "      <td>2012020710</td>\n",
       "      <td>325</td>\n",
       "      <td>2012</td>\n",
       "      <td>2</td>\n",
       "      <td>7</td>\n",
       "      <td>10</td>\n",
       "      <td>3811.58</td>\n",
       "      <td>0.085266</td>\n",
       "      <td>39.690237</td>\n",
       "    </tr>\n",
       "    <tr>\n",
       "      <th>2011071812</th>\n",
       "      <td>2011071812</td>\n",
       "      <td>050</td>\n",
       "      <td>3</td>\n",
       "      <td>0</td>\n",
       "      <td>50</td>\n",
       "      <td>36</td>\n",
       "      <td>1009.4</td>\n",
       "      <td>920.4</td>\n",
       "      <td>2011071812</td>\n",
       "      <td>No_Wind</td>\n",
       "      <td>...</td>\n",
       "      <td>920.4</td>\n",
       "      <td>2011071812</td>\n",
       "      <td>379</td>\n",
       "      <td>2011</td>\n",
       "      <td>7</td>\n",
       "      <td>18</td>\n",
       "      <td>12</td>\n",
       "      <td>3360.88</td>\n",
       "      <td>0.112768</td>\n",
       "      <td>75.975665</td>\n",
       "    </tr>\n",
       "    <tr>\n",
       "      <th>2010090217</th>\n",
       "      <td>2010090217</td>\n",
       "      <td>No_Wind</td>\n",
       "      <td>0</td>\n",
       "      <td>0</td>\n",
       "      <td>90</td>\n",
       "      <td>37</td>\n",
       "      <td>1009.4</td>\n",
       "      <td>921.0</td>\n",
       "      <td>2010090217</td>\n",
       "      <td>No_Wind</td>\n",
       "      <td>...</td>\n",
       "      <td>921.0</td>\n",
       "      <td>2010090217</td>\n",
       "      <td>22</td>\n",
       "      <td>2010</td>\n",
       "      <td>9</td>\n",
       "      <td>2</td>\n",
       "      <td>17</td>\n",
       "      <td>2479.58</td>\n",
       "      <td>0.008872</td>\n",
       "      <td>62.684752</td>\n",
       "    </tr>\n",
       "    <tr>\n",
       "      <th>2015041114</th>\n",
       "      <td>2015041114</td>\n",
       "      <td>030</td>\n",
       "      <td>3</td>\n",
       "      <td>0</td>\n",
       "      <td>36</td>\n",
       "      <td>33</td>\n",
       "      <td>1012.6</td>\n",
       "      <td>921.3</td>\n",
       "      <td>2015041114</td>\n",
       "      <td>No_Wind</td>\n",
       "      <td>...</td>\n",
       "      <td>921.3</td>\n",
       "      <td>2015041114</td>\n",
       "      <td>2359</td>\n",
       "      <td>2015</td>\n",
       "      <td>4</td>\n",
       "      <td>11</td>\n",
       "      <td>14</td>\n",
       "      <td>5829.53</td>\n",
       "      <td>0.404664</td>\n",
       "      <td>63.395747</td>\n",
       "    </tr>\n",
       "  </tbody>\n",
       "</table>\n",
       "<p>10 rows × 55 columns</p>\n",
       "</div>"
      ],
      "text/plain": [
       "            CAMPO_INDEX CAMPO_Wind_Dir  CAMPO_Wind_Spd  CAMPO_Gust_Spd  \\\n",
       "2011081701   2011081701            280              14               0   \n",
       "2015031107   2015031107            050               5               0   \n",
       "2013121305   2013121305            050               7               0   \n",
       "2010061109   2010061109        No_Wind               0               0   \n",
       "2014012411   2014012411            060              16              24   \n",
       "2012091602   2012091602            050               9               0   \n",
       "2012020710   2012020710            060              11               0   \n",
       "2011071812   2011071812            050               3               0   \n",
       "2010090217   2010090217        No_Wind               0               0   \n",
       "2015041114   2015041114            030               3               0   \n",
       "\n",
       "            CAMPO_Temp  CAMPO_Dew_Pt  CAMPO_SLP  CAMPO_StaP  Livermore_INDEX  \\\n",
       "2011081701          90            31     1009.9       921.0       2011081701   \n",
       "2015031107          44            31     1015.5       925.1       2015031107   \n",
       "2013121305          34            24     1021.2       928.8       2013121305   \n",
       "2010061109          47            45     1008.2       918.5       2010061109   \n",
       "2014012411          59            13     1017.7       927.3       2014012411   \n",
       "2012091602          79            38     1013.7       924.4       2012091602   \n",
       "2012020710          50            18     1011.8       921.6       2012020710   \n",
       "2011071812          50            36     1009.4       920.4       2011071812   \n",
       "2010090217          90            37     1009.4       921.0       2010090217   \n",
       "2015041114          36            33     1012.6       921.3       2015041114   \n",
       "\n",
       "           Livermore_Wind_Dir      ...        Tehachapi_StaP       INDEX  \\\n",
       "2011081701                300      ...                 921.0  2011081701   \n",
       "2015031107                270      ...                 925.1  2015031107   \n",
       "2013121305            No_Wind      ...                 928.8  2013121305   \n",
       "2010061109                180      ...                 918.5  2010061109   \n",
       "2014012411            No_Wind      ...                 927.3  2014012411   \n",
       "2012091602                300      ...                 924.4  2012091602   \n",
       "2012020710            No_Wind      ...                 921.6  2012020710   \n",
       "2011071812            No_Wind      ...                 920.4  2011071812   \n",
       "2010090217            No_Wind      ...                 921.0  2010090217   \n",
       "2015041114            No_Wind      ...                 921.3  2015041114   \n",
       "\n",
       "            WindTotal  YEAR  MONTH  DAY  HOUR Total_Capacity     P_Cap  \\\n",
       "2011081701       1830  2011      8   17     1        3360.88  0.544500   \n",
       "2015031107        422  2015      3   11     7        5829.53  0.072390   \n",
       "2013121305       1125  2013     12   13     5        5491.33  0.204868   \n",
       "2010061109       1251  2010      6   11     9        2479.58  0.504521   \n",
       "2014012411        790  2014      1   24    11        5491.33  0.143863   \n",
       "2012091602       1199  2012      9   16     2        4380.38  0.273721   \n",
       "2012020710        325  2012      2    7    10        3811.58  0.085266   \n",
       "2011071812        379  2011      7   18    12        3360.88  0.112768   \n",
       "2010090217         22  2010      9    2    17        2479.58  0.008872   \n",
       "2015041114       2359  2015      4   11    14        5829.53  0.404664   \n",
       "\n",
       "            Max_Sun_Angle  \n",
       "2011081701      68.326983  \n",
       "2015031107      51.405317  \n",
       "2013121305      31.757574  \n",
       "2010061109      78.021152  \n",
       "2014012411      35.932925  \n",
       "2012091602      57.131195  \n",
       "2012020710      39.690237  \n",
       "2011071812      75.975665  \n",
       "2010090217      62.684752  \n",
       "2015041114      63.395747  \n",
       "\n",
       "[10 rows x 55 columns]"
      ]
     },
     "execution_count": 64,
     "metadata": {},
     "output_type": "execute_result"
    }
   ],
   "source": [
    "DATA.sample(10)"
   ]
  },
  {
   "cell_type": "code",
   "execution_count": 71,
   "metadata": {
    "collapsed": false
   },
   "outputs": [],
   "source": [
    "IndexList = ['INDEX', 'CAMPO_INDEX', 'Livermore_INDEX', 'PSIA_INDEX', 'PortChicago_INDEX', 'Redding_INDEX', 'Tehachapi_INDEX']\n",
    "\n",
    "for col in IndexList:\n",
    "    if col in DATA.columns:\n",
    "        DATA = DATA.drop(col, axis = 1)"
   ]
  },
  {
   "cell_type": "code",
   "execution_count": 72,
   "metadata": {
    "collapsed": false
   },
   "outputs": [
    {
     "data": {
      "text/html": [
       "<div>\n",
       "<table border=\"1\" class=\"dataframe\">\n",
       "  <thead>\n",
       "    <tr style=\"text-align: right;\">\n",
       "      <th></th>\n",
       "      <th>CAMPO_Wind_Dir</th>\n",
       "      <th>CAMPO_Wind_Spd</th>\n",
       "      <th>CAMPO_Gust_Spd</th>\n",
       "      <th>CAMPO_Temp</th>\n",
       "      <th>CAMPO_Dew_Pt</th>\n",
       "      <th>CAMPO_SLP</th>\n",
       "      <th>CAMPO_StaP</th>\n",
       "      <th>Livermore_Wind_Dir</th>\n",
       "      <th>Livermore_Wind_Spd</th>\n",
       "      <th>Livermore_Gust_Spd</th>\n",
       "      <th>...</th>\n",
       "      <th>Tehachapi_SLP</th>\n",
       "      <th>Tehachapi_StaP</th>\n",
       "      <th>WindTotal</th>\n",
       "      <th>YEAR</th>\n",
       "      <th>MONTH</th>\n",
       "      <th>DAY</th>\n",
       "      <th>HOUR</th>\n",
       "      <th>Total_Capacity</th>\n",
       "      <th>P_Cap</th>\n",
       "      <th>Max_Sun_Angle</th>\n",
       "    </tr>\n",
       "  </thead>\n",
       "  <tbody>\n",
       "    <tr>\n",
       "      <th>2010042001</th>\n",
       "      <td>260</td>\n",
       "      <td>10</td>\n",
       "      <td>0</td>\n",
       "      <td>67</td>\n",
       "      <td>49</td>\n",
       "      <td>1011.2</td>\n",
       "      <td>921.0</td>\n",
       "      <td>280</td>\n",
       "      <td>16</td>\n",
       "      <td>0</td>\n",
       "      <td>...</td>\n",
       "      <td>1011.2</td>\n",
       "      <td>921.0</td>\n",
       "      <td>632</td>\n",
       "      <td>2010</td>\n",
       "      <td>4</td>\n",
       "      <td>20</td>\n",
       "      <td>1</td>\n",
       "      <td>2479.58</td>\n",
       "      <td>0.254882</td>\n",
       "      <td>66.629337</td>\n",
       "    </tr>\n",
       "    <tr>\n",
       "      <th>2010042002</th>\n",
       "      <td>230</td>\n",
       "      <td>9</td>\n",
       "      <td>0</td>\n",
       "      <td>62</td>\n",
       "      <td>50</td>\n",
       "      <td>1011.7</td>\n",
       "      <td>921.3</td>\n",
       "      <td>270</td>\n",
       "      <td>10</td>\n",
       "      <td>0</td>\n",
       "      <td>...</td>\n",
       "      <td>1011.7</td>\n",
       "      <td>921.3</td>\n",
       "      <td>632</td>\n",
       "      <td>2010</td>\n",
       "      <td>4</td>\n",
       "      <td>20</td>\n",
       "      <td>2</td>\n",
       "      <td>2479.58</td>\n",
       "      <td>0.254882</td>\n",
       "      <td>66.629337</td>\n",
       "    </tr>\n",
       "    <tr>\n",
       "      <th>2010042003</th>\n",
       "      <td>No_Wind</td>\n",
       "      <td>0</td>\n",
       "      <td>0</td>\n",
       "      <td>57</td>\n",
       "      <td>50</td>\n",
       "      <td>1012.3</td>\n",
       "      <td>921.9</td>\n",
       "      <td>330</td>\n",
       "      <td>3</td>\n",
       "      <td>0</td>\n",
       "      <td>...</td>\n",
       "      <td>1012.3</td>\n",
       "      <td>921.9</td>\n",
       "      <td>677</td>\n",
       "      <td>2010</td>\n",
       "      <td>4</td>\n",
       "      <td>20</td>\n",
       "      <td>3</td>\n",
       "      <td>2479.58</td>\n",
       "      <td>0.273030</td>\n",
       "      <td>66.629337</td>\n",
       "    </tr>\n",
       "    <tr>\n",
       "      <th>2010042004</th>\n",
       "      <td>No_Wind</td>\n",
       "      <td>0</td>\n",
       "      <td>0</td>\n",
       "      <td>54</td>\n",
       "      <td>50</td>\n",
       "      <td>1012.6</td>\n",
       "      <td>922.3</td>\n",
       "      <td>No_Wind</td>\n",
       "      <td>0</td>\n",
       "      <td>0</td>\n",
       "      <td>...</td>\n",
       "      <td>1012.6</td>\n",
       "      <td>922.3</td>\n",
       "      <td>923</td>\n",
       "      <td>2010</td>\n",
       "      <td>4</td>\n",
       "      <td>20</td>\n",
       "      <td>4</td>\n",
       "      <td>2479.58</td>\n",
       "      <td>0.372240</td>\n",
       "      <td>66.629337</td>\n",
       "    </tr>\n",
       "    <tr>\n",
       "      <th>2010042005</th>\n",
       "      <td>No_Wind</td>\n",
       "      <td>0</td>\n",
       "      <td>0</td>\n",
       "      <td>51</td>\n",
       "      <td>49</td>\n",
       "      <td>1012.9</td>\n",
       "      <td>922.6</td>\n",
       "      <td>No_Wind</td>\n",
       "      <td>0</td>\n",
       "      <td>0</td>\n",
       "      <td>...</td>\n",
       "      <td>1012.9</td>\n",
       "      <td>922.6</td>\n",
       "      <td>875</td>\n",
       "      <td>2010</td>\n",
       "      <td>4</td>\n",
       "      <td>20</td>\n",
       "      <td>5</td>\n",
       "      <td>2479.58</td>\n",
       "      <td>0.352882</td>\n",
       "      <td>66.629337</td>\n",
       "    </tr>\n",
       "  </tbody>\n",
       "</table>\n",
       "<p>5 rows × 48 columns</p>\n",
       "</div>"
      ],
      "text/plain": [
       "           CAMPO_Wind_Dir  CAMPO_Wind_Spd  CAMPO_Gust_Spd  CAMPO_Temp  \\\n",
       "2010042001            260              10               0          67   \n",
       "2010042002            230               9               0          62   \n",
       "2010042003        No_Wind               0               0          57   \n",
       "2010042004        No_Wind               0               0          54   \n",
       "2010042005        No_Wind               0               0          51   \n",
       "\n",
       "            CAMPO_Dew_Pt  CAMPO_SLP  CAMPO_StaP Livermore_Wind_Dir  \\\n",
       "2010042001            49     1011.2       921.0                280   \n",
       "2010042002            50     1011.7       921.3                270   \n",
       "2010042003            50     1012.3       921.9                330   \n",
       "2010042004            50     1012.6       922.3            No_Wind   \n",
       "2010042005            49     1012.9       922.6            No_Wind   \n",
       "\n",
       "            Livermore_Wind_Spd  Livermore_Gust_Spd      ...        \\\n",
       "2010042001                  16                   0      ...         \n",
       "2010042002                  10                   0      ...         \n",
       "2010042003                   3                   0      ...         \n",
       "2010042004                   0                   0      ...         \n",
       "2010042005                   0                   0      ...         \n",
       "\n",
       "            Tehachapi_SLP  Tehachapi_StaP  WindTotal  YEAR MONTH  DAY  HOUR  \\\n",
       "2010042001         1011.2           921.0        632  2010     4   20     1   \n",
       "2010042002         1011.7           921.3        632  2010     4   20     2   \n",
       "2010042003         1012.3           921.9        677  2010     4   20     3   \n",
       "2010042004         1012.6           922.3        923  2010     4   20     4   \n",
       "2010042005         1012.9           922.6        875  2010     4   20     5   \n",
       "\n",
       "            Total_Capacity     P_Cap  Max_Sun_Angle  \n",
       "2010042001         2479.58  0.254882      66.629337  \n",
       "2010042002         2479.58  0.254882      66.629337  \n",
       "2010042003         2479.58  0.273030      66.629337  \n",
       "2010042004         2479.58  0.372240      66.629337  \n",
       "2010042005         2479.58  0.352882      66.629337  \n",
       "\n",
       "[5 rows x 48 columns]"
      ]
     },
     "execution_count": 72,
     "metadata": {},
     "output_type": "execute_result"
    }
   ],
   "source": [
    "DATA.head()"
   ]
  },
  {
   "cell_type": "code",
   "execution_count": 73,
   "metadata": {
    "collapsed": false
   },
   "outputs": [
    {
     "data": {
      "text/plain": [
       "Index([u'CAMPO_Wind_Dir', u'CAMPO_Wind_Spd', u'CAMPO_Gust_Spd', u'CAMPO_Temp',\n",
       "       u'CAMPO_Dew_Pt', u'CAMPO_SLP', u'CAMPO_StaP', u'Livermore_Wind_Dir',\n",
       "       u'Livermore_Wind_Spd', u'Livermore_Gust_Spd', u'Livermore_Temp',\n",
       "       u'Livermore_Dew_Pt', u'Livermore_SLP', u'Livermore_StaP',\n",
       "       u'PSIA_Wind_Dir', u'PSIA_Wind_Spd', u'PSIA_Gust_Spd', u'PSIA_Temp',\n",
       "       u'PSIA_Dew_Pt', u'PSIA_SLP', u'PSIA_StaP', u'PortChicago_Wind_Dir',\n",
       "       u'PortChicago_Wind_Spd', u'PortChicago_Gust_Spd', u'PortChicago_Temp',\n",
       "       u'PortChicago_SLP', u'Redding_Wind_Dir', u'Redding_Wind_Spd',\n",
       "       u'Redding_Gust_Spd', u'Redding_Temp', u'Redding_Dew_Pt', u'Redding_SLP',\n",
       "       u'Redding_StaP', u'Tehachapi_Wind_Dir', u'Tehachapi_Wind_Spd',\n",
       "       u'Tehachapi_Gust_Spd', u'Tehachapi_Temp', u'Tehachapi_Dew_Pt',\n",
       "       u'Tehachapi_SLP', u'Tehachapi_StaP', u'WindTotal', u'YEAR', u'MONTH',\n",
       "       u'DAY', u'HOUR', u'Total_Capacity', u'P_Cap', u'Max_Sun_Angle'],\n",
       "      dtype='object')"
      ]
     },
     "execution_count": 73,
     "metadata": {},
     "output_type": "execute_result"
    }
   ],
   "source": [
    "DATA.columns"
   ]
  },
  {
   "cell_type": "code",
   "execution_count": 75,
   "metadata": {
    "collapsed": false
   },
   "outputs": [],
   "source": [
    "DATA.to_csv('Data.csv')"
   ]
  },
  {
   "cell_type": "code",
   "execution_count": null,
   "metadata": {
    "collapsed": true
   },
   "outputs": [],
   "source": []
  }
 ],
 "metadata": {
  "kernelspec": {
   "display_name": "Python 2",
   "language": "python",
   "name": "python2"
  },
  "language_info": {
   "codemirror_mode": {
    "name": "ipython",
    "version": 2
   },
   "file_extension": ".py",
   "mimetype": "text/x-python",
   "name": "python",
   "nbconvert_exporter": "python",
   "pygments_lexer": "ipython2",
   "version": "2.7.10"
  }
 },
 "nbformat": 4,
 "nbformat_minor": 0
}
